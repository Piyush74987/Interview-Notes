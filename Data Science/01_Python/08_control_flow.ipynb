{
 "cells": [
  {
   "cell_type": "code",
   "execution_count": null,
   "id": "f4fa142e-a87c-4776-872f-088d07a28c63",
   "metadata": {},
   "outputs": [],
   "source": [
    "# there are many types of control flow statements\n",
    "# 1] if elif and else"
   ]
  },
  {
   "cell_type": "code",
   "execution_count": null,
   "id": "99342359-0e13-408e-bb4c-1641eae12636",
   "metadata": {},
   "outputs": [],
   "source": [
    "# if elif and else"
   ]
  },
  {
   "cell_type": "code",
   "execution_count": 2,
   "id": "6c1aaf14-5ded-4d67-82c7-b6ea802cebf9",
   "metadata": {},
   "outputs": [
    {
     "name": "stdout",
     "output_type": "stream",
     "text": [
      "a is bigger\n"
     ]
    }
   ],
   "source": [
    "a=5\n",
    "\n",
    "if a>2:\n",
    "    print(\"a is bigger\")"
   ]
  },
  {
   "cell_type": "code",
   "execution_count": 3,
   "id": "0b4d2dcc-9f66-4410-88ed-f0f611759bcf",
   "metadata": {},
   "outputs": [],
   "source": [
    "a=1\n",
    "\n",
    "if a>2:\n",
    "    print(\"a is bigger\")\n",
    "    \n",
    "# in if statement only if it is not true then no ans but no error also  "
   ]
  },
  {
   "cell_type": "code",
   "execution_count": 4,
   "id": "ec565925-b9ad-42b1-bd6c-94d97f3dbb29",
   "metadata": {},
   "outputs": [
    {
     "name": "stdout",
     "output_type": "stream",
     "text": [
      "a is bigger\n"
     ]
    }
   ],
   "source": [
    "a=3\n",
    "\n",
    "if a <1:\n",
    "    print(\"a is smaller\")\n",
    "else :\n",
    "    print (\"a is bigger\")"
   ]
  },
  {
   "cell_type": "code",
   "execution_count": 6,
   "id": "8bffdc9e-c3ce-47a9-876e-13e873a1e70e",
   "metadata": {},
   "outputs": [
    {
     "name": "stdout",
     "output_type": "stream",
     "text": [
      "c is largest number\n"
     ]
    }
   ],
   "source": [
    "a=3\n",
    "b=5\n",
    "c=8\n",
    "\n",
    "if a>b and a>c:\n",
    "    print(\"a is largest number\")\n",
    "elif b>a and b>c:\n",
    "    print(\"b is largest number\")\n",
    "else :\n",
    "    print(\"c is largest number\")\n",
    "    "
   ]
  },
  {
   "cell_type": "code",
   "execution_count": 9,
   "id": "bbc5bded-6369-4504-bf71-a55d29e57f2a",
   "metadata": {},
   "outputs": [
    {
     "name": "stdout",
     "output_type": "stream",
     "text": [
      "c is largest number\n"
     ]
    }
   ],
   "source": [
    "a=3\n",
    "b=5\n",
    "c=9\n",
    "\n",
    "if a>b and a>c:\n",
    "    print(\"a is largest number\")\n",
    "elif b>a and b>c:\n",
    "    print(\"b is largest number\")\n",
    "elif c>a and c>b:\n",
    "    print(\"c is largest number\")\n",
    "else:\n",
    "    print(\"there is some error\")\n",
    "    "
   ]
  },
  {
   "cell_type": "code",
   "execution_count": 10,
   "id": "cd4a2b57-61e5-48cc-8cac-ea258eb0bea2",
   "metadata": {},
   "outputs": [
    {
     "name": "stdout",
     "output_type": "stream",
     "text": [
      "there is some error\n"
     ]
    }
   ],
   "source": [
    "a=3\n",
    "b=5\n",
    "c=5\n",
    "\n",
    "if a>b and a>c:\n",
    "    print(\"a is largest number\")\n",
    "elif b>a and b>c:\n",
    "    print(\"b is largest number\")\n",
    "elif c>a and c>b:\n",
    "    print(\"c is largest number\")\n",
    "else:\n",
    "    print(\"there is some error\")\n",
    "    "
   ]
  },
  {
   "cell_type": "code",
   "execution_count": null,
   "id": "10922531-1d97-4487-8077-4dfb5d53ec1e",
   "metadata": {},
   "outputs": [],
   "source": [
    "# for loops "
   ]
  },
  {
   "cell_type": "code",
   "execution_count": 1,
   "id": "349f4043-f2a6-490f-a732-3c2ed1cc8a0c",
   "metadata": {},
   "outputs": [
    {
     "name": "stdout",
     "output_type": "stream",
     "text": [
      "p\n",
      "i\n",
      "y\n",
      "u\n",
      "s\n",
      "h\n"
     ]
    }
   ],
   "source": [
    "s=\"piyush\"  # for loop for string\n",
    "\n",
    "for i in s:\n",
    "    print(i)"
   ]
  },
  {
   "cell_type": "code",
   "execution_count": 2,
   "id": "0cdc25a2-44ae-412d-bb6d-6787e0ece257",
   "metadata": {},
   "outputs": [
    {
     "name": "stdout",
     "output_type": "stream",
     "text": [
      "1\n",
      "2\n",
      "3\n",
      "4\n",
      "5\n",
      "6\n",
      "7\n",
      "8\n",
      "9\n",
      "10\n",
      "[1, 2, 3, 4, 5, 6, 7, 8, 9, 10]\n"
     ]
    }
   ],
   "source": [
    "l=[1,2,3,4,5,6,7,8,9,10] # for loop for num\n",
    "\n",
    "for num in l :\n",
    "    print (num)\n",
    "print(l)"
   ]
  },
  {
   "cell_type": "code",
   "execution_count": 6,
   "id": "3df4176d-1544-40a3-bbe4-5befc9d86796",
   "metadata": {},
   "outputs": [
    {
     "name": "stdout",
     "output_type": "stream",
     "text": [
      "1 <class 'int'>\n",
      "2 <class 'int'>\n",
      "3 <class 'int'>\n",
      "4.5 <class 'float'>\n",
      "6.6 <class 'float'>\n",
      "(1+5j) <class 'complex'>\n",
      "piyush <class 'str'>\n"
     ]
    }
   ],
   "source": [
    "l=[1,2,3,4.5,6.6,1+5j,\"piyush\"] # for loop for both string and mum\n",
    "\n",
    "\n",
    "for i in l:\n",
    "    print(i,type(i))"
   ]
  },
  {
   "cell_type": "code",
   "execution_count": 3,
   "id": "1da32109-59ab-436c-bf60-05ff991cc5ba",
   "metadata": {},
   "outputs": [
    {
     "name": "stdout",
     "output_type": "stream",
     "text": [
      "It is a odd number 1\n",
      "It is a even number 2\n",
      "It is a odd number 3\n",
      "It is a even number 4\n",
      "It is a odd number 5\n",
      "It is a even number 6\n",
      "It is a odd number 7\n",
      "It is a even number 8\n",
      "It is a odd number 9\n",
      "It is a even number 10\n"
     ]
    }
   ],
   "source": [
    "l=[1,2,3,4,5,6,7,8,9,10]\n",
    "\n",
    "\n",
    "for i in l:\n",
    "    if i%2==0:\n",
    "        print(f\"It is a even number {i}\")\n",
    "    else:\n",
    "        print(f\"It is a odd number {i}\")\n"
   ]
  },
  {
   "cell_type": "code",
   "execution_count": 4,
   "id": "06af8a01-e8f0-450a-a6d8-afe22bcbe515",
   "metadata": {},
   "outputs": [
    {
     "name": "stdout",
     "output_type": "stream",
     "text": [
      "1\n",
      "3\n",
      "6\n",
      "10\n",
      "15\n",
      "21\n",
      "28\n",
      "36\n",
      "45\n",
      "55\n",
      "55\n"
     ]
    }
   ],
   "source": [
    "l=[1,2,3,4,5,6,7,8,9,10]\n",
    "l1=0 \n",
    "\n",
    "for i in l:\n",
    "    l1=l1+i\n",
    "    print(l1) # inside the loop\n",
    "    \n",
    "print(l1) # outside the loop"
   ]
  },
  {
   "cell_type": "code",
   "execution_count": 5,
   "id": "438cb643-9c43-4e93-9396-ad3bb1b3b6e9",
   "metadata": {},
   "outputs": [
    {
     "name": "stdout",
     "output_type": "stream",
     "text": [
      "1\n",
      "2\n",
      "3\n",
      "4\n"
     ]
    }
   ],
   "source": [
    "# for loop in tuple\n",
    "\n",
    "t=(1,2,3,4)\n",
    "\n",
    "for num in t:\n",
    "    print(num)"
   ]
  },
  {
   "cell_type": "code",
   "execution_count": 8,
   "id": "4c1251af-1e6f-4e8b-b80a-7337e421b86a",
   "metadata": {},
   "outputs": [
    {
     "name": "stdout",
     "output_type": "stream",
     "text": [
      "3\n",
      "(1, 2)\n",
      "(3, 4)\n",
      "(5, 6)\n"
     ]
    }
   ],
   "source": [
    "t1=((1,2),(3,4),(5,6))\n",
    "\n",
    "print(len(t1))\n",
    "\n",
    "for i in t1:\n",
    "    print(i)"
   ]
  },
  {
   "cell_type": "code",
   "execution_count": 14,
   "id": "a2ef1ec5-9917-463a-b7d9-a6efcb8b8948",
   "metadata": {},
   "outputs": [
    {
     "name": "stdout",
     "output_type": "stream",
     "text": [
      "1\n",
      "3\n",
      "5\n",
      "----------------------------------------------------\n",
      "2\n",
      "4\n",
      "6\n"
     ]
    }
   ],
   "source": [
    "for a,b in t1:\n",
    "    print(a)\n",
    "\n",
    "print(\"----------------------------------------------------\")  \n",
    "for a,b in t1:\n",
    "    print(b)"
   ]
  },
  {
   "cell_type": "code",
   "execution_count": 20,
   "id": "f4e75ad0-f4bb-497c-8cdb-f118e5f0015c",
   "metadata": {},
   "outputs": [
    {
     "name": "stdout",
     "output_type": "stream",
     "text": [
      "A\n",
      "B\n",
      "c\n",
      "----------------------------------------------------\n",
      "('A', 1)\n",
      "('B', 2)\n",
      "('c', 3)\n",
      "----------------------------------------------------\n",
      "A\n",
      "B\n",
      "c\n",
      "----------------------------------------------------\n",
      "1\n",
      "2\n",
      "3\n",
      "----------------------------------------------------\n",
      "A\n",
      "B\n",
      "c\n",
      "----------------------------------------------------\n",
      "1\n",
      "2\n",
      "3\n"
     ]
    }
   ],
   "source": [
    "d={\"A\":1,\"B\":2,\"c\":3}\n",
    "\n",
    "for num in d:\n",
    "    print (num)\n",
    "    \n",
    "print(\"----------------------------------------------------\")  \n",
    "\n",
    "for num in d.items():\n",
    "    print(num)\n",
    "    \n",
    "print(\"----------------------------------------------------\") \n",
    "\n",
    "\n",
    "for num in d.keys():\n",
    "    print(num)\n",
    "    \n",
    "print(\"----------------------------------------------------\") \n",
    "\n",
    "for num in d.values():\n",
    "    print(num)\n",
    "    \n",
    "print(\"----------------------------------------------------\") \n",
    "\n",
    "for keys,value in d.items():\n",
    "    print(keys)\n",
    "    \n",
    "print(\"----------------------------------------------------\") \n",
    "\n",
    "for keys,value in d.items():\n",
    "    print(value)"
   ]
  },
  {
   "cell_type": "code",
   "execution_count": null,
   "id": "c16731f4-296f-4de6-b187-0764c7a59892",
   "metadata": {},
   "outputs": [],
   "source": [
    "# for i range ()\n",
    "# The range() function returns a sequence of numbers, starting from 0 by default, and increments by 1 (by default),\n",
    "# and stops before a specified number.\n",
    "# range(start, stop, step)\n"
   ]
  },
  {
   "cell_type": "code",
   "execution_count": 21,
   "id": "98c1bd6d-0bad-4355-8def-ef006c9d227b",
   "metadata": {},
   "outputs": [
    {
     "name": "stdout",
     "output_type": "stream",
     "text": [
      "0\n",
      "1\n",
      "2\n",
      "3\n",
      "4\n",
      "5\n",
      "6\n",
      "7\n",
      "8\n",
      "9\n",
      "10\n",
      "11\n"
     ]
    }
   ],
   "source": [
    "for i in range (12):\n",
    "    print (i)"
   ]
  },
  {
   "cell_type": "code",
   "execution_count": 13,
   "id": "4cbd6909-fca3-427f-9288-cf8df38da3f1",
   "metadata": {},
   "outputs": [
    {
     "name": "stdout",
     "output_type": "stream",
     "text": [
      "my number is 3\n",
      "my number is 4\n",
      "my number is 5\n",
      "my number is 6\n",
      "my number is 7\n",
      "my number is 8\n",
      "my number is 9\n",
      "my number is 10\n",
      "my number is 11\n"
     ]
    }
   ],
   "source": [
    "for i in range (3,12):\n",
    "    print(f\"my number is {i}\")"
   ]
  },
  {
   "cell_type": "code",
   "execution_count": 23,
   "id": "52702bcd-0067-4e93-acd3-44261a99a7fd",
   "metadata": {},
   "outputs": [
    {
     "name": "stdout",
     "output_type": "stream",
     "text": [
      "my number is 3\n",
      "my number is 6\n",
      "my number is 9\n",
      "my number is 12\n",
      "my number is 15\n",
      "my number is 18\n",
      "my number is 21\n",
      "my number is 24\n",
      "my number is 27\n",
      "my number is 30\n"
     ]
    }
   ],
   "source": [
    "for i in range (3,31,3):\n",
    "    print(f\"my number is {i}\")"
   ]
  },
  {
   "cell_type": "code",
   "execution_count": 14,
   "id": "0c180e45-f8a4-4619-a688-12d242dc6bbd",
   "metadata": {},
   "outputs": [
    {
     "name": "stdout",
     "output_type": "stream",
     "text": [
      "my number is 0\n",
      "my number is 1\n",
      "my number is 2\n",
      "my number is 4\n",
      "my number is 5\n",
      "my number is 6\n",
      "my number is 7\n",
      "my number is 8\n",
      "my number is 9\n",
      "my number is 10\n",
      "my number is 11\n"
     ]
    }
   ],
   "source": [
    "for i in range (0,12):\n",
    "    if i==3:\n",
    "        continue\n",
    "    print(f\"my number is {i}\")"
   ]
  },
  {
   "cell_type": "code",
   "execution_count": 15,
   "id": "6fa6a5eb-2443-4516-af86-5fb52d66cde0",
   "metadata": {},
   "outputs": [
    {
     "name": "stdout",
     "output_type": "stream",
     "text": [
      "my number is 0\n",
      "my number is 1\n",
      "my number is 2\n"
     ]
    }
   ],
   "source": [
    "for i in range (0,12):\n",
    "    if i==3:\n",
    "        break\n",
    "    print(f\"my number is {i}\")"
   ]
  },
  {
   "cell_type": "code",
   "execution_count": 20,
   "id": "24c9198c-f8b2-4923-8d9f-435488637a58",
   "metadata": {},
   "outputs": [
    {
     "ename": "SyntaxError",
     "evalue": "incomplete input (2666909257.py, line 1)",
     "output_type": "error",
     "traceback": [
      "\u001b[0;36m  Cell \u001b[0;32mIn[20], line 1\u001b[0;36m\u001b[0m\n\u001b[0;31m    for i in range (0,12):\u001b[0m\n\u001b[0m                          ^\u001b[0m\n\u001b[0;31mSyntaxError\u001b[0m\u001b[0;31m:\u001b[0m incomplete input\n"
     ]
    }
   ],
   "source": [
    "for i in range (0,12):"
   ]
  },
  {
   "cell_type": "code",
   "execution_count": 21,
   "id": "2c7ddaf8-16f1-4904-a742-d3c9ff4dfdc7",
   "metadata": {},
   "outputs": [],
   "source": [
    "for i in range (0,12):\n",
    "    pass"
   ]
  },
  {
   "cell_type": "code",
   "execution_count": null,
   "id": "57db93d5-fc51-452b-988c-bcd3eb226919",
   "metadata": {},
   "outputs": [],
   "source": [
    "# while loop"
   ]
  },
  {
   "cell_type": "code",
   "execution_count": 24,
   "id": "d3e4d018-c4cd-4c77-bcea-6107c59e87bb",
   "metadata": {},
   "outputs": [
    {
     "name": "stdout",
     "output_type": "stream",
     "text": [
      "0\n",
      "1\n",
      "2\n",
      "3\n",
      "4\n",
      "5\n",
      "6\n",
      "7\n",
      "8\n",
      "9\n",
      "10\n"
     ]
    }
   ],
   "source": [
    "i=0\n",
    "\n",
    "while i <= 10:\n",
    "    print(i)\n",
    "    i+=1"
   ]
  },
  {
   "cell_type": "code",
   "execution_count": 2,
   "id": "b8358b3b-656b-4c76-8c5a-a971656c6245",
   "metadata": {},
   "outputs": [
    {
     "name": "stdout",
     "output_type": "stream",
     "text": [
      "10\n",
      "9\n",
      "8\n",
      "7\n",
      "6\n",
      "5\n"
     ]
    }
   ],
   "source": [
    "x=10\n",
    "\n",
    "while x >=5:\n",
    "    print(x)\n",
    "    x-=1"
   ]
  },
  {
   "cell_type": "code",
   "execution_count": 3,
   "id": "2d26fc93-ffb7-457d-8525-feab960d2e36",
   "metadata": {},
   "outputs": [
    {
     "name": "stdout",
     "output_type": "stream",
     "text": [
      "10\n",
      "9\n",
      "8\n"
     ]
    }
   ],
   "source": [
    "x=10\n",
    "\n",
    "while x >=5:\n",
    "    if x==7:\n",
    "        break\n",
    "    print(x)\n",
    "    x-=1"
   ]
  },
  {
   "cell_type": "code",
   "execution_count": null,
   "id": "d14c76f7-2109-4fd9-8205-467d67b2c926",
   "metadata": {},
   "outputs": [
    {
     "name": "stdout",
     "output_type": "stream",
     "text": [
      "0\n",
      "1\n",
      "2\n",
      "3\n",
      "4\n",
      "5\n",
      "6\n",
      "7\n"
     ]
    }
   ],
   "source": [
    "i=0\n",
    "\n",
    "while i <= 10:\n",
    "    if i==8:\n",
    "        continue\n",
    "    print(i)\n",
    "    i+=1"
   ]
  },
  {
   "cell_type": "code",
   "execution_count": 34,
   "id": "5338f226-7f2d-45f3-8125-7b2f96000d17",
   "metadata": {},
   "outputs": [],
   "source": [
    "# list  comprehensions \n",
    "\n",
    "l1=[x for x in range(0,11)]"
   ]
  },
  {
   "cell_type": "code",
   "execution_count": 35,
   "id": "e1a07ab7-45e1-4538-8786-4906967cc4c3",
   "metadata": {},
   "outputs": [
    {
     "data": {
      "text/plain": [
       "[0, 1, 2, 3, 4, 5, 6, 7, 8, 9, 10]"
      ]
     },
     "execution_count": 35,
     "metadata": {},
     "output_type": "execute_result"
    }
   ],
   "source": [
    "l1"
   ]
  },
  {
   "cell_type": "code",
   "execution_count": 2,
   "id": "b3f9275e-057f-4822-9218-a63e8cd1fb65",
   "metadata": {},
   "outputs": [
    {
     "name": "stdout",
     "output_type": "stream",
     "text": [
      "['M', 'e', 's', 's', 'i']\n"
     ]
    }
   ],
   "source": [
    "s=\"Messi\"\n",
    "\n",
    "l1=[str for str in s]\n",
    "\n",
    "print(l1)"
   ]
  },
  {
   "cell_type": "code",
   "execution_count": 4,
   "id": "b0fd8bbe-0684-4f47-864e-085f8cdf6bd4",
   "metadata": {},
   "outputs": [
    {
     "name": "stdout",
     "output_type": "stream",
     "text": [
      "[0, 2, 4, 6, 8, 10]\n"
     ]
    }
   ],
   "source": [
    "l2=[num for num in range (0,11) if num%2==0]\n",
    "print(l2)"
   ]
  },
  {
   "cell_type": "code",
   "execution_count": 6,
   "id": "98339b66-f633-4419-9c26-4c0ee411fc88",
   "metadata": {},
   "outputs": [
    {
     "name": "stdout",
     "output_type": "stream",
     "text": [
      "[0, 4, 16, 36, 64, 100]\n"
     ]
    }
   ],
   "source": [
    "l2=[num**2 for num in range (0,11) if num%2==0]\n",
    "print(l2)"
   ]
  },
  {
   "cell_type": "code",
   "execution_count": 10,
   "id": "b6349f64-7ef6-4639-8bd9-5e53d9b84334",
   "metadata": {},
   "outputs": [
    {
     "name": "stdout",
     "output_type": "stream",
     "text": [
      "[0, 'odd number 1', 2, 'odd number 3', 4, 'odd number 5', 6, 'odd number 7', 8, 'odd number 9', 10]\n"
     ]
    }
   ],
   "source": [
    "l2=[num if num%2==0 else f\"odd number {num}\" for num in range (0,11)]\n",
    "print(l2)"
   ]
  },
  {
   "cell_type": "code",
   "execution_count": 11,
   "id": "52e232af-571c-4d06-a1e9-043ed888db2b",
   "metadata": {},
   "outputs": [
    {
     "ename": "SyntaxError",
     "evalue": "expected 'else' after 'if' expression (256838715.py, line 3)",
     "output_type": "error",
     "traceback": [
      "\u001b[0;36m  Cell \u001b[0;32mIn[11], line 3\u001b[0;36m\u001b[0m\n\u001b[0;31m    l2=[x if x%2 ==0 for x in l1 ]\u001b[0m\n\u001b[0m        ^\u001b[0m\n\u001b[0;31mSyntaxError\u001b[0m\u001b[0;31m:\u001b[0m expected 'else' after 'if' expression\n"
     ]
    }
   ],
   "source": [
    "l1=[33,55,32,5,44,555,943,423,444,924,1000,222,43]\n",
    "\n",
    "l2=[x if x%2 ==0 for x in l1 ]"
   ]
  },
  {
   "cell_type": "code",
   "execution_count": 13,
   "id": "ffaafaed-a0a8-485d-bc9d-c9b6a5819350",
   "metadata": {},
   "outputs": [
    {
     "name": "stdout",
     "output_type": "stream",
     "text": [
      "[32, 44, 444, 924, 1000, 222]\n"
     ]
    }
   ],
   "source": [
    "l1=[33,55,32,5,44,555,943,423,444,924,1000,222,43]\n",
    "\n",
    "l2=[x  for x in l1 if x%2==0 ] # for if statemnt only write this way\n",
    "print(l2)"
   ]
  },
  {
   "cell_type": "code",
   "execution_count": null,
   "id": "2fac19ba-ee8d-4ee6-a617-a47bb9385fc0",
   "metadata": {},
   "outputs": [],
   "source": []
  }
 ],
 "metadata": {
  "kernelspec": {
   "display_name": "Python 3 (ipykernel)",
   "language": "python",
   "name": "python3"
  },
  "language_info": {
   "codemirror_mode": {
    "name": "ipython",
    "version": 3
   },
   "file_extension": ".py",
   "mimetype": "text/x-python",
   "name": "python",
   "nbconvert_exporter": "python",
   "pygments_lexer": "ipython3",
   "version": "3.10.8"
  }
 },
 "nbformat": 4,
 "nbformat_minor": 5
}
