{
 "cells": [
  {
   "cell_type": "markdown",
   "id": "e5a6abb0-6617-4398-9f17-cda13ce3206f",
   "metadata": {},
   "source": [
    "# Tuple\n",
    "## Tuples are used to store multiple items in a single variable.\n",
    "## Tuple is one of 4 built-in data types in Python used to store collections of data, the other 3 are List, Set, and Dictionary, all with different qualities and usage.\n",
    "## A tuple is a collection which is ordered and unchangeable.\n",
    "## Tuples are written with round brackets."
   ]
  },
  {
   "cell_type": "markdown",
   "id": "c8596704-a116-46e6-a594-e99052d91222",
   "metadata": {},
   "source": [
    "t=()"
   ]
  },
  {
   "cell_type": "code",
   "execution_count": 3,
   "id": "bed5eac4-dc6e-45ae-8d74-2e9f7573a5a5",
   "metadata": {},
   "outputs": [],
   "source": [
    "t=()"
   ]
  },
  {
   "cell_type": "code",
   "execution_count": 4,
   "id": "b7b30560-0b36-4165-94ba-e83f7322443a",
   "metadata": {},
   "outputs": [
    {
     "data": {
      "text/plain": [
       "tuple"
      ]
     },
     "execution_count": 4,
     "metadata": {},
     "output_type": "execute_result"
    }
   ],
   "source": [
    "type(t)"
   ]
  },
  {
   "cell_type": "code",
   "execution_count": 5,
   "id": "19569aaa-6e53-453d-9e89-75c46fd6ba97",
   "metadata": {},
   "outputs": [],
   "source": [
    "t=(1,2,3,4)"
   ]
  },
  {
   "cell_type": "code",
   "execution_count": 6,
   "id": "0d6648de-8745-4f74-a026-1182a2ce0003",
   "metadata": {},
   "outputs": [
    {
     "data": {
      "text/plain": [
       "1"
      ]
     },
     "execution_count": 6,
     "metadata": {},
     "output_type": "execute_result"
    }
   ],
   "source": [
    "t.count(2)"
   ]
  },
  {
   "cell_type": "code",
   "execution_count": 7,
   "id": "6b380a0a-9165-48be-b58e-fbd8640843b2",
   "metadata": {},
   "outputs": [
    {
     "data": {
      "text/plain": [
       "0"
      ]
     },
     "execution_count": 7,
     "metadata": {},
     "output_type": "execute_result"
    }
   ],
   "source": [
    "t.index(1)"
   ]
  },
  {
   "cell_type": "code",
   "execution_count": 13,
   "id": "7d65134b-5ec2-4c0b-85f0-0b4cb1e5d33d",
   "metadata": {},
   "outputs": [],
   "source": [
    "t1=(1,4,True,\"piyush\",4.5,1)"
   ]
  },
  {
   "cell_type": "code",
   "execution_count": 14,
   "id": "2f2945c6-3c41-46bf-8809-4563e8b8fe5e",
   "metadata": {},
   "outputs": [
    {
     "data": {
      "text/plain": [
       "1"
      ]
     },
     "execution_count": 14,
     "metadata": {},
     "output_type": "execute_result"
    }
   ],
   "source": [
    "t1.count(\"piyush\")"
   ]
  },
  {
   "cell_type": "code",
   "execution_count": 15,
   "id": "f21e4da3-7930-46e5-b942-3699d86c3552",
   "metadata": {},
   "outputs": [
    {
     "data": {
      "text/plain": [
       "3"
      ]
     },
     "execution_count": 15,
     "metadata": {},
     "output_type": "execute_result"
    }
   ],
   "source": [
    "t1.count(True)# as 1 is true as system stores 1 as true"
   ]
  },
  {
   "cell_type": "code",
   "execution_count": 16,
   "id": "af743db7-ce07-4f0e-89de-621897c90957",
   "metadata": {},
   "outputs": [
    {
     "data": {
      "text/plain": [
       "0"
      ]
     },
     "execution_count": 16,
     "metadata": {},
     "output_type": "execute_result"
    }
   ],
   "source": [
    "t1.index(1)"
   ]
  },
  {
   "cell_type": "code",
   "execution_count": 17,
   "id": "e057d2ab-5475-4ba1-bee2-a9944391a26b",
   "metadata": {},
   "outputs": [],
   "source": [
    "t2=(True,False,1,1,0,0,0,0,1)"
   ]
  },
  {
   "cell_type": "code",
   "execution_count": 18,
   "id": "159f3439-3bf2-4d7c-a627-865d43acd70c",
   "metadata": {},
   "outputs": [
    {
     "data": {
      "text/plain": [
       "0"
      ]
     },
     "execution_count": 18,
     "metadata": {},
     "output_type": "execute_result"
    }
   ],
   "source": [
    "t2.index(1)"
   ]
  },
  {
   "cell_type": "code",
   "execution_count": 19,
   "id": "6a01884f-293b-414b-93b4-6c92c051d1d2",
   "metadata": {},
   "outputs": [
    {
     "data": {
      "text/plain": [
       "4"
      ]
     },
     "execution_count": 19,
     "metadata": {},
     "output_type": "execute_result"
    }
   ],
   "source": [
    "t2.count(True)"
   ]
  },
  {
   "cell_type": "code",
   "execution_count": 20,
   "id": "6abe5828-202d-47c5-ba75-f4bf4f4dd890",
   "metadata": {},
   "outputs": [
    {
     "data": {
      "text/plain": [
       "1"
      ]
     },
     "execution_count": 20,
     "metadata": {},
     "output_type": "execute_result"
    }
   ],
   "source": [
    "t2.index(0)"
   ]
  },
  {
   "cell_type": "code",
   "execution_count": 21,
   "id": "9b1b7128-981e-49da-8ca5-36cfe0db9bd7",
   "metadata": {},
   "outputs": [
    {
     "data": {
      "text/plain": [
       "5"
      ]
     },
     "execution_count": 21,
     "metadata": {},
     "output_type": "execute_result"
    }
   ],
   "source": [
    "t2.count(0)"
   ]
  },
  {
   "cell_type": "code",
   "execution_count": 22,
   "id": "fbe3d0f7-ce35-49e6-a250-0ae013d1cf66",
   "metadata": {},
   "outputs": [
    {
     "data": {
      "text/plain": [
       "(1, 4, True, 'piyush', 4.5, 1)"
      ]
     },
     "execution_count": 22,
     "metadata": {},
     "output_type": "execute_result"
    }
   ],
   "source": [
    "t1"
   ]
  },
  {
   "cell_type": "code",
   "execution_count": 23,
   "id": "312af14d-b987-4858-b32f-96d7e2d13282",
   "metadata": {},
   "outputs": [
    {
     "data": {
      "text/plain": [
       "(1, 4, True, 'piyush', 4.5, 1)"
      ]
     },
     "execution_count": 23,
     "metadata": {},
     "output_type": "execute_result"
    }
   ],
   "source": [
    "t1[0:]"
   ]
  },
  {
   "cell_type": "code",
   "execution_count": 24,
   "id": "9b84ec3b-e63c-4112-8e24-e9a21831f003",
   "metadata": {},
   "outputs": [
    {
     "data": {
      "text/plain": [
       "True"
      ]
     },
     "execution_count": 24,
     "metadata": {},
     "output_type": "execute_result"
    }
   ],
   "source": [
    "t1[2]"
   ]
  },
  {
   "cell_type": "code",
   "execution_count": 25,
   "id": "81417b1a-164b-47da-b62a-51ce86565d5f",
   "metadata": {},
   "outputs": [
    {
     "data": {
      "text/plain": [
       "(1, 4.5, 'piyush', True, 4, 1)"
      ]
     },
     "execution_count": 25,
     "metadata": {},
     "output_type": "execute_result"
    }
   ],
   "source": [
    "t1[::-1]"
   ]
  },
  {
   "cell_type": "code",
   "execution_count": 26,
   "id": "b51c229a-d118-4c24-b33f-37c69f66ac8d",
   "metadata": {},
   "outputs": [
    {
     "ename": "TypeError",
     "evalue": "'tuple' object does not support item assignment",
     "output_type": "error",
     "traceback": [
      "\u001b[0;31m---------------------------------------------------------------------------\u001b[0m",
      "\u001b[0;31mTypeError\u001b[0m                                 Traceback (most recent call last)",
      "Cell \u001b[0;32mIn[26], line 1\u001b[0m\n\u001b[0;32m----> 1\u001b[0m \u001b[43mt1\u001b[49m\u001b[43m[\u001b[49m\u001b[38;5;241;43m0\u001b[39;49m\u001b[43m]\u001b[49m\u001b[38;5;241m=\u001b[39m\u001b[38;5;241m2\u001b[39m\n",
      "\u001b[0;31mTypeError\u001b[0m: 'tuple' object does not support item assignment"
     ]
    }
   ],
   "source": [
    "t1[0]=2 # tuples are immutable"
   ]
  },
  {
   "cell_type": "code",
   "execution_count": 27,
   "id": "cd1d2764-51a7-4463-923d-5340a356548f",
   "metadata": {},
   "outputs": [],
   "source": [
    "del t2"
   ]
  },
  {
   "cell_type": "code",
   "execution_count": 28,
   "id": "dcf26076-20ef-4fe8-b801-f284874dd27a",
   "metadata": {},
   "outputs": [
    {
     "ename": "NameError",
     "evalue": "name 't2' is not defined",
     "output_type": "error",
     "traceback": [
      "\u001b[0;31m---------------------------------------------------------------------------\u001b[0m",
      "\u001b[0;31mNameError\u001b[0m                                 Traceback (most recent call last)",
      "Cell \u001b[0;32mIn[28], line 1\u001b[0m\n\u001b[0;32m----> 1\u001b[0m \u001b[43mt2\u001b[49m\n",
      "\u001b[0;31mNameError\u001b[0m: name 't2' is not defined"
     ]
    }
   ],
   "source": [
    "t2 # is deletd"
   ]
  },
  {
   "cell_type": "code",
   "execution_count": 29,
   "id": "c8c912d9-11d5-4d57-a334-f1caf000a202",
   "metadata": {},
   "outputs": [
    {
     "data": {
      "text/plain": [
       "['__add__',\n",
       " '__class__',\n",
       " '__class_getitem__',\n",
       " '__contains__',\n",
       " '__delattr__',\n",
       " '__dir__',\n",
       " '__doc__',\n",
       " '__eq__',\n",
       " '__format__',\n",
       " '__ge__',\n",
       " '__getattribute__',\n",
       " '__getitem__',\n",
       " '__getnewargs__',\n",
       " '__gt__',\n",
       " '__hash__',\n",
       " '__init__',\n",
       " '__init_subclass__',\n",
       " '__iter__',\n",
       " '__le__',\n",
       " '__len__',\n",
       " '__lt__',\n",
       " '__mul__',\n",
       " '__ne__',\n",
       " '__new__',\n",
       " '__reduce__',\n",
       " '__reduce_ex__',\n",
       " '__repr__',\n",
       " '__rmul__',\n",
       " '__setattr__',\n",
       " '__sizeof__',\n",
       " '__str__',\n",
       " '__subclasshook__',\n",
       " 'count',\n",
       " 'index']"
      ]
     },
     "execution_count": 29,
     "metadata": {},
     "output_type": "execute_result"
    }
   ],
   "source": [
    "dir(t1)"
   ]
  },
  {
   "cell_type": "code",
   "execution_count": 31,
   "id": "1d9019ea-602a-4b2f-ae3a-685c2fd50a07",
   "metadata": {},
   "outputs": [
    {
     "data": {
      "text/plain": [
       "(1, 4, True, 'piyush', 4.5, 1)"
      ]
     },
     "execution_count": 31,
     "metadata": {},
     "output_type": "execute_result"
    }
   ],
   "source": [
    "t1"
   ]
  },
  {
   "cell_type": "code",
   "execution_count": 33,
   "id": "39f1ac98-af37-4a23-9986-62e80ace7327",
   "metadata": {},
   "outputs": [],
   "source": [
    "t2=t1+(\"messi\" , \"pedri\")"
   ]
  },
  {
   "cell_type": "code",
   "execution_count": 34,
   "id": "c48acfe1-0a83-4e2b-aa7b-95ee5b6ad6f3",
   "metadata": {},
   "outputs": [
    {
     "data": {
      "text/plain": [
       "(1, 4, True, 'piyush', 4.5, 1, 'messi', 'pedri')"
      ]
     },
     "execution_count": 34,
     "metadata": {},
     "output_type": "execute_result"
    }
   ],
   "source": [
    "t2"
   ]
  },
  {
   "cell_type": "code",
   "execution_count": 35,
   "id": "67fce356-1419-4e4a-a67d-06d55cbb87e9",
   "metadata": {},
   "outputs": [],
   "source": [
    "t3=(1,2,3,4,56,7,)"
   ]
  },
  {
   "cell_type": "code",
   "execution_count": 40,
   "id": "4e1b34a1-1e5f-423d-89f8-957e7fa6cb21",
   "metadata": {},
   "outputs": [],
   "source": [
    "t4=(t2),(t3) # nested typles"
   ]
  },
  {
   "cell_type": "code",
   "execution_count": 41,
   "id": "4b6704f4-72d8-4991-833e-08d55a436d19",
   "metadata": {},
   "outputs": [
    {
     "data": {
      "text/plain": [
       "((1, 4, True, 'piyush', 4.5, 1, 'messi', 'pedri'), (1, 2, 3, 4, 56, 7))"
      ]
     },
     "execution_count": 41,
     "metadata": {},
     "output_type": "execute_result"
    }
   ],
   "source": [
    "t4"
   ]
  },
  {
   "cell_type": "code",
   "execution_count": 42,
   "id": "991196fa-53d2-4508-9b44-b3c4de7f299a",
   "metadata": {},
   "outputs": [],
   "source": [
    "lst=[2,3,4,5]"
   ]
  },
  {
   "cell_type": "code",
   "execution_count": 43,
   "id": "1ab895bc-2449-42c4-94df-3e4d7084c242",
   "metadata": {},
   "outputs": [],
   "source": [
    "t5=t4,lst # tuple and list are mixed"
   ]
  },
  {
   "cell_type": "code",
   "execution_count": 44,
   "id": "23fac786-2bfd-4f0a-b87f-d4aaaeb8a94d",
   "metadata": {},
   "outputs": [
    {
     "data": {
      "text/plain": [
       "(((1, 4, True, 'piyush', 4.5, 1, 'messi', 'pedri'), (1, 2, 3, 4, 56, 7)),\n",
       " [2, 3, 4, 5])"
      ]
     },
     "execution_count": 44,
     "metadata": {},
     "output_type": "execute_result"
    }
   ],
   "source": [
    "t5"
   ]
  },
  {
   "cell_type": "code",
   "execution_count": 47,
   "id": "54d29e36-b929-4e35-9eed-57151de65b27",
   "metadata": {},
   "outputs": [],
   "source": [
    "lst1=lst,t4 # tuples cant go inside a list but list can go inside a tuple"
   ]
  },
  {
   "cell_type": "code",
   "execution_count": 48,
   "id": "96f532f1-d423-4734-88d0-c8ea3de962d1",
   "metadata": {},
   "outputs": [
    {
     "data": {
      "text/plain": [
       "[2, 3, 4, 5]"
      ]
     },
     "execution_count": 48,
     "metadata": {},
     "output_type": "execute_result"
    }
   ],
   "source": [
    "lst"
   ]
  },
  {
   "cell_type": "code",
   "execution_count": 49,
   "id": "c812cb99-59e4-46df-bf4c-ea2fdaa7851f",
   "metadata": {},
   "outputs": [
    {
     "data": {
      "text/plain": [
       "(((1, 4, True, 'piyush', 4.5, 1, 'messi', 'pedri'), (1, 2, 3, 4, 56, 7)),\n",
       " [2, 3, 4, 5])"
      ]
     },
     "execution_count": 49,
     "metadata": {},
     "output_type": "execute_result"
    }
   ],
   "source": [
    "t5"
   ]
  },
  {
   "cell_type": "code",
   "execution_count": 51,
   "id": "400ad9d9-0479-4a3d-8b92-3c6f5ea69d45",
   "metadata": {},
   "outputs": [
    {
     "data": {
      "text/plain": [
       "(1, 2, 3, 4, 56, 7)"
      ]
     },
     "execution_count": 51,
     "metadata": {},
     "output_type": "execute_result"
    }
   ],
   "source": [
    "t3"
   ]
  },
  {
   "cell_type": "code",
   "execution_count": 52,
   "id": "e54221a0-ec96-45ac-9e98-cea308833b81",
   "metadata": {},
   "outputs": [
    {
     "data": {
      "text/plain": [
       "6"
      ]
     },
     "execution_count": 52,
     "metadata": {},
     "output_type": "execute_result"
    }
   ],
   "source": [
    "len(t3)"
   ]
  },
  {
   "cell_type": "code",
   "execution_count": 53,
   "id": "4cc46528-a618-471d-9cb6-0365d545ce28",
   "metadata": {},
   "outputs": [
    {
     "data": {
      "text/plain": [
       "56"
      ]
     },
     "execution_count": 53,
     "metadata": {},
     "output_type": "execute_result"
    }
   ],
   "source": [
    "max(t3)"
   ]
  },
  {
   "cell_type": "code",
   "execution_count": 54,
   "id": "2bf64a26-90cb-4450-ba0d-943275e4c1fa",
   "metadata": {},
   "outputs": [
    {
     "data": {
      "text/plain": [
       "1"
      ]
     },
     "execution_count": 54,
     "metadata": {},
     "output_type": "execute_result"
    }
   ],
   "source": [
    "min(t3)"
   ]
  },
  {
   "cell_type": "code",
   "execution_count": 57,
   "id": "f127f592-d1b9-49e1-9157-0dc613c0e45b",
   "metadata": {},
   "outputs": [
    {
     "data": {
      "text/plain": [
       "(((1, 4, True, 'piyush', 4.5, 1, 'messi', 'pedri'), (1, 2, 3, 4, 56, 7)),\n",
       " [2, 3, 4, 5])"
      ]
     },
     "execution_count": 57,
     "metadata": {},
     "output_type": "execute_result"
    }
   ],
   "source": [
    "t5"
   ]
  },
  {
   "cell_type": "code",
   "execution_count": 67,
   "id": "c5c5cf16-fc73-4ab6-b73b-36a83d495d36",
   "metadata": {},
   "outputs": [
    {
     "data": {
      "text/plain": [
       "3"
      ]
     },
     "execution_count": 67,
     "metadata": {},
     "output_type": "execute_result"
    }
   ],
   "source": [
    "t5[0][1][2] # there are tuple and list insisde tuple there are two tuples "
   ]
  },
  {
   "cell_type": "code",
   "execution_count": 68,
   "id": "dc02e58e-cb56-4fda-b40d-bf0c834ff2f6",
   "metadata": {},
   "outputs": [
    {
     "data": {
      "text/plain": [
       "True"
      ]
     },
     "execution_count": 68,
     "metadata": {},
     "output_type": "execute_result"
    }
   ],
   "source": [
    "t5[0][0][2]# tuple "
   ]
  },
  {
   "cell_type": "code",
   "execution_count": 69,
   "id": "f1e0f3ca-c2c9-47f2-8c0d-905c6c5c25d2",
   "metadata": {},
   "outputs": [
    {
     "data": {
      "text/plain": [
       "3"
      ]
     },
     "execution_count": 69,
     "metadata": {},
     "output_type": "execute_result"
    }
   ],
   "source": [
    "t5[1][1]# it goes under list"
   ]
  },
  {
   "cell_type": "code",
   "execution_count": 71,
   "id": "f34c7f4c-2f5b-4210-8567-5549d7123645",
   "metadata": {},
   "outputs": [
    {
     "data": {
      "text/plain": [
       "(1, 2, 3, 4, 56, 7)"
      ]
     },
     "execution_count": 71,
     "metadata": {},
     "output_type": "execute_result"
    }
   ],
   "source": [
    "t3"
   ]
  },
  {
   "cell_type": "code",
   "execution_count": 72,
   "id": "f9149b3c-2620-41bc-ae2c-1d868854278a",
   "metadata": {},
   "outputs": [
    {
     "data": {
      "text/plain": [
       "True"
      ]
     },
     "execution_count": 72,
     "metadata": {},
     "output_type": "execute_result"
    }
   ],
   "source": [
    "3 in t3"
   ]
  },
  {
   "cell_type": "code",
   "execution_count": 73,
   "id": "098fbff8-95f7-4c64-9b95-f44d42cb5c37",
   "metadata": {},
   "outputs": [
    {
     "data": {
      "text/plain": [
       "False"
      ]
     },
     "execution_count": 73,
     "metadata": {},
     "output_type": "execute_result"
    }
   ],
   "source": [
    "77 in t3"
   ]
  },
  {
   "cell_type": "code",
   "execution_count": 74,
   "id": "bd60a5da-2db5-4016-b588-c7fce59e2037",
   "metadata": {},
   "outputs": [
    {
     "data": {
      "text/plain": [
       "True"
      ]
     },
     "execution_count": 74,
     "metadata": {},
     "output_type": "execute_result"
    }
   ],
   "source": [
    "77 not in t3"
   ]
  },
  {
   "cell_type": "code",
   "execution_count": 1,
   "id": "ad334bb3-f0c3-41d1-bc64-b3ea7f8ac7bf",
   "metadata": {},
   "outputs": [],
   "source": [
    "t7=(1,2,3)\n"
   ]
  },
  {
   "cell_type": "code",
   "execution_count": 1,
   "id": "4e48efad-8d2e-40c4-a5ae-dcf67e4cc910",
   "metadata": {},
   "outputs": [],
   "source": [
    "t8=(4,5,6)"
   ]
  },
  {
   "cell_type": "code",
   "execution_count": 3,
   "id": "1a57e6d9-2067-45d7-9d74-747e6d461ec0",
   "metadata": {},
   "outputs": [],
   "source": [
    "s1={1,2,3}"
   ]
  },
  {
   "cell_type": "code",
   "execution_count": 4,
   "id": "4b39c8d8-34f2-4054-af60-0d72318e20bc",
   "metadata": {},
   "outputs": [],
   "source": [
    "t9=t7,t8,s1"
   ]
  },
  {
   "cell_type": "code",
   "execution_count": 5,
   "id": "aa0ead83-7885-4ec5-9083-47edda46b9be",
   "metadata": {},
   "outputs": [
    {
     "data": {
      "text/plain": [
       "((1, 2, 3), (4, 5, 6), {1, 2, 3})"
      ]
     },
     "execution_count": 5,
     "metadata": {},
     "output_type": "execute_result"
    }
   ],
   "source": [
    "t9 # set inside a tuple"
   ]
  },
  {
   "cell_type": "code",
   "execution_count": 2,
   "id": "51170016-2c16-4a44-8357-1c9176b7c4ad",
   "metadata": {},
   "outputs": [],
   "source": [
    "d1={\"a\":1,\"b\":2}"
   ]
  },
  {
   "cell_type": "code",
   "execution_count": 3,
   "id": "50f7a333-b048-4b77-bae0-f8a8af3a137b",
   "metadata": {},
   "outputs": [],
   "source": [
    "t10=t8,d1"
   ]
  },
  {
   "cell_type": "code",
   "execution_count": 4,
   "id": "a8952126-5d02-42fc-9dd1-225169aa1ce7",
   "metadata": {},
   "outputs": [
    {
     "data": {
      "text/plain": [
       "((4, 5, 6), {'a': 1, 'b': 2})"
      ]
     },
     "execution_count": 4,
     "metadata": {},
     "output_type": "execute_result"
    }
   ],
   "source": [
    "t10"
   ]
  },
  {
   "cell_type": "code",
   "execution_count": null,
   "id": "c15e9851-f9ab-4c1c-a10e-4cd16996b7ad",
   "metadata": {},
   "outputs": [],
   "source": []
  }
 ],
 "metadata": {
  "kernelspec": {
   "display_name": "Python 3 (ipykernel)",
   "language": "python",
   "name": "python3"
  },
  "language_info": {
   "codemirror_mode": {
    "name": "ipython",
    "version": 3
   },
   "file_extension": ".py",
   "mimetype": "text/x-python",
   "name": "python",
   "nbconvert_exporter": "python",
   "pygments_lexer": "ipython3",
   "version": "3.10.8"
  }
 },
 "nbformat": 4,
 "nbformat_minor": 5
}
