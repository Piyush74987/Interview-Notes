{
 "cells": [
  {
   "cell_type": "markdown",
   "id": "cc8c0eb5-b915-4f00-a905-58cc0d4c929e",
   "metadata": {},
   "source": [
    "# Strings\n",
    "\n",
    "## Strings in python are surrounded by either single quotation marks, or double quotation marks.\n",
    "## 'hello' is the same as \"hello\".\n",
    "## You can display a string literal with the print() function:"
   ]
  },
  {
   "cell_type": "code",
   "execution_count": 5,
   "id": "410884d9-665e-48a7-89a3-e85da1360a0b",
   "metadata": {},
   "outputs": [],
   "source": [
    "a='piyush'"
   ]
  },
  {
   "cell_type": "code",
   "execution_count": 6,
   "id": "1cb63c23-3d0a-47f8-a17e-27d6daf53f03",
   "metadata": {},
   "outputs": [
    {
     "data": {
      "text/plain": [
       "'piyush'"
      ]
     },
     "execution_count": 6,
     "metadata": {},
     "output_type": "execute_result"
    }
   ],
   "source": [
    "a"
   ]
  },
  {
   "cell_type": "code",
   "execution_count": 3,
   "id": "7c0a741e-0292-4353-b6fc-7c93a0e1fb4a",
   "metadata": {},
   "outputs": [],
   "source": [
    "b=\"I am learing data scince\""
   ]
  },
  {
   "cell_type": "code",
   "execution_count": 4,
   "id": "fed220e2-7861-46ec-8262-e6e3cee32047",
   "metadata": {},
   "outputs": [
    {
     "data": {
      "text/plain": [
       "'I am learing data scince'"
      ]
     },
     "execution_count": 4,
     "metadata": {},
     "output_type": "execute_result"
    }
   ],
   "source": [
    "b"
   ]
  },
  {
   "cell_type": "code",
   "execution_count": 7,
   "id": "7eab5d2a-efa7-49c6-8236-2db5952b9b23",
   "metadata": {},
   "outputs": [
    {
     "data": {
      "text/plain": [
       "str"
      ]
     },
     "execution_count": 7,
     "metadata": {},
     "output_type": "execute_result"
    }
   ],
   "source": [
    "type(b)"
   ]
  },
  {
   "cell_type": "code",
   "execution_count": 8,
   "id": "83871024-6ede-49d9-b578-6849093884b0",
   "metadata": {},
   "outputs": [
    {
     "data": {
      "text/plain": [
       "'I'"
      ]
     },
     "execution_count": 8,
     "metadata": {},
     "output_type": "execute_result"
    }
   ],
   "source": [
    "b[0]"
   ]
  },
  {
   "cell_type": "code",
   "execution_count": 9,
   "id": "c1b7db32-cee3-419d-b632-2a2740f5eaad",
   "metadata": {},
   "outputs": [
    {
     "ename": "TypeError",
     "evalue": "'str' object does not support item assignment",
     "output_type": "error",
     "traceback": [
      "\u001b[0;31m---------------------------------------------------------------------------\u001b[0m",
      "\u001b[0;31mTypeError\u001b[0m                                 Traceback (most recent call last)",
      "Cell \u001b[0;32mIn[9], line 2\u001b[0m\n\u001b[1;32m      1\u001b[0m \u001b[38;5;66;03m# string are immutable\u001b[39;00m\n\u001b[0;32m----> 2\u001b[0m \u001b[43mb\u001b[49m\u001b[43m[\u001b[49m\u001b[38;5;241;43m0\u001b[39;49m\u001b[43m]\u001b[49m\u001b[38;5;241m=\u001b[39m\u001b[38;5;124m'\u001b[39m\u001b[38;5;124mu\u001b[39m\u001b[38;5;124m'\u001b[39m\n",
      "\u001b[0;31mTypeError\u001b[0m: 'str' object does not support item assignment"
     ]
    }
   ],
   "source": [
    "# string are immutable\n",
    "b[0]='u'"
   ]
  },
  {
   "cell_type": "code",
   "execution_count": 11,
   "id": "58aa8084-90ca-46a4-a481-75fd088a31fb",
   "metadata": {},
   "outputs": [
    {
     "data": {
      "text/plain": [
       "['__add__',\n",
       " '__class__',\n",
       " '__contains__',\n",
       " '__delattr__',\n",
       " '__dir__',\n",
       " '__doc__',\n",
       " '__eq__',\n",
       " '__format__',\n",
       " '__ge__',\n",
       " '__getattribute__',\n",
       " '__getitem__',\n",
       " '__getnewargs__',\n",
       " '__gt__',\n",
       " '__hash__',\n",
       " '__init__',\n",
       " '__init_subclass__',\n",
       " '__iter__',\n",
       " '__le__',\n",
       " '__len__',\n",
       " '__lt__',\n",
       " '__mod__',\n",
       " '__mul__',\n",
       " '__ne__',\n",
       " '__new__',\n",
       " '__reduce__',\n",
       " '__reduce_ex__',\n",
       " '__repr__',\n",
       " '__rmod__',\n",
       " '__rmul__',\n",
       " '__setattr__',\n",
       " '__sizeof__',\n",
       " '__str__',\n",
       " '__subclasshook__',\n",
       " 'capitalize',\n",
       " 'casefold',\n",
       " 'center',\n",
       " 'count',\n",
       " 'encode',\n",
       " 'endswith',\n",
       " 'expandtabs',\n",
       " 'find',\n",
       " 'format',\n",
       " 'format_map',\n",
       " 'index',\n",
       " 'isalnum',\n",
       " 'isalpha',\n",
       " 'isascii',\n",
       " 'isdecimal',\n",
       " 'isdigit',\n",
       " 'isidentifier',\n",
       " 'islower',\n",
       " 'isnumeric',\n",
       " 'isprintable',\n",
       " 'isspace',\n",
       " 'istitle',\n",
       " 'isupper',\n",
       " 'join',\n",
       " 'ljust',\n",
       " 'lower',\n",
       " 'lstrip',\n",
       " 'maketrans',\n",
       " 'partition',\n",
       " 'removeprefix',\n",
       " 'removesuffix',\n",
       " 'replace',\n",
       " 'rfind',\n",
       " 'rindex',\n",
       " 'rjust',\n",
       " 'rpartition',\n",
       " 'rsplit',\n",
       " 'rstrip',\n",
       " 'split',\n",
       " 'splitlines',\n",
       " 'startswith',\n",
       " 'strip',\n",
       " 'swapcase',\n",
       " 'title',\n",
       " 'translate',\n",
       " 'upper',\n",
       " 'zfill']"
      ]
     },
     "execution_count": 11,
     "metadata": {},
     "output_type": "execute_result"
    }
   ],
   "source": [
    "dir(b)"
   ]
  },
  {
   "cell_type": "code",
   "execution_count": 12,
   "id": "7ff3fba5-91d6-42a5-be61-d6427ad30641",
   "metadata": {},
   "outputs": [
    {
     "data": {
      "text/plain": [
       "'I am learing data scince'"
      ]
     },
     "execution_count": 12,
     "metadata": {},
     "output_type": "execute_result"
    }
   ],
   "source": [
    "b"
   ]
  },
  {
   "cell_type": "code",
   "execution_count": 13,
   "id": "d718bde0-f074-42bb-9a92-dcc514af7bf3",
   "metadata": {},
   "outputs": [
    {
     "data": {
      "text/plain": [
       "'e'"
      ]
     },
     "execution_count": 13,
     "metadata": {},
     "output_type": "execute_result"
    }
   ],
   "source": [
    "b[6]"
   ]
  },
  {
   "cell_type": "code",
   "execution_count": 15,
   "id": "4f04192e-b05c-40c0-bad9-cfbbb8da33d1",
   "metadata": {},
   "outputs": [
    {
     "data": {
      "text/plain": [
       "'I am'"
      ]
     },
     "execution_count": 15,
     "metadata": {},
     "output_type": "execute_result"
    }
   ],
   "source": [
    "#string slicing\n",
    "b[0:4]"
   ]
  },
  {
   "cell_type": "code",
   "execution_count": 18,
   "id": "fa251b0a-4479-4f70-b5b3-2de91c43403c",
   "metadata": {},
   "outputs": [
    {
     "data": {
      "text/plain": [
       "'learing data scince'"
      ]
     },
     "execution_count": 18,
     "metadata": {},
     "output_type": "execute_result"
    }
   ],
   "source": [
    "b[5:24]"
   ]
  },
  {
   "cell_type": "code",
   "execution_count": 26,
   "id": "ca3e5209-d531-4c02-8a1e-ff385f18ee2d",
   "metadata": {},
   "outputs": [
    {
     "data": {
      "text/plain": [
       "' scince'"
      ]
     },
     "execution_count": 26,
     "metadata": {},
     "output_type": "execute_result"
    }
   ],
   "source": [
    "# using neagative\n",
    "b[-7:]"
   ]
  },
  {
   "cell_type": "code",
   "execution_count": 27,
   "id": "da1be6e8-5076-4154-97c3-1b74ba2d77e0",
   "metadata": {},
   "outputs": [
    {
     "data": {
      "text/plain": [
       "'data'"
      ]
     },
     "execution_count": 27,
     "metadata": {},
     "output_type": "execute_result"
    }
   ],
   "source": [
    "b[-11:-7]"
   ]
  },
  {
   "cell_type": "code",
   "execution_count": 28,
   "id": "221e372e-6099-4a16-8337-bd58c0974c4f",
   "metadata": {},
   "outputs": [
    {
     "data": {
      "text/plain": [
       "24"
      ]
     },
     "execution_count": 28,
     "metadata": {},
     "output_type": "execute_result"
    }
   ],
   "source": [
    "len(b)"
   ]
  },
  {
   "cell_type": "code",
   "execution_count": 32,
   "id": "81f81722-2564-4048-9a57-a9988aa39ee6",
   "metadata": {},
   "outputs": [
    {
     "data": {
      "text/plain": [
       "'ecnics atad gnirael ma I'"
      ]
     },
     "execution_count": 32,
     "metadata": {},
     "output_type": "execute_result"
    }
   ],
   "source": [
    "# reverising the string\n",
    "b[::-1]"
   ]
  },
  {
   "cell_type": "code",
   "execution_count": 34,
   "id": "37e41d4b-6b3d-46b2-b9ca-9e655e681fad",
   "metadata": {},
   "outputs": [
    {
     "data": {
      "text/plain": [
       "'I am learing data sci'"
      ]
     },
     "execution_count": 34,
     "metadata": {},
     "output_type": "execute_result"
    }
   ],
   "source": [
    "b[0:-3:1]"
   ]
  },
  {
   "cell_type": "code",
   "execution_count": 35,
   "id": "4300113c-0a65-43b0-8ef4-c8dd4855549f",
   "metadata": {},
   "outputs": [
    {
     "data": {
      "text/plain": [
       "''"
      ]
     },
     "execution_count": 35,
     "metadata": {},
     "output_type": "execute_result"
    }
   ],
   "source": [
    "b[22:-13:1] # as it is staring from 'c' and shoud end at  'g' noting is common betwen them"
   ]
  },
  {
   "cell_type": "code",
   "execution_count": 36,
   "id": "779e7078-e2a5-4f10-9a0f-599a8d2c759b",
   "metadata": {},
   "outputs": [
    {
     "data": {
      "text/plain": [
       "'g'"
      ]
     },
     "execution_count": 36,
     "metadata": {},
     "output_type": "execute_result"
    }
   ],
   "source": [
    "b[-13]"
   ]
  },
  {
   "cell_type": "code",
   "execution_count": 37,
   "id": "16ffb5e0-dec3-41f7-8705-f3b954a9c53c",
   "metadata": {},
   "outputs": [
    {
     "data": {
      "text/plain": [
       "'c'"
      ]
     },
     "execution_count": 37,
     "metadata": {},
     "output_type": "execute_result"
    }
   ],
   "source": [
    "b[22]"
   ]
  },
  {
   "cell_type": "code",
   "execution_count": 38,
   "id": "a02bf5f2-d6a4-41c0-adf6-9f465c37c92c",
   "metadata": {},
   "outputs": [
    {
     "data": {
      "text/plain": [
       "'I am learing data scince'"
      ]
     },
     "execution_count": 38,
     "metadata": {},
     "output_type": "execute_result"
    }
   ],
   "source": [
    "b"
   ]
  },
  {
   "cell_type": "code",
   "execution_count": 39,
   "id": "b282e968-f47f-4078-a2e8-1851ebca3851",
   "metadata": {},
   "outputs": [
    {
     "data": {
      "text/plain": [
       "'Ia ern aasi'"
      ]
     },
     "execution_count": 39,
     "metadata": {},
     "output_type": "execute_result"
    }
   ],
   "source": [
    "b[0:22:2] # here it miss every char after each char"
   ]
  },
  {
   "cell_type": "code",
   "execution_count": 40,
   "id": "f511ef60-f164-4c6a-8cb0-6da07b49bd3f",
   "metadata": {},
   "outputs": [
    {
     "data": {
      "text/plain": [
       "'Imei tsn'"
      ]
     },
     "execution_count": 40,
     "metadata": {},
     "output_type": "execute_result"
    }
   ],
   "source": [
    "b[0:22:3]"
   ]
  },
  {
   "cell_type": "code",
   "execution_count": 41,
   "id": "9127245a-be93-4d80-8f97-0ce2ff396e38",
   "metadata": {},
   "outputs": [
    {
     "data": {
      "text/plain": [
       "'I r ai'"
      ]
     },
     "execution_count": 41,
     "metadata": {},
     "output_type": "execute_result"
    }
   ],
   "source": [
    "b[0:22:4]"
   ]
  },
  {
   "cell_type": "code",
   "execution_count": 42,
   "id": "f8853ebf-801c-465b-9639-ea978bcf5b16",
   "metadata": {},
   "outputs": [
    {
     "data": {
      "text/plain": [
       "'Ilnti'"
      ]
     },
     "execution_count": 42,
     "metadata": {},
     "output_type": "execute_result"
    }
   ],
   "source": [
    "b[0:22:5]"
   ]
  },
  {
   "cell_type": "code",
   "execution_count": 45,
   "id": "6c25bc1f-14da-4dd9-a22f-731076e0acdb",
   "metadata": {},
   "outputs": [
    {
     "data": {
      "text/plain": [
       "'piyushI am learing data scince'"
      ]
     },
     "execution_count": 45,
     "metadata": {},
     "output_type": "execute_result"
    }
   ],
   "source": [
    "#concatnation\n",
    "a + b"
   ]
  },
  {
   "cell_type": "code",
   "execution_count": 48,
   "id": "eb0f1a47-9509-4e58-9ae1-a2eab4cb92e9",
   "metadata": {},
   "outputs": [
    {
     "data": {
      "text/plain": [
       "'I am learing data scince and machine learing '"
      ]
     },
     "execution_count": 48,
     "metadata": {},
     "output_type": "execute_result"
    }
   ],
   "source": [
    "b +\" and machine learing \""
   ]
  },
  {
   "cell_type": "code",
   "execution_count": 50,
   "id": "52bf0101-1738-4121-9696-0f4b5185099a",
   "metadata": {},
   "outputs": [],
   "source": [
    "d=\"3\"+\"4\""
   ]
  },
  {
   "cell_type": "code",
   "execution_count": 51,
   "id": "1adec095-be22-40d0-aa6b-94d9e40e4f06",
   "metadata": {},
   "outputs": [
    {
     "name": "stdout",
     "output_type": "stream",
     "text": [
      "34\n"
     ]
    }
   ],
   "source": [
    "print(d)"
   ]
  },
  {
   "cell_type": "code",
   "execution_count": 47,
   "id": "1bc27c8d-83f9-40e5-8057-29d4a25d2f2f",
   "metadata": {},
   "outputs": [
    {
     "data": {
      "text/plain": [
       "'piyushpiyushpiyushpiyushpiyushpiyush'"
      ]
     },
     "execution_count": 47,
     "metadata": {},
     "output_type": "execute_result"
    }
   ],
   "source": [
    "a*6# can do mutplcation "
   ]
  },
  {
   "cell_type": "code",
   "execution_count": 53,
   "id": "10c5a711-bf3f-4161-b1ba-3aed07d8e648",
   "metadata": {},
   "outputs": [
    {
     "data": {
      "text/plain": [
       "'343434'"
      ]
     },
     "execution_count": 53,
     "metadata": {},
     "output_type": "execute_result"
    }
   ],
   "source": [
    "d*3"
   ]
  },
  {
   "cell_type": "code",
   "execution_count": 54,
   "id": "67e0784e-ea8f-4ba2-a586-ce58f5d2ea82",
   "metadata": {},
   "outputs": [],
   "source": [
    "f=b +\" and machine learing \""
   ]
  },
  {
   "cell_type": "code",
   "execution_count": 55,
   "id": "fe786b3a-0027-4bf3-95af-6173c0338400",
   "metadata": {},
   "outputs": [
    {
     "data": {
      "text/plain": [
       "'I am learing data scince and machine learing '"
      ]
     },
     "execution_count": 55,
     "metadata": {},
     "output_type": "execute_result"
    }
   ],
   "source": [
    "f"
   ]
  },
  {
   "cell_type": "code",
   "execution_count": 60,
   "id": "05f43aef-dc69-4e1e-a2c4-3bb7d7491dec",
   "metadata": {},
   "outputs": [
    {
     "data": {
      "text/plain": [
       "45"
      ]
     },
     "execution_count": 60,
     "metadata": {},
     "output_type": "execute_result"
    }
   ],
   "source": [
    "len(f)"
   ]
  },
  {
   "cell_type": "code",
   "execution_count": 63,
   "id": "5bbbd485-f187-42e1-b9da-a93f4d42bc6c",
   "metadata": {},
   "outputs": [
    {
     "data": {
      "text/plain": [
       "7"
      ]
     },
     "execution_count": 63,
     "metadata": {},
     "output_type": "execute_result"
    }
   ],
   "source": [
    "f.count(\"a\") # it counts number of a "
   ]
  },
  {
   "cell_type": "code",
   "execution_count": 65,
   "id": "c2370b56-1e6e-4f57-a8c2-45f5aadace9f",
   "metadata": {},
   "outputs": [
    {
     "data": {
      "text/plain": [
       "2"
      ]
     },
     "execution_count": 65,
     "metadata": {},
     "output_type": "execute_result"
    }
   ],
   "source": [
    "f.find(\"a\")# it gives first postion of a"
   ]
  },
  {
   "cell_type": "code",
   "execution_count": 80,
   "id": "e1cc3820-311e-4bf0-b26e-7ed7a0da5cbe",
   "metadata": {},
   "outputs": [
    {
     "data": {
      "text/plain": [
       "-1"
      ]
     },
     "execution_count": 80,
     "metadata": {},
     "output_type": "execute_result"
    }
   ],
   "source": [
    "f.find(\"z\")"
   ]
  },
  {
   "cell_type": "code",
   "execution_count": 66,
   "id": "bc93bb32-dce8-4ef8-984b-a47eb2314273",
   "metadata": {},
   "outputs": [
    {
     "data": {
      "text/plain": [
       "46"
      ]
     },
     "execution_count": 66,
     "metadata": {},
     "output_type": "execute_result"
    }
   ],
   "source": [
    "f.count(\"\")"
   ]
  },
  {
   "cell_type": "code",
   "execution_count": 67,
   "id": "7c30e193-b246-43f3-b5b8-88bbc1fefe1e",
   "metadata": {},
   "outputs": [
    {
     "data": {
      "text/plain": [
       "['I', 'am', 'learing', 'data', 'scince', 'and', 'machine', 'learing']"
      ]
     },
     "execution_count": 67,
     "metadata": {},
     "output_type": "execute_result"
    }
   ],
   "source": [
    "f.split()# it splits the string with spaces"
   ]
  },
  {
   "cell_type": "code",
   "execution_count": 69,
   "id": "3e039a5c-675f-463f-845e-7fb7595ed4d9",
   "metadata": {},
   "outputs": [
    {
     "data": {
      "text/plain": [
       "['I ', 'm le', 'ring d', 't', ' scince ', 'nd m', 'chine le', 'ring ']"
      ]
     },
     "execution_count": 69,
     "metadata": {},
     "output_type": "execute_result"
    }
   ],
   "source": [
    "f.split(\"a\")"
   ]
  },
  {
   "cell_type": "code",
   "execution_count": 72,
   "id": "b4dba6a6-3096-4693-a4d5-da6cc39724aa",
   "metadata": {},
   "outputs": [
    {
     "ename": "TypeError",
     "evalue": "str.partition() takes exactly one argument (0 given)",
     "output_type": "error",
     "traceback": [
      "\u001b[0;31m---------------------------------------------------------------------------\u001b[0m",
      "\u001b[0;31mTypeError\u001b[0m                                 Traceback (most recent call last)",
      "Cell \u001b[0;32mIn[72], line 1\u001b[0m\n\u001b[0;32m----> 1\u001b[0m \u001b[43mf\u001b[49m\u001b[38;5;241;43m.\u001b[39;49m\u001b[43mpartition\u001b[49m\u001b[43m(\u001b[49m\u001b[43m)\u001b[49m\n",
      "\u001b[0;31mTypeError\u001b[0m: str.partition() takes exactly one argument (0 given)"
     ]
    }
   ],
   "source": [
    "f.partition()"
   ]
  },
  {
   "cell_type": "code",
   "execution_count": 73,
   "id": "90616e65-b19c-499b-a8c7-7d992b67635e",
   "metadata": {},
   "outputs": [
    {
     "data": {
      "text/plain": [
       "('I ', 'a', 'm learing data scince and machine learing ')"
      ]
     },
     "execution_count": 73,
     "metadata": {},
     "output_type": "execute_result"
    }
   ],
   "source": [
    "f.partition(\"a\")"
   ]
  },
  {
   "cell_type": "code",
   "execution_count": 74,
   "id": "b5094ec7-2b34-4876-83e8-ac7e1b2e2473",
   "metadata": {},
   "outputs": [
    {
     "data": {
      "text/plain": [
       "('I am learing data ', 's', 'cince and machine learing ')"
      ]
     },
     "execution_count": 74,
     "metadata": {},
     "output_type": "execute_result"
    }
   ],
   "source": [
    "f.partition(\"s\")"
   ]
  },
  {
   "cell_type": "code",
   "execution_count": 75,
   "id": "4a7e64d7-ca68-4720-a339-eedc1025442e",
   "metadata": {},
   "outputs": [
    {
     "data": {
      "text/plain": [
       "'I AM LEARING DATA SCINCE AND MACHINE LEARING '"
      ]
     },
     "execution_count": 75,
     "metadata": {},
     "output_type": "execute_result"
    }
   ],
   "source": [
    "f.upper()"
   ]
  },
  {
   "cell_type": "code",
   "execution_count": 77,
   "id": "ddac6c7a-a27e-46f1-b149-7569d45c2c99",
   "metadata": {},
   "outputs": [
    {
     "data": {
      "text/plain": [
       "'i am learing data scince and machine learing '"
      ]
     },
     "execution_count": 77,
     "metadata": {},
     "output_type": "execute_result"
    }
   ],
   "source": [
    "f.lower()"
   ]
  },
  {
   "cell_type": "code",
   "execution_count": 78,
   "id": "24724c6c-1bad-4693-af23-2d7fa2755f9c",
   "metadata": {},
   "outputs": [
    {
     "data": {
      "text/plain": [
       "'i AM LEARING DATA SCINCE AND MACHINE LEARING '"
      ]
     },
     "execution_count": 78,
     "metadata": {},
     "output_type": "execute_result"
    }
   ],
   "source": [
    "f.swapcase()"
   ]
  },
  {
   "cell_type": "code",
   "execution_count": 79,
   "id": "6f014c09-058b-407d-b989-5008f6d8d145",
   "metadata": {},
   "outputs": [
    {
     "data": {
      "text/plain": [
       "'I Am Learing Data Scince And Machine Learing '"
      ]
     },
     "execution_count": 79,
     "metadata": {},
     "output_type": "execute_result"
    }
   ],
   "source": [
    "f.title()"
   ]
  },
  {
   "cell_type": "code",
   "execution_count": 84,
   "id": "9b758a88-70f5-42b3-a4ca-21d16aca18c6",
   "metadata": {},
   "outputs": [
    {
     "data": {
      "text/plain": [
       "'I am learing data scince and machine learing '"
      ]
     },
     "execution_count": 84,
     "metadata": {},
     "output_type": "execute_result"
    }
   ],
   "source": [
    "f.capitalize() # capital the first char of string"
   ]
  },
  {
   "cell_type": "code",
   "execution_count": 86,
   "id": "e85bd41a-e27e-45c8-a40d-bf1d27b48103",
   "metadata": {},
   "outputs": [],
   "source": [
    "c=\"gfhfj\""
   ]
  },
  {
   "cell_type": "code",
   "execution_count": 87,
   "id": "d080345f-a170-4431-8f94-a4c8f8767b27",
   "metadata": {},
   "outputs": [
    {
     "data": {
      "text/plain": [
       "'Gfhfj'"
      ]
     },
     "execution_count": 87,
     "metadata": {},
     "output_type": "execute_result"
    }
   ],
   "source": [
    "c.capitalize()"
   ]
  },
  {
   "cell_type": "code",
   "execution_count": 88,
   "id": "59adf73f-f37e-4e37-b942-ed015a635db3",
   "metadata": {},
   "outputs": [
    {
     "data": {
      "text/plain": [
       "' gnirael enihcam dna ecnics atad gnirael ma I'"
      ]
     },
     "execution_count": 88,
     "metadata": {},
     "output_type": "execute_result"
    }
   ],
   "source": [
    "# reversing a string\n",
    "f[::-1]"
   ]
  },
  {
   "cell_type": "code",
   "execution_count": 90,
   "id": "482a3266-0edc-4b8a-9756-53b277455768",
   "metadata": {},
   "outputs": [
    {
     "data": {
      "text/plain": [
       "' gnirael enihcam dna ecnics atad gnirael ma I'"
      ]
     },
     "execution_count": 90,
     "metadata": {},
     "output_type": "execute_result"
    }
   ],
   "source": [
    "\"\".join(reversed(f))"
   ]
  },
  {
   "cell_type": "code",
   "execution_count": 92,
   "id": "24bfc3eb-427f-408e-8985-842a4f569b59",
   "metadata": {},
   "outputs": [
    {
     "data": {
      "text/plain": [
       "'upispidpie'"
      ]
     },
     "execution_count": 92,
     "metadata": {},
     "output_type": "execute_result"
    }
   ],
   "source": [
    "# joining the string\n",
    "\"pi\".join(\"usde\")"
   ]
  },
  {
   "cell_type": "code",
   "execution_count": 93,
   "id": "14dab790-3261-4572-8f88-09be890e51c8",
   "metadata": {},
   "outputs": [
    {
     "data": {
      "text/plain": [
       "['I',\n",
       " ' ',\n",
       " 'a',\n",
       " 'm',\n",
       " ' ',\n",
       " 'l',\n",
       " 'e',\n",
       " 'a',\n",
       " 'r',\n",
       " 'i',\n",
       " 'n',\n",
       " 'g',\n",
       " ' ',\n",
       " 'd',\n",
       " 'a',\n",
       " 't',\n",
       " 'a',\n",
       " ' ',\n",
       " 's',\n",
       " 'c',\n",
       " 'i',\n",
       " 'n',\n",
       " 'c',\n",
       " 'e',\n",
       " ' ',\n",
       " 'a',\n",
       " 'n',\n",
       " 'd',\n",
       " ' ',\n",
       " 'm',\n",
       " 'a',\n",
       " 'c',\n",
       " 'h',\n",
       " 'i',\n",
       " 'n',\n",
       " 'e',\n",
       " ' ',\n",
       " 'l',\n",
       " 'e',\n",
       " 'a',\n",
       " 'r',\n",
       " 'i',\n",
       " 'n',\n",
       " 'g',\n",
       " ' ']"
      ]
     },
     "execution_count": 93,
     "metadata": {},
     "output_type": "execute_result"
    }
   ],
   "source": [
    "# typecasting a string\n",
    "list(f)"
   ]
  },
  {
   "cell_type": "code",
   "execution_count": 97,
   "id": "18a7d866-d3b3-4850-92c7-d94a1c9e30f2",
   "metadata": {},
   "outputs": [
    {
     "data": {
      "text/plain": [
       "['a', 'n', 't']"
      ]
     },
     "execution_count": 97,
     "metadata": {},
     "output_type": "execute_result"
    }
   ],
   "source": [
    "list(\"ant\")"
   ]
  },
  {
   "cell_type": "code",
   "execution_count": 98,
   "id": "0f811ec1-c888-4c87-b895-c500e40b376a",
   "metadata": {},
   "outputs": [
    {
     "data": {
      "text/plain": [
       "['t', 'n', 'a']"
      ]
     },
     "execution_count": 98,
     "metadata": {},
     "output_type": "execute_result"
    }
   ],
   "source": [
    "list(reversed(\"ant\"))"
   ]
  },
  {
   "cell_type": "code",
   "execution_count": 113,
   "id": "628fd982-c140-4b6e-9493-8253fe4d9187",
   "metadata": {},
   "outputs": [],
   "source": [
    "e =\" pwskills \""
   ]
  },
  {
   "cell_type": "code",
   "execution_count": 100,
   "id": "6334019a-96a5-409e-a5c0-2a56465f1dd1",
   "metadata": {},
   "outputs": [
    {
     "data": {
      "text/plain": [
       "'I am learing data scince and machine learing '"
      ]
     },
     "execution_count": 100,
     "metadata": {},
     "output_type": "execute_result"
    }
   ],
   "source": [
    "f.strip(\"\")# strip is used to delete blank spaces"
   ]
  },
  {
   "cell_type": "code",
   "execution_count": 114,
   "id": "65aa45ca-0f91-4277-916f-b10fe1163382",
   "metadata": {},
   "outputs": [
    {
     "data": {
      "text/plain": [
       "' pwskills '"
      ]
     },
     "execution_count": 114,
     "metadata": {},
     "output_type": "execute_result"
    }
   ],
   "source": [
    "e.strip('')"
   ]
  },
  {
   "cell_type": "code",
   "execution_count": 115,
   "id": "58efe1e5-392b-4b33-ac62-9a164c846fc5",
   "metadata": {},
   "outputs": [
    {
     "data": {
      "text/plain": [
       "' pwskills '"
      ]
     },
     "execution_count": 115,
     "metadata": {},
     "output_type": "execute_result"
    }
   ],
   "source": [
    "e.lstrip(\"\") # it will delete left side blank spaces"
   ]
  },
  {
   "cell_type": "code",
   "execution_count": 116,
   "id": "43cb114c-d9d1-4028-a6bb-6a71269097e2",
   "metadata": {},
   "outputs": [
    {
     "data": {
      "text/plain": [
       "' pwskills '"
      ]
     },
     "execution_count": 116,
     "metadata": {},
     "output_type": "execute_result"
    }
   ],
   "source": [
    "e.rstrip('') # it will delete right side blank spaces"
   ]
  },
  {
   "cell_type": "code",
   "execution_count": 117,
   "id": "d891b7c7-9768-4a28-8088-45de551d3906",
   "metadata": {},
   "outputs": [
    {
     "data": {
      "text/plain": [
       "'I am learing data scince and machine learing '"
      ]
     },
     "execution_count": 117,
     "metadata": {},
     "output_type": "execute_result"
    }
   ],
   "source": [
    "f.rstrip('')"
   ]
  },
  {
   "cell_type": "code",
   "execution_count": 118,
   "id": "a14664bb-ca93-4587-b31b-81c24ba667c0",
   "metadata": {},
   "outputs": [
    {
     "data": {
      "text/plain": [
       "' piyushskills '"
      ]
     },
     "execution_count": 118,
     "metadata": {},
     "output_type": "execute_result"
    }
   ],
   "source": [
    "e.replace(\"pw\",\"piyush\") # it is used for replcaemnt purpose"
   ]
  },
  {
   "cell_type": "code",
   "execution_count": 120,
   "id": "de744b78-5a0f-4238-88c1-8f1e9a813cc9",
   "metadata": {},
   "outputs": [],
   "source": [
    "z=e.replace(\"pw\",\"piyush\")"
   ]
  },
  {
   "cell_type": "code",
   "execution_count": 121,
   "id": "51638af9-3154-4796-9c21-49c9cbb66edf",
   "metadata": {},
   "outputs": [
    {
     "data": {
      "text/plain": [
       "' piyushskills '"
      ]
     },
     "execution_count": 121,
     "metadata": {},
     "output_type": "execute_result"
    }
   ],
   "source": [
    "z"
   ]
  },
  {
   "cell_type": "code",
   "execution_count": 122,
   "id": "17463395-688a-41ff-ac40-968934b205f2",
   "metadata": {},
   "outputs": [],
   "source": [
    "e=e.replace(\"pw\",\"piyush\")"
   ]
  },
  {
   "cell_type": "code",
   "execution_count": 123,
   "id": "f0d8d29d-9f77-4762-9db3-2de505e2e0b1",
   "metadata": {},
   "outputs": [
    {
     "data": {
      "text/plain": [
       "' piyushskills '"
      ]
     },
     "execution_count": 123,
     "metadata": {},
     "output_type": "execute_result"
    }
   ],
   "source": [
    "e"
   ]
  },
  {
   "cell_type": "code",
   "execution_count": 124,
   "id": "601566e5-c64d-4289-8a59-be4de0010485",
   "metadata": {},
   "outputs": [
    {
     "name": "stdout",
     "output_type": "stream",
     "text": [
      "140295379942256\n",
      "140295379935024\n"
     ]
    }
   ],
   "source": [
    "print(id(z))\n",
    "print(id(e))"
   ]
  },
  {
   "cell_type": "code",
   "execution_count": 125,
   "id": "4fa7a030-a39d-4dd1-b817-11e592aafe85",
   "metadata": {},
   "outputs": [],
   "source": [
    "str=\"piyushmali@@gamil.cam\"\n"
   ]
  },
  {
   "cell_type": "code",
   "execution_count": 131,
   "id": "e99261c9-a4aa-4660-83c3-de8355c5f611",
   "metadata": {},
   "outputs": [],
   "source": [
    "str1=str.replace(\"@\",\"\").replace(\"a\",\"o\")"
   ]
  },
  {
   "cell_type": "code",
   "execution_count": 132,
   "id": "2d23ad5f-2e30-468d-a782-a46801424e83",
   "metadata": {},
   "outputs": [
    {
     "name": "stdout",
     "output_type": "stream",
     "text": [
      "piyushmoligomil.com\n"
     ]
    }
   ],
   "source": [
    "print(str1)"
   ]
  },
  {
   "cell_type": "code",
   "execution_count": 133,
   "id": "98a0c977-ca88-441b-9af2-3f867a95dbbe",
   "metadata": {},
   "outputs": [],
   "source": [
    "str2=str.replace(\"@@\",\"@\").replace(\"cam\",\"com\")"
   ]
  },
  {
   "cell_type": "code",
   "execution_count": 134,
   "id": "95e6aa63-85e5-4168-84a8-1b620df4e310",
   "metadata": {},
   "outputs": [
    {
     "name": "stdout",
     "output_type": "stream",
     "text": [
      "piyushmali@gamil.com\n"
     ]
    }
   ],
   "source": [
    "print(str2)"
   ]
  },
  {
   "cell_type": "code",
   "execution_count": 137,
   "id": "3c9d22db-8b3b-422b-9281-6d2e2c3752d4",
   "metadata": {},
   "outputs": [
    {
     "data": {
      "text/plain": [
       "'i       am      piyush'"
      ]
     },
     "execution_count": 137,
     "metadata": {},
     "output_type": "execute_result"
    }
   ],
   "source": [
    "\"i\\tam\\tpiyush\".expandtabs()"
   ]
  },
  {
   "cell_type": "code",
   "execution_count": 138,
   "id": "66d027b6-c8ed-4a97-b590-a6e6f2fac856",
   "metadata": {},
   "outputs": [
    {
     "data": {
      "text/plain": [
       "'piyush'"
      ]
     },
     "execution_count": 138,
     "metadata": {},
     "output_type": "execute_result"
    }
   ],
   "source": [
    "a"
   ]
  },
  {
   "cell_type": "code",
   "execution_count": 139,
   "id": "c10a781b-b644-46cd-8967-84c4e48f3554",
   "metadata": {},
   "outputs": [
    {
     "data": {
      "text/plain": [
       "False"
      ]
     },
     "execution_count": 139,
     "metadata": {},
     "output_type": "execute_result"
    }
   ],
   "source": [
    "a.isupper()"
   ]
  },
  {
   "cell_type": "code",
   "execution_count": 140,
   "id": "a957822c-ef3a-4a67-af01-4dff4af1f56e",
   "metadata": {},
   "outputs": [
    {
     "data": {
      "text/plain": [
       "True"
      ]
     },
     "execution_count": 140,
     "metadata": {},
     "output_type": "execute_result"
    }
   ],
   "source": [
    "a.islower()"
   ]
  },
  {
   "cell_type": "code",
   "execution_count": 141,
   "id": "8f954abf-747c-43d7-9dd7-3e9d9992f371",
   "metadata": {},
   "outputs": [
    {
     "data": {
      "text/plain": [
       "False"
      ]
     },
     "execution_count": 141,
     "metadata": {},
     "output_type": "execute_result"
    }
   ],
   "source": [
    "a.istitle()"
   ]
  },
  {
   "cell_type": "code",
   "execution_count": 142,
   "id": "483636c4-456f-4f1f-9065-82d53bffb7cf",
   "metadata": {},
   "outputs": [
    {
     "ename": "AttributeError",
     "evalue": "'str' object has no attribute 'iscapitatize'",
     "output_type": "error",
     "traceback": [
      "\u001b[0;31m---------------------------------------------------------------------------\u001b[0m",
      "\u001b[0;31mAttributeError\u001b[0m                            Traceback (most recent call last)",
      "Cell \u001b[0;32mIn[142], line 1\u001b[0m\n\u001b[0;32m----> 1\u001b[0m \u001b[43ma\u001b[49m\u001b[38;5;241;43m.\u001b[39;49m\u001b[43miscapitatize\u001b[49m()\n",
      "\u001b[0;31mAttributeError\u001b[0m: 'str' object has no attribute 'iscapitatize'"
     ]
    }
   ],
   "source": []
  },
  {
   "cell_type": "code",
   "execution_count": 144,
   "id": "1b378336-48be-45e1-81f7-871c667cf601",
   "metadata": {},
   "outputs": [
    {
     "data": {
      "text/plain": [
       "True"
      ]
     },
     "execution_count": 144,
     "metadata": {},
     "output_type": "execute_result"
    }
   ],
   "source": [
    "a.startswith(\"p\")"
   ]
  },
  {
   "cell_type": "code",
   "execution_count": 145,
   "id": "8a49997e-eba5-44ce-9edf-c002326a827a",
   "metadata": {},
   "outputs": [
    {
     "data": {
      "text/plain": [
       "False"
      ]
     },
     "execution_count": 145,
     "metadata": {},
     "output_type": "execute_result"
    }
   ],
   "source": [
    "a.endswith(\"p\")"
   ]
  },
  {
   "cell_type": "code",
   "execution_count": 146,
   "id": "9fedfc23-a604-4ab8-b343-2f3f18db8e6e",
   "metadata": {},
   "outputs": [
    {
     "data": {
      "text/plain": [
       "True"
      ]
     },
     "execution_count": 146,
     "metadata": {},
     "output_type": "execute_result"
    }
   ],
   "source": [
    "a.endswith(\"h\")"
   ]
  },
  {
   "cell_type": "code",
   "execution_count": 147,
   "id": "1ddf8dae-92d6-4718-91e2-b07b72bc0d0e",
   "metadata": {},
   "outputs": [
    {
     "data": {
      "text/plain": [
       "False"
      ]
     },
     "execution_count": 147,
     "metadata": {},
     "output_type": "execute_result"
    }
   ],
   "source": [
    "a.isspace()"
   ]
  },
  {
   "cell_type": "code",
   "execution_count": 149,
   "id": "b3a0d3eb-8355-4cd0-a806-62b607edfec2",
   "metadata": {},
   "outputs": [
    {
     "data": {
      "text/plain": [
       "True"
      ]
     },
     "execution_count": 149,
     "metadata": {},
     "output_type": "execute_result"
    }
   ],
   "source": [
    "a.isalnum()"
   ]
  },
  {
   "cell_type": "code",
   "execution_count": null,
   "id": "e2a9ec91-ea9f-493b-9a7b-5b161c7f0e0c",
   "metadata": {},
   "outputs": [],
   "source": []
  }
 ],
 "metadata": {
  "kernelspec": {
   "display_name": "Python 3 (ipykernel)",
   "language": "python",
   "name": "python3"
  },
  "language_info": {
   "codemirror_mode": {
    "name": "ipython",
    "version": 3
   },
   "file_extension": ".py",
   "mimetype": "text/x-python",
   "name": "python",
   "nbconvert_exporter": "python",
   "pygments_lexer": "ipython3",
   "version": "3.10.8"
  }
 },
 "nbformat": 4,
 "nbformat_minor": 5
}
