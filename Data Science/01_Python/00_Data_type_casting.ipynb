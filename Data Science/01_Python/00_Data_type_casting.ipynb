{
 "cells": [
  {
   "cell_type": "markdown",
   "id": "b4860329-5cd1-4b7f-8925-c745fc1a5c8b",
   "metadata": {},
   "source": [
    "# python is a dynamic language "
   ]
  },
  {
   "cell_type": "markdown",
   "id": "d9e3a321-f1cc-4d54-a979-81c4c8caf1a8",
   "metadata": {},
   "source": [
    "# Built-in Data Types\n",
    "\n",
    "## In programming, data type is an important concept.\n",
    "## Variables can store data of different types, and different types can do different things.\n",
    "## Python has the following data types built-in by default, in these categories:\n",
    "\n",
    "### Text Type:\tstr\n",
    "### Numeric Types:\tint, float, complex\n",
    "### Sequence Types:\tlist, tuple, range\n",
    "### Mapping Type:\tdict\n",
    "### Set Types:\tset, frozenset\n",
    "### Boolean Type:\tbool\n",
    "### Binary Types:\tbytes, bytearray, memoryview\n",
    "### None Type:\tNoneType"
   ]
  },
  {
   "cell_type": "code",
   "execution_count": 35,
   "id": "16e89a7e-5849-4fff-9f92-6bf67a91c3b6",
   "metadata": {},
   "outputs": [
    {
     "data": {
      "text/plain": [
       "'messi'"
      ]
     },
     "execution_count": 35,
     "metadata": {},
     "output_type": "execute_result"
    }
   ],
   "source": [
    "\"messi\""
   ]
  },
  {
   "cell_type": "code",
   "execution_count": 36,
   "id": "1e6b9f67-a244-43a2-b836-f916c4ff8ebb",
   "metadata": {},
   "outputs": [
    {
     "data": {
      "text/plain": [
       "str"
      ]
     },
     "execution_count": 36,
     "metadata": {},
     "output_type": "execute_result"
    }
   ],
   "source": [
    "type(\"messi\")"
   ]
  },
  {
   "cell_type": "code",
   "execution_count": 37,
   "id": "d56d7107-f075-4d40-b0b4-950cc0f04ee8",
   "metadata": {},
   "outputs": [
    {
     "data": {
      "text/plain": [
       "5"
      ]
     },
     "execution_count": 37,
     "metadata": {},
     "output_type": "execute_result"
    }
   ],
   "source": [
    "5"
   ]
  },
  {
   "cell_type": "code",
   "execution_count": 38,
   "id": "0cf61724-eea3-4720-af19-c8a7c65ac27c",
   "metadata": {},
   "outputs": [
    {
     "data": {
      "text/plain": [
       "int"
      ]
     },
     "execution_count": 38,
     "metadata": {},
     "output_type": "execute_result"
    }
   ],
   "source": [
    "type(5)"
   ]
  },
  {
   "cell_type": "code",
   "execution_count": 39,
   "id": "9a127f21-00c1-454d-913b-b30cb065ecfe",
   "metadata": {},
   "outputs": [
    {
     "data": {
      "text/plain": [
       "5.5"
      ]
     },
     "execution_count": 39,
     "metadata": {},
     "output_type": "execute_result"
    }
   ],
   "source": [
    "5.5"
   ]
  },
  {
   "cell_type": "code",
   "execution_count": 6,
   "id": "2b0f4eff-ea7f-42f2-aebb-89d251372596",
   "metadata": {},
   "outputs": [
    {
     "data": {
      "text/plain": [
       "float"
      ]
     },
     "execution_count": 6,
     "metadata": {},
     "output_type": "execute_result"
    }
   ],
   "source": [
    "type(5.5)"
   ]
  },
  {
   "cell_type": "code",
   "execution_count": 7,
   "id": "de4d8365-1b46-4ec8-9613-7fddf21770e4",
   "metadata": {},
   "outputs": [
    {
     "data": {
      "text/plain": [
       "(5+4j)"
      ]
     },
     "execution_count": 7,
     "metadata": {},
     "output_type": "execute_result"
    }
   ],
   "source": [
    "5+4j"
   ]
  },
  {
   "cell_type": "code",
   "execution_count": 8,
   "id": "0a0bcd2e-e851-4b3d-a1b5-698e8b9aca3e",
   "metadata": {},
   "outputs": [
    {
     "data": {
      "text/plain": [
       "complex"
      ]
     },
     "execution_count": 8,
     "metadata": {},
     "output_type": "execute_result"
    }
   ],
   "source": [
    "type(5+4j)"
   ]
  },
  {
   "cell_type": "code",
   "execution_count": 9,
   "id": "834912ed-e5d6-4a7e-ba24-dc63a6b16a89",
   "metadata": {},
   "outputs": [
    {
     "data": {
      "text/plain": [
       "True"
      ]
     },
     "execution_count": 9,
     "metadata": {},
     "output_type": "execute_result"
    }
   ],
   "source": [
    "True"
   ]
  },
  {
   "cell_type": "code",
   "execution_count": 10,
   "id": "d4560cbf-f9fb-4f11-a8f7-45c607a2b00a",
   "metadata": {},
   "outputs": [
    {
     "data": {
      "text/plain": [
       "bool"
      ]
     },
     "execution_count": 10,
     "metadata": {},
     "output_type": "execute_result"
    }
   ],
   "source": [
    "type(True)"
   ]
  },
  {
   "cell_type": "code",
   "execution_count": 11,
   "id": "15aea4a6-8d89-4c81-b76a-7c04800c6a16",
   "metadata": {},
   "outputs": [],
   "source": [
    "l=[1,2,3]"
   ]
  },
  {
   "cell_type": "code",
   "execution_count": 12,
   "id": "d97ae597-c988-4bf9-bdf2-da3fb86872b0",
   "metadata": {},
   "outputs": [
    {
     "data": {
      "text/plain": [
       "list"
      ]
     },
     "execution_count": 12,
     "metadata": {},
     "output_type": "execute_result"
    }
   ],
   "source": [
    "type(l)"
   ]
  },
  {
   "cell_type": "code",
   "execution_count": 13,
   "id": "cbeced1f-a8d4-46c8-983e-0e0001b536bc",
   "metadata": {},
   "outputs": [],
   "source": [
    "t=(1,2)"
   ]
  },
  {
   "cell_type": "code",
   "execution_count": 14,
   "id": "e0940427-7240-456a-94fb-d584c6f9d1c2",
   "metadata": {},
   "outputs": [
    {
     "data": {
      "text/plain": [
       "tuple"
      ]
     },
     "execution_count": 14,
     "metadata": {},
     "output_type": "execute_result"
    }
   ],
   "source": [
    "type(t)"
   ]
  },
  {
   "cell_type": "code",
   "execution_count": 15,
   "id": "d91dfe1f-fa5b-4dba-83f5-3c641f64bdb1",
   "metadata": {},
   "outputs": [],
   "source": [
    "s={1,2,3}"
   ]
  },
  {
   "cell_type": "code",
   "execution_count": 16,
   "id": "5418a7ad-77bf-4d00-a242-b0b93b4bdde8",
   "metadata": {},
   "outputs": [
    {
     "data": {
      "text/plain": [
       "set"
      ]
     },
     "execution_count": 16,
     "metadata": {},
     "output_type": "execute_result"
    }
   ],
   "source": [
    "type(s)"
   ]
  },
  {
   "cell_type": "code",
   "execution_count": 17,
   "id": "5e9bc550-f427-4e05-bf92-21c4ada1f0dc",
   "metadata": {},
   "outputs": [],
   "source": [
    "d={\"name\":\"piyush\",\"age\": \"two\" }"
   ]
  },
  {
   "cell_type": "code",
   "execution_count": 18,
   "id": "3b048ef6-c996-4e6f-b2bd-d869e8da8a32",
   "metadata": {},
   "outputs": [
    {
     "data": {
      "text/plain": [
       "dict"
      ]
     },
     "execution_count": 18,
     "metadata": {},
     "output_type": "execute_result"
    }
   ],
   "source": [
    "type(d)"
   ]
  },
  {
   "cell_type": "code",
   "execution_count": 33,
   "id": "e400aa7c-4042-4798-80d8-0e331c348de6",
   "metadata": {},
   "outputs": [
    {
     "data": {
      "text/plain": [
       "15"
      ]
     },
     "execution_count": 33,
     "metadata": {},
     "output_type": "execute_result"
    }
   ],
   "source": [
    "0b1111"
   ]
  },
  {
   "cell_type": "code",
   "execution_count": 34,
   "id": "a908140b-9177-4b9d-933f-85942afb55ab",
   "metadata": {},
   "outputs": [
    {
     "data": {
      "text/plain": [
       "int"
      ]
     },
     "execution_count": 34,
     "metadata": {},
     "output_type": "execute_result"
    }
   ],
   "source": [
    "type(0b1111)"
   ]
  },
  {
   "cell_type": "code",
   "execution_count": 35,
   "id": "f93afd3e-5e75-4833-b3cf-b7dbcb81ced6",
   "metadata": {},
   "outputs": [],
   "source": [
    "None "
   ]
  },
  {
   "cell_type": "code",
   "execution_count": 36,
   "id": "e32450ae-fa8b-4bdb-872e-922fdb85ebf9",
   "metadata": {},
   "outputs": [
    {
     "data": {
      "text/plain": [
       "NoneType"
      ]
     },
     "execution_count": 36,
     "metadata": {},
     "output_type": "execute_result"
    }
   ],
   "source": [
    "type(None)"
   ]
  },
  {
   "cell_type": "code",
   "execution_count": 37,
   "id": "0f722f2c-ef2d-4cd2-927d-325ded4570be",
   "metadata": {},
   "outputs": [],
   "source": [
    "a=9.6"
   ]
  },
  {
   "cell_type": "code",
   "execution_count": 38,
   "id": "a7e6bbfb-e2bc-4d4b-ba4b-92b79b24c394",
   "metadata": {},
   "outputs": [
    {
     "data": {
      "text/plain": [
       "9"
      ]
     },
     "execution_count": 38,
     "metadata": {},
     "output_type": "execute_result"
    }
   ],
   "source": [
    "int(a) # from float to int"
   ]
  },
  {
   "cell_type": "code",
   "execution_count": 2,
   "id": "da6bae2f-e979-4a50-91ce-c4476e25b880",
   "metadata": {},
   "outputs": [],
   "source": [
    "str=\"123\""
   ]
  },
  {
   "cell_type": "code",
   "execution_count": 3,
   "id": "ed2933cf-b43f-4cbc-a28f-9a8a57b5f157",
   "metadata": {},
   "outputs": [
    {
     "data": {
      "text/plain": [
       "123"
      ]
     },
     "execution_count": 3,
     "metadata": {},
     "output_type": "execute_result"
    }
   ],
   "source": [
    "int(str) # from string to int"
   ]
  },
  {
   "cell_type": "code",
   "execution_count": 4,
   "id": "63e3ea75-72da-4623-9f4f-28870339f322",
   "metadata": {},
   "outputs": [],
   "source": [
    "a=int(str)"
   ]
  },
  {
   "cell_type": "code",
   "execution_count": 5,
   "id": "ee1e1977-5dcc-4b37-ba85-946eb9742b86",
   "metadata": {},
   "outputs": [
    {
     "data": {
      "text/plain": [
       "123"
      ]
     },
     "execution_count": 5,
     "metadata": {},
     "output_type": "execute_result"
    }
   ],
   "source": [
    "a"
   ]
  },
  {
   "cell_type": "code",
   "execution_count": 6,
   "id": "a030e840-c0b1-42ee-a129-232d6f53b28b",
   "metadata": {},
   "outputs": [],
   "source": [
    "b=9.99"
   ]
  },
  {
   "cell_type": "code",
   "execution_count": 7,
   "id": "5bc027f5-60e1-40a2-87a2-7ce492eaabe6",
   "metadata": {},
   "outputs": [],
   "source": [
    "c=int(b)"
   ]
  },
  {
   "cell_type": "code",
   "execution_count": 8,
   "id": "1a2e4ee9-624d-44e1-bf35-c77b08f2730f",
   "metadata": {},
   "outputs": [
    {
     "data": {
      "text/plain": [
       "9"
      ]
     },
     "execution_count": 8,
     "metadata": {},
     "output_type": "execute_result"
    }
   ],
   "source": [
    "c"
   ]
  },
  {
   "cell_type": "code",
   "execution_count": 40,
   "id": "c34890e8-15e5-4e64-8b70-1622d521312b",
   "metadata": {},
   "outputs": [],
   "source": [
    "g=9.88"
   ]
  },
  {
   "cell_type": "code",
   "execution_count": 41,
   "id": "d108c79d-02da-4eb0-a472-8ec178bbfe10",
   "metadata": {},
   "outputs": [],
   "source": [
    "h=complex(g)"
   ]
  },
  {
   "cell_type": "code",
   "execution_count": 42,
   "id": "d0821985-3453-4bbb-baec-166e4aa4891c",
   "metadata": {},
   "outputs": [
    {
     "data": {
      "text/plain": [
       "(9.88+0j)"
      ]
     },
     "execution_count": 42,
     "metadata": {},
     "output_type": "execute_result"
    }
   ],
   "source": [
    "h"
   ]
  },
  {
   "cell_type": "code",
   "execution_count": 44,
   "id": "da7969ec-5c11-48b8-bdd6-d49927c1e467",
   "metadata": {},
   "outputs": [],
   "source": [
    "f=False"
   ]
  },
  {
   "cell_type": "code",
   "execution_count": 45,
   "id": "21cc2b20-5a7a-43ed-a073-4a4a994a5d9f",
   "metadata": {},
   "outputs": [],
   "source": [
    "i=int(f)"
   ]
  },
  {
   "cell_type": "code",
   "execution_count": 46,
   "id": "78ba8fd2-4504-4445-ae95-af5be3ec5fdb",
   "metadata": {},
   "outputs": [
    {
     "data": {
      "text/plain": [
       "0"
      ]
     },
     "execution_count": 46,
     "metadata": {},
     "output_type": "execute_result"
    }
   ],
   "source": [
    "i"
   ]
  },
  {
   "cell_type": "code",
   "execution_count": null,
   "id": "afc2ad57-9b97-4c10-9c5d-787b94353c97",
   "metadata": {},
   "outputs": [],
   "source": []
  }
 ],
 "metadata": {
  "kernelspec": {
   "display_name": "Python 3 (ipykernel)",
   "language": "python",
   "name": "python3"
  },
  "language_info": {
   "codemirror_mode": {
    "name": "ipython",
    "version": 3
   },
   "file_extension": ".py",
   "mimetype": "text/x-python",
   "name": "python",
   "nbconvert_exporter": "python",
   "pygments_lexer": "ipython3",
   "version": "3.10.8"
  }
 },
 "nbformat": 4,
 "nbformat_minor": 5
}
