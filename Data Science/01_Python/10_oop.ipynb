{
 "cells": [
  {
   "cell_type": "markdown",
   "id": "20ecff8b-7042-420f-b95c-015b7eff3a35",
   "metadata": {},
   "source": [
    "# OOP object ortiented programming\n"
   ]
  },
  {
   "cell_type": "markdown",
   "id": "496a7dab-cdba-4012-921a-efd0b2bab961",
   "metadata": {},
   "source": [
    "# class"
   ]
  },
  {
   "cell_type": "code",
   "execution_count": 1,
   "id": "9b0a4b51-c41c-4f5a-873d-e8fde25ed1e0",
   "metadata": {},
   "outputs": [],
   "source": [
    "a=1"
   ]
  },
  {
   "cell_type": "code",
   "execution_count": 2,
   "id": "27a09d81-9297-4ecc-9b6c-070e3c3956e9",
   "metadata": {},
   "outputs": [
    {
     "data": {
      "text/plain": [
       "1"
      ]
     },
     "execution_count": 2,
     "metadata": {},
     "output_type": "execute_result"
    }
   ],
   "source": [
    "a"
   ]
  },
  {
   "cell_type": "code",
   "execution_count": 3,
   "id": "94648698-044e-4395-bde3-d76a6db362b2",
   "metadata": {},
   "outputs": [
    {
     "name": "stdout",
     "output_type": "stream",
     "text": [
      "<class 'int'>\n"
     ]
    }
   ],
   "source": [
    "print(type(a))"
   ]
  },
  {
   "cell_type": "code",
   "execution_count": 4,
   "id": "ecd948d9-a5c7-4220-aa68-594e070c563e",
   "metadata": {},
   "outputs": [],
   "source": [
    "b=\"string\"\n"
   ]
  },
  {
   "cell_type": "code",
   "execution_count": 5,
   "id": "f8ffd2bc-db88-4a3b-9b57-e0c6c9b60588",
   "metadata": {},
   "outputs": [
    {
     "data": {
      "text/plain": [
       "'string'"
      ]
     },
     "execution_count": 5,
     "metadata": {},
     "output_type": "execute_result"
    }
   ],
   "source": [
    "b"
   ]
  },
  {
   "cell_type": "code",
   "execution_count": 6,
   "id": "1d1a1ab7-00ed-4957-9bfa-486717a50b02",
   "metadata": {},
   "outputs": [
    {
     "name": "stdout",
     "output_type": "stream",
     "text": [
      "<class 'str'>\n"
     ]
    }
   ],
   "source": [
    "print(type(b))"
   ]
  },
  {
   "cell_type": "code",
   "execution_count": 1,
   "id": "5dca3488-0961-44ce-b694-ecc22abf1387",
   "metadata": {},
   "outputs": [],
   "source": [
    "class Test:\n",
    "    pass"
   ]
  },
  {
   "cell_type": "code",
   "execution_count": 2,
   "id": "abc101f3-3270-4777-b3d6-4619c7919c57",
   "metadata": {},
   "outputs": [
    {
     "name": "stdout",
     "output_type": "stream",
     "text": [
      "<class '__main__.Test'>\n"
     ]
    }
   ],
   "source": [
    "print(type(Test()))"
   ]
  },
  {
   "cell_type": "code",
   "execution_count": 3,
   "id": "98e65368-088f-400f-984a-30041b2e6095",
   "metadata": {},
   "outputs": [],
   "source": [
    "class test1:\n",
    "    def course_name():\n",
    "        print(\"it is a data scince course\")"
   ]
  },
  {
   "cell_type": "code",
   "execution_count": 4,
   "id": "721d0ff7-1ce4-4d61-aebb-3c6e3dd53456",
   "metadata": {},
   "outputs": [],
   "source": [
    "t=test1()"
   ]
  },
  {
   "cell_type": "code",
   "execution_count": 12,
   "id": "2e2c7181-8113-4fb9-8ab7-a34b5923cb0a",
   "metadata": {},
   "outputs": [
    {
     "data": {
      "text/plain": [
       "<bound method test2.course_name of <__main__.test2 object at 0x7f8899ceb580>>"
      ]
     },
     "execution_count": 12,
     "metadata": {},
     "output_type": "execute_result"
    }
   ],
   "source": [
    "t.course_name"
   ]
  },
  {
   "cell_type": "code",
   "execution_count": 6,
   "id": "1889c989-d8e9-4880-bf8c-20c780190ae3",
   "metadata": {},
   "outputs": [],
   "source": [
    "class test2:\n",
    "    def course_name(self):\n",
    "        print(\"it is a data scince course\")"
   ]
  },
  {
   "cell_type": "code",
   "execution_count": 7,
   "id": "b027a12c-e9f6-4523-989a-358bdd89cd18",
   "metadata": {},
   "outputs": [],
   "source": [
    "t=test2()"
   ]
  },
  {
   "cell_type": "code",
   "execution_count": 9,
   "id": "4300ec31-c684-45c3-a97e-5f2153910c32",
   "metadata": {},
   "outputs": [
    {
     "data": {
      "text/plain": [
       "<bound method test2.course_name of <__main__.test2 object at 0x7f8899ceb580>>"
      ]
     },
     "execution_count": 9,
     "metadata": {},
     "output_type": "execute_result"
    }
   ],
   "source": [
    "t.course_name"
   ]
  },
  {
   "cell_type": "code",
   "execution_count": 10,
   "id": "ae44e098-0d01-4d8d-ad66-403694814b92",
   "metadata": {},
   "outputs": [
    {
     "name": "stdout",
     "output_type": "stream",
     "text": [
      "it is a data scince course\n"
     ]
    }
   ],
   "source": [
    "t.course_name()"
   ]
  },
  {
   "cell_type": "code",
   "execution_count": 66,
   "id": "feb42055-dd88-4098-b105-50a837e2efa8",
   "metadata": {},
   "outputs": [],
   "source": [
    "class test5:\n",
    "    \n",
    "    def __init__(self ,  course_name ,price ,duration ):# it is like a constructor\n",
    "        \n",
    "        \n",
    "        self.course_name = course_name\n",
    "        self.price = price\n",
    "        self.duration = duration\n",
    "        \n",
    "    def return_out(self):\n",
    "        return self.course_name, self.price,self.duration"
   ]
  },
  {
   "cell_type": "code",
   "execution_count": 67,
   "id": "837cb358-6bd2-4ad0-a1f9-85b99db510f3",
   "metadata": {},
   "outputs": [],
   "source": [
    "t=test5(\"abc\",300,6)"
   ]
  },
  {
   "cell_type": "code",
   "execution_count": 68,
   "id": "0cffd048-790f-4c16-92d1-45acaacf0b63",
   "metadata": {},
   "outputs": [
    {
     "data": {
      "text/plain": [
       "'abc'"
      ]
     },
     "execution_count": 68,
     "metadata": {},
     "output_type": "execute_result"
    }
   ],
   "source": [
    "t.course_name"
   ]
  },
  {
   "cell_type": "code",
   "execution_count": 69,
   "id": "1447ca1f-4570-4041-b417-a227c9cd69f2",
   "metadata": {},
   "outputs": [
    {
     "data": {
      "text/plain": [
       "6"
      ]
     },
     "execution_count": 69,
     "metadata": {},
     "output_type": "execute_result"
    }
   ],
   "source": [
    "t.duration"
   ]
  },
  {
   "cell_type": "code",
   "execution_count": 71,
   "id": "0a094b78-cb55-407c-8ac9-8867a3dcd457",
   "metadata": {},
   "outputs": [
    {
     "data": {
      "text/plain": [
       "300"
      ]
     },
     "execution_count": 71,
     "metadata": {},
     "output_type": "execute_result"
    }
   ],
   "source": [
    "t.price"
   ]
  },
  {
   "cell_type": "code",
   "execution_count": 72,
   "id": "07f218f8-1937-4c16-9c52-ba59e9296c7f",
   "metadata": {},
   "outputs": [
    {
     "data": {
      "text/plain": [
       "<bound method test5.return_out of <__main__.test5 object at 0x7f43a5f79c60>>"
      ]
     },
     "execution_count": 72,
     "metadata": {},
     "output_type": "execute_result"
    }
   ],
   "source": [
    "t.return_out"
   ]
  },
  {
   "cell_type": "code",
   "execution_count": 75,
   "id": "8140aff9-3282-4cdd-85ea-15f12f437c1b",
   "metadata": {},
   "outputs": [
    {
     "data": {
      "text/plain": [
       "('abc', 300, 6)"
      ]
     },
     "execution_count": 75,
     "metadata": {},
     "output_type": "execute_result"
    }
   ],
   "source": [
    "t.return_out()"
   ]
  },
  {
   "cell_type": "code",
   "execution_count": 13,
   "id": "79b1ef8c-ff48-4a64-89b7-12518b24130f",
   "metadata": {},
   "outputs": [],
   "source": [
    "class pwskills1:\n",
    "    \n",
    "    course=\"pwskills\" # class attribute  we don't need to define again and we can acces through class name or using self\n",
    "    \n",
    "    def __init__(self ,phone_number , email_id, student_id ): # it is like a constructor\n",
    "        \n",
    "        self.phone_number = phone_number\n",
    "        self.email_id = email_id\n",
    "        self.student_id = student_id\n",
    "        \n",
    "    \n",
    "    def return_student_detials(self):\n",
    "        return self.phone_number, self.email_id , self.student_id, pwskills1.course"
   ]
  },
  {
   "cell_type": "code",
   "execution_count": 14,
   "id": "705b423c-c309-49d6-b0fc-fa6d12d2f43e",
   "metadata": {},
   "outputs": [],
   "source": [
    "pw=pwskills1(888888,\"piyush@gmail.com\",234)"
   ]
  },
  {
   "cell_type": "code",
   "execution_count": 15,
   "id": "4216d15a-c9ae-4431-b35a-753fdfbbbe64",
   "metadata": {},
   "outputs": [
    {
     "data": {
      "text/plain": [
       "(888888, 'piyush@gmail.com', 234, 'pwskills')"
      ]
     },
     "execution_count": 15,
     "metadata": {},
     "output_type": "execute_result"
    }
   ],
   "source": [
    "pw.return_student_detials()"
   ]
  },
  {
   "cell_type": "code",
   "execution_count": 16,
   "id": "bb36c659-8f5d-405c-8e66-8bb3631506b8",
   "metadata": {},
   "outputs": [],
   "source": [
    "pw.phone_number=88888888 # update"
   ]
  },
  {
   "cell_type": "code",
   "execution_count": 17,
   "id": "f47b4b3f-51cf-4cb2-88c4-c50be37b2fdb",
   "metadata": {},
   "outputs": [
    {
     "data": {
      "text/plain": [
       "88888888"
      ]
     },
     "execution_count": 17,
     "metadata": {},
     "output_type": "execute_result"
    }
   ],
   "source": [
    "pw.phone_number"
   ]
  },
  {
   "cell_type": "code",
   "execution_count": 18,
   "id": "575a643f-0932-451a-a67f-54bb6314cf38",
   "metadata": {},
   "outputs": [],
   "source": [
    "del pw.email_id # delete"
   ]
  },
  {
   "cell_type": "code",
   "execution_count": 19,
   "id": "d71a41a5-e558-41eb-9d10-f6f23aeb85a8",
   "metadata": {},
   "outputs": [
    {
     "data": {
      "text/plain": [
       "88888888"
      ]
     },
     "execution_count": 19,
     "metadata": {},
     "output_type": "execute_result"
    }
   ],
   "source": [
    "pw.phone_number"
   ]
  },
  {
   "cell_type": "code",
   "execution_count": 20,
   "id": "f1c1290f-7464-4b8d-9365-f65bf989e608",
   "metadata": {},
   "outputs": [
    {
     "data": {
      "text/plain": [
       "234"
      ]
     },
     "execution_count": 20,
     "metadata": {},
     "output_type": "execute_result"
    }
   ],
   "source": [
    "pw.student_id"
   ]
  },
  {
   "cell_type": "code",
   "execution_count": 21,
   "id": "b79b8bf3-52b6-4b6c-b0d5-22f3cc93b90c",
   "metadata": {},
   "outputs": [
    {
     "data": {
      "text/plain": [
       "'pwskills'"
      ]
     },
     "execution_count": 21,
     "metadata": {},
     "output_type": "execute_result"
    }
   ],
   "source": [
    "pw.course"
   ]
  },
  {
   "cell_type": "code",
   "execution_count": 82,
   "id": "96ecafb1-702b-4779-8793-f3847171b7d1",
   "metadata": {},
   "outputs": [
    {
     "ename": "AttributeError",
     "evalue": "'pwskills1' object has no attribute 'email_id'",
     "output_type": "error",
     "traceback": [
      "\u001b[0;31m---------------------------------------------------------------------------\u001b[0m",
      "\u001b[0;31mAttributeError\u001b[0m                            Traceback (most recent call last)",
      "Cell \u001b[0;32mIn[82], line 1\u001b[0m\n\u001b[0;32m----> 1\u001b[0m \u001b[43mpw\u001b[49m\u001b[38;5;241;43m.\u001b[39;49m\u001b[43mreturn_student_detials\u001b[49m\u001b[43m(\u001b[49m\u001b[43m)\u001b[49m\n",
      "Cell \u001b[0;32mIn[46], line 11\u001b[0m, in \u001b[0;36mpwskills1.return_student_detials\u001b[0;34m(self)\u001b[0m\n\u001b[1;32m     10\u001b[0m \u001b[38;5;28;01mdef\u001b[39;00m \u001b[38;5;21mreturn_student_detials\u001b[39m(\u001b[38;5;28mself\u001b[39m):\n\u001b[0;32m---> 11\u001b[0m     \u001b[38;5;28;01mreturn\u001b[39;00m \u001b[38;5;28mself\u001b[39m\u001b[38;5;241m.\u001b[39mphone_number, \u001b[38;5;28;43mself\u001b[39;49m\u001b[38;5;241;43m.\u001b[39;49m\u001b[43memail_id\u001b[49m , \u001b[38;5;28mself\u001b[39m\u001b[38;5;241m.\u001b[39mstudent_id\n",
      "\u001b[0;31mAttributeError\u001b[0m: 'pwskills1' object has no attribute 'email_id'"
     ]
    }
   ],
   "source": [
    "pw.return_student_detials()"
   ]
  },
  {
   "cell_type": "markdown",
   "id": "c4f5f3de-6666-493b-959a-5370841a5d31",
   "metadata": {},
   "source": [
    "#The word \"polymorphism\" means \"many forms\", and in programming it refers to methods/functions/operators with the same name that can be executed on many objects or classes."
   ]
  },
  {
   "cell_type": "code",
   "execution_count": 83,
   "id": "e45c60ca-9b57-4c83-82f1-8ce18de8af9b",
   "metadata": {},
   "outputs": [],
   "source": [
    "class data_science:\n",
    "    def syllabus(self) : \n",
    "        print(\"this is my method for data science syllbaus \" )"
   ]
  },
  {
   "cell_type": "code",
   "execution_count": 84,
   "id": "89e1990d-66ad-4c1c-b7f9-546b95dce19c",
   "metadata": {},
   "outputs": [],
   "source": [
    "class web_dev :\n",
    "    def syllabus(self) : \n",
    "        print(\"this is my method for web dev \" )"
   ]
  },
  {
   "cell_type": "code",
   "execution_count": 85,
   "id": "754570fd-973c-4451-bb09-44e4c536e86d",
   "metadata": {},
   "outputs": [],
   "source": [
    "def class_parcer(class_obj) : \n",
    "    for i in class_obj : \n",
    "        i.syllabus()"
   ]
  },
  {
   "cell_type": "code",
   "execution_count": 86,
   "id": "d83aefb8-e141-4734-b92b-6d00e6c5cc36",
   "metadata": {},
   "outputs": [],
   "source": [
    "obj_data_science= data_science()"
   ]
  },
  {
   "cell_type": "code",
   "execution_count": 87,
   "id": "f33840c8-8d1f-42ce-953f-6afa0e156375",
   "metadata": {},
   "outputs": [],
   "source": [
    "obj_web_dev = web_dev()"
   ]
  },
  {
   "cell_type": "code",
   "execution_count": 88,
   "id": "edb92c59-b293-46e2-952e-82ee85acaea9",
   "metadata": {},
   "outputs": [],
   "source": [
    "class_ojb = [obj_data_science , obj_web_dev]"
   ]
  },
  {
   "cell_type": "code",
   "execution_count": 89,
   "id": "bc9dfb45-d296-4b7f-b3ca-6b90a5db276e",
   "metadata": {},
   "outputs": [
    {
     "name": "stdout",
     "output_type": "stream",
     "text": [
      "this is my method for data science syllbaus \n",
      "this is my method for web dev \n"
     ]
    }
   ],
   "source": [
    "class_parcer(class_ojb) # this is called polymorphism"
   ]
  },
  {
   "cell_type": "markdown",
   "id": "86175909-c721-4666-82ba-dec3a9939a65",
   "metadata": {},
   "source": [
    "# inhertance"
   ]
  },
  {
   "cell_type": "markdown",
   "id": "5a5065fa-8597-4092-ab2b-541a8b4bf757",
   "metadata": {},
   "source": [
    "## inheritance allows us to define a class that inherits all the methods and properties from another class.\n",
    "## Parent class is the class being inherited from, also called base class.\n",
    "## Child class is the class that inherits from another class, also called derived class.\n",
    "\n"
   ]
  },
  {
   "cell_type": "code",
   "execution_count": 5,
   "id": "765ba97d-a739-465f-93bb-a343f64226aa",
   "metadata": {},
   "outputs": [],
   "source": [
    "class parent:\n",
    "    def test(self):\n",
    "        print(\"this is parent class\")"
   ]
  },
  {
   "cell_type": "code",
   "execution_count": 6,
   "id": "81c43e75-33c9-4d08-841a-96490d54c2d2",
   "metadata": {},
   "outputs": [],
   "source": [
    "class child(parent):\n",
    "    def test1(self):\n",
    "        print(\"this is chlid class\")"
   ]
  },
  {
   "cell_type": "code",
   "execution_count": 7,
   "id": "9d09cbea-9315-4e00-860b-ef11437c1800",
   "metadata": {},
   "outputs": [],
   "source": [
    "ch=child()"
   ]
  },
  {
   "cell_type": "code",
   "execution_count": 8,
   "id": "7fdc7679-29ff-48ef-85a4-797491b1c06c",
   "metadata": {},
   "outputs": [
    {
     "name": "stdout",
     "output_type": "stream",
     "text": [
      "this is parent class\n"
     ]
    }
   ],
   "source": [
    "ch.test()"
   ]
  },
  {
   "cell_type": "code",
   "execution_count": 9,
   "id": "16a3d2ac-b9c1-430f-b8d7-7b8a5fe332f1",
   "metadata": {},
   "outputs": [
    {
     "name": "stdout",
     "output_type": "stream",
     "text": [
      "this is chlid class\n"
     ]
    }
   ],
   "source": [
    "ch.test1()"
   ]
  },
  {
   "cell_type": "code",
   "execution_count": 15,
   "id": "584c6cf1-d529-4f40-b1e0-30f8fb9672cf",
   "metadata": {},
   "outputs": [],
   "source": [
    "class test1:\n",
    "    def tes(self):\n",
    "        print(\"i am first\")"
   ]
  },
  {
   "cell_type": "code",
   "execution_count": 16,
   "id": "37f97a66-1a21-4ec2-adfc-8784df51711f",
   "metadata": {},
   "outputs": [],
   "source": [
    "class test2(test1):\n",
    "    def tes1(self):\n",
    "        print(\"i am second\")"
   ]
  },
  {
   "cell_type": "code",
   "execution_count": 19,
   "id": "ff4a8912-bf03-4e4e-90cc-1689cb746efd",
   "metadata": {},
   "outputs": [],
   "source": [
    "class test3(test2):\n",
    "    def tes2(self):\n",
    "        print(\"i am third\")"
   ]
  },
  {
   "cell_type": "code",
   "execution_count": 23,
   "id": "faaf7843-f2b9-4ed0-b2cb-dc8c376d3723",
   "metadata": {},
   "outputs": [],
   "source": [
    "t=test3()"
   ]
  },
  {
   "cell_type": "code",
   "execution_count": 20,
   "id": "73ed9044-b566-414e-ac9d-2e7c13632ef2",
   "metadata": {},
   "outputs": [
    {
     "name": "stdout",
     "output_type": "stream",
     "text": [
      "i am first\n"
     ]
    }
   ],
   "source": [
    "t.tes()"
   ]
  },
  {
   "cell_type": "code",
   "execution_count": 22,
   "id": "7c830207-c396-4f90-838a-36285145caab",
   "metadata": {},
   "outputs": [
    {
     "name": "stdout",
     "output_type": "stream",
     "text": [
      "i am third\n"
     ]
    }
   ],
   "source": [
    "t.tes1()"
   ]
  },
  {
   "cell_type": "code",
   "execution_count": 24,
   "id": "ea385424-7f3c-4252-8267-34f96311be13",
   "metadata": {},
   "outputs": [
    {
     "name": "stdout",
     "output_type": "stream",
     "text": [
      "i am third\n"
     ]
    }
   ],
   "source": [
    "t.tes2()"
   ]
  },
  {
   "cell_type": "code",
   "execution_count": 25,
   "id": "a95d5c82-210b-4b71-84a9-5bb60f000258",
   "metadata": {},
   "outputs": [],
   "source": [
    "class testing1:\n",
    "    def testin(self):\n",
    "        print(\"i am first\")"
   ]
  },
  {
   "cell_type": "code",
   "execution_count": 26,
   "id": "a55af4d7-a229-4d4c-a716-159afd858f8b",
   "metadata": {},
   "outputs": [],
   "source": [
    "class testing2:\n",
    "    def testin1(self):\n",
    "        print(\"i am second\")"
   ]
  },
  {
   "cell_type": "code",
   "execution_count": 29,
   "id": "9e99789e-f089-4018-adfb-8c1c320a8117",
   "metadata": {},
   "outputs": [],
   "source": [
    "class testing3(testing1,testing2):\n",
    "    pass"
   ]
  },
  {
   "cell_type": "code",
   "execution_count": 30,
   "id": "5c5e7311-f987-4ade-a97b-999674b31d7e",
   "metadata": {},
   "outputs": [],
   "source": [
    "f=testing3()"
   ]
  },
  {
   "cell_type": "code",
   "execution_count": 32,
   "id": "7a61a922-715b-4cd7-8f77-a622bcd2c896",
   "metadata": {},
   "outputs": [
    {
     "name": "stdout",
     "output_type": "stream",
     "text": [
      "i am second\n"
     ]
    }
   ],
   "source": [
    "f.testin1()"
   ]
  },
  {
   "cell_type": "code",
   "execution_count": 33,
   "id": "08d2718c-be0b-4ede-a6eb-99228996b55e",
   "metadata": {},
   "outputs": [
    {
     "name": "stdout",
     "output_type": "stream",
     "text": [
      "i am first\n"
     ]
    }
   ],
   "source": [
    "f.testin()"
   ]
  },
  {
   "cell_type": "markdown",
   "id": "cb6bfbaf-a0bd-4724-bb8b-64f80414e4ba",
   "metadata": {},
   "source": [
    "# encapsulation"
   ]
  },
  {
   "cell_type": "code",
   "execution_count": 36,
   "id": "30df27fd-3b8e-4c59-a55f-eb8d1bf88e80",
   "metadata": {},
   "outputs": [],
   "source": [
    "class test:\n",
    "    def __init__(self,car,speed,price):\n",
    "        self.car=car\n",
    "        self.speed=speed\n",
    "        self.price=price\n",
    "        \n",
    "    def returnout(self):\n",
    "        return self.car,self.speed,self.price"
   ]
  },
  {
   "cell_type": "code",
   "execution_count": 38,
   "id": "a9af7718-5edd-4cc0-863d-0ed4a6d25a33",
   "metadata": {},
   "outputs": [],
   "source": [
    "t=test(\"nexon\",100,500000)"
   ]
  },
  {
   "cell_type": "code",
   "execution_count": 39,
   "id": "7c288f67-ebe1-4929-9927-bcc8909bfdc1",
   "metadata": {},
   "outputs": [
    {
     "data": {
      "text/plain": [
       "'nexon'"
      ]
     },
     "execution_count": 39,
     "metadata": {},
     "output_type": "execute_result"
    }
   ],
   "source": [
    "t.car"
   ]
  },
  {
   "cell_type": "code",
   "execution_count": 40,
   "id": "02f73705-32b8-4bd3-9b4a-e4b72140c7d1",
   "metadata": {},
   "outputs": [
    {
     "data": {
      "text/plain": [
       "500000"
      ]
     },
     "execution_count": 40,
     "metadata": {},
     "output_type": "execute_result"
    }
   ],
   "source": [
    "t.price"
   ]
  },
  {
   "cell_type": "code",
   "execution_count": 41,
   "id": "ea09e999-2703-41e2-958d-ea8fd53b2fcf",
   "metadata": {},
   "outputs": [
    {
     "data": {
      "text/plain": [
       "100"
      ]
     },
     "execution_count": 41,
     "metadata": {},
     "output_type": "execute_result"
    }
   ],
   "source": [
    "t.speed"
   ]
  },
  {
   "cell_type": "code",
   "execution_count": 43,
   "id": "8e92fd88-adc3-40b2-9d4e-55b806c7cb03",
   "metadata": {},
   "outputs": [
    {
     "data": {
      "text/plain": [
       "('nexon', 100, 500000)"
      ]
     },
     "execution_count": 43,
     "metadata": {},
     "output_type": "execute_result"
    }
   ],
   "source": [
    "t.returnout()"
   ]
  },
  {
   "cell_type": "code",
   "execution_count": 44,
   "id": "a24d0aba-9c95-49d1-bfdb-d842835f681d",
   "metadata": {},
   "outputs": [],
   "source": [
    "t.speed=120"
   ]
  },
  {
   "cell_type": "code",
   "execution_count": 45,
   "id": "42ab6ce2-71eb-4a9f-a168-ca04896ac34c",
   "metadata": {},
   "outputs": [
    {
     "data": {
      "text/plain": [
       "120"
      ]
     },
     "execution_count": 45,
     "metadata": {},
     "output_type": "execute_result"
    }
   ],
   "source": [
    "t.speed"
   ]
  },
  {
   "cell_type": "code",
   "execution_count": 46,
   "id": "9b255689-2317-4b87-9cf7-b07230419b4c",
   "metadata": {},
   "outputs": [],
   "source": [
    "class test1:\n",
    "    def __init__(self,car,speed,price):\n",
    "        self.__car=car\n",
    "        self.__speed=speed\n",
    "        self.price=price\n",
    "        \n",
    "    def returnout(self):\n",
    "        return self.__car,self.__speed,self.price"
   ]
  },
  {
   "cell_type": "code",
   "execution_count": 47,
   "id": "21e438a4-410e-46aa-9c39-6de4686b36c8",
   "metadata": {},
   "outputs": [],
   "source": [
    "t1=test1(\"nexon\",100,500000)"
   ]
  },
  {
   "cell_type": "code",
   "execution_count": 48,
   "id": "6dbdb4cc-b7b1-4e83-98bb-8184eced783f",
   "metadata": {},
   "outputs": [
    {
     "data": {
      "text/plain": [
       "('nexon', 100, 500000)"
      ]
     },
     "execution_count": 48,
     "metadata": {},
     "output_type": "execute_result"
    }
   ],
   "source": [
    "t1.returnout()"
   ]
  },
  {
   "cell_type": "code",
   "execution_count": 49,
   "id": "01d48f81-37e6-454b-a406-35d99776d51c",
   "metadata": {},
   "outputs": [
    {
     "data": {
      "text/plain": [
       "500000"
      ]
     },
     "execution_count": 49,
     "metadata": {},
     "output_type": "execute_result"
    }
   ],
   "source": [
    "t1.price"
   ]
  },
  {
   "cell_type": "code",
   "execution_count": 50,
   "id": "c1a30f4e-9f72-4992-a3e5-af4184d9a830",
   "metadata": {},
   "outputs": [
    {
     "data": {
      "text/plain": [
       "'nexon'"
      ]
     },
     "execution_count": 50,
     "metadata": {},
     "output_type": "execute_result"
    }
   ],
   "source": [
    "# as it encapsultaed in private mode\n",
    "t1._test1__car"
   ]
  },
  {
   "cell_type": "code",
   "execution_count": 51,
   "id": "b27426ac-e0bc-4b68-ae46-a9c5dba70c60",
   "metadata": {},
   "outputs": [
    {
     "data": {
      "text/plain": [
       "100"
      ]
     },
     "execution_count": 51,
     "metadata": {},
     "output_type": "execute_result"
    }
   ],
   "source": [
    "t1._test1__speed"
   ]
  },
  {
   "cell_type": "markdown",
   "id": "57d17d7a-f701-4d6a-832c-89f20f5dbca3",
   "metadata": {},
   "source": [
    "# abstration"
   ]
  },
  {
   "cell_type": "code",
   "execution_count": 52,
   "id": "bbb5a263-38e7-4ede-a11d-ffbc3fd3eb1c",
   "metadata": {},
   "outputs": [],
   "source": [
    "import abc\n",
    "\n",
    "class test:\n",
    "    \n",
    "    @abc.abstractmethod\n",
    "    def piyush(self):\n",
    "        pass\n",
    "    \n",
    "    @abc.abstractmethod\n",
    "    def piyu(self):\n",
    "        pass"
   ]
  },
  {
   "cell_type": "code",
   "execution_count": 53,
   "id": "34f1e5b8-3cc5-40b7-8ec8-950dab45a6a2",
   "metadata": {},
   "outputs": [],
   "source": [
    "class test2(test):\n",
    "    \n",
    "    def piyush(self):\n",
    "        return \"piyush\"\n",
    "    \n",
    "    "
   ]
  },
  {
   "cell_type": "code",
   "execution_count": 55,
   "id": "58d06eb6-4eeb-4f04-b432-38d6e3ecfc2a",
   "metadata": {},
   "outputs": [],
   "source": [
    "class test3(test):\n",
    "    \n",
    "    def piyu(self):\n",
    "        return \"piyu\""
   ]
  },
  {
   "cell_type": "code",
   "execution_count": 57,
   "id": "5a7f2160-25a2-4c24-a5c3-2297b2fd3b7e",
   "metadata": {},
   "outputs": [],
   "source": [
    "t=test2()"
   ]
  },
  {
   "cell_type": "code",
   "execution_count": 59,
   "id": "87ab2fcf-3716-44cb-9e1b-e834d0865296",
   "metadata": {},
   "outputs": [
    {
     "data": {
      "text/plain": [
       "'piyush'"
      ]
     },
     "execution_count": 59,
     "metadata": {},
     "output_type": "execute_result"
    }
   ],
   "source": [
    "t.piyush()"
   ]
  },
  {
   "cell_type": "code",
   "execution_count": 60,
   "id": "25871bdc-0a02-4878-8edf-3594231ac36c",
   "metadata": {},
   "outputs": [],
   "source": [
    "t.piyu() # as it is empty"
   ]
  },
  {
   "cell_type": "code",
   "execution_count": 61,
   "id": "7b4a5dd0-8e9d-4698-aab8-f3fef9d11c8d",
   "metadata": {},
   "outputs": [],
   "source": [
    "t2=test3()"
   ]
  },
  {
   "cell_type": "code",
   "execution_count": 63,
   "id": "94bc7c24-24a4-4e37-aaa2-e9f7af1dd676",
   "metadata": {},
   "outputs": [
    {
     "data": {
      "text/plain": [
       "'piyu'"
      ]
     },
     "execution_count": 63,
     "metadata": {},
     "output_type": "execute_result"
    }
   ],
   "source": [
    "t2.piyu()"
   ]
  },
  {
   "cell_type": "code",
   "execution_count": 65,
   "id": "dd0188cb-f8fb-4dee-9e9c-43746f03a85d",
   "metadata": {},
   "outputs": [],
   "source": [
    "t2.piyush()"
   ]
  },
  {
   "cell_type": "markdown",
   "id": "576ef003-3a41-48b2-9d34-ac648ac19681",
   "metadata": {},
   "source": [
    "# dector"
   ]
  },
  {
   "cell_type": "code",
   "execution_count": 66,
   "id": "3c04b6cf-2ea2-4475-a59e-6d9193a03cb8",
   "metadata": {},
   "outputs": [],
   "source": [
    "def test():\n",
    "    print(\"this is the start of my fun\")\n",
    "    print(4+5)\n",
    "    print(\"this is the end of my fun\")"
   ]
  },
  {
   "cell_type": "code",
   "execution_count": 67,
   "id": "690fc74a-4a4f-4fe6-9fee-a5de94717189",
   "metadata": {},
   "outputs": [
    {
     "name": "stdout",
     "output_type": "stream",
     "text": [
      "this is the start of my fun\n",
      "9\n",
      "this is the end of my fun\n"
     ]
    }
   ],
   "source": [
    "t=test()"
   ]
  },
  {
   "cell_type": "code",
   "execution_count": 68,
   "id": "fbd0ae75-078e-4654-b769-9ae79ae64c7d",
   "metadata": {},
   "outputs": [],
   "source": [
    "def deco(func):\n",
    "    def inner_deco():\n",
    "        print(\"this is the start of my fun\")\n",
    "        func()\n",
    "        print(\"this is the end of my fun\")\n",
    "    return inner_deco\n",
    "        "
   ]
  },
  {
   "cell_type": "code",
   "execution_count": 70,
   "id": "79278dfe-09f0-4ebe-bb03-452e21ef5828",
   "metadata": {},
   "outputs": [],
   "source": [
    "@deco\n",
    "def test1():\n",
    "    print(4+5)"
   ]
  },
  {
   "cell_type": "code",
   "execution_count": 72,
   "id": "5a9bc3f8-d91f-4dc1-b7a7-a1540d26494f",
   "metadata": {},
   "outputs": [
    {
     "name": "stdout",
     "output_type": "stream",
     "text": [
      "this is the start of my fun\n",
      "9\n",
      "this is the end of my fun\n"
     ]
    }
   ],
   "source": [
    "t=test1()"
   ]
  },
  {
   "cell_type": "code",
   "execution_count": 73,
   "id": "2d52e78c-380b-41c6-9579-907c261c8008",
   "metadata": {},
   "outputs": [],
   "source": [
    "# for checking time for excetion"
   ]
  },
  {
   "cell_type": "code",
   "execution_count": 74,
   "id": "2e37010e-aa00-49b2-9082-373d6e4997b3",
   "metadata": {},
   "outputs": [],
   "source": [
    "import time\n",
    "def timer_test(func) :\n",
    "    def timer_test_inner():\n",
    "        start = time.time()\n",
    "        func()\n",
    "        end = time.time()\n",
    "        print(end-start)\n",
    "    return timer_test_inner\n"
   ]
  },
  {
   "cell_type": "code",
   "execution_count": 75,
   "id": "40586441-3f4e-4aa0-95ec-96f007f49b21",
   "metadata": {},
   "outputs": [],
   "source": [
    "@timer_test\n",
    "def test2():\n",
    "    print(45+67)"
   ]
  },
  {
   "cell_type": "code",
   "execution_count": 76,
   "id": "9277c7e5-eb07-4c50-914b-f0b008bcae75",
   "metadata": {},
   "outputs": [
    {
     "name": "stdout",
     "output_type": "stream",
     "text": [
      "112\n",
      "5.125999450683594e-05\n"
     ]
    }
   ],
   "source": [
    "test2()"
   ]
  },
  {
   "cell_type": "code",
   "execution_count": null,
   "id": "adf45f87-ebf9-4eb5-bd0c-45cf9a96012d",
   "metadata": {},
   "outputs": [],
   "source": []
  }
 ],
 "metadata": {
  "kernelspec": {
   "display_name": "Python 3 (ipykernel)",
   "language": "python",
   "name": "python3"
  },
  "language_info": {
   "codemirror_mode": {
    "name": "ipython",
    "version": 3
   },
   "file_extension": ".py",
   "mimetype": "text/x-python",
   "name": "python",
   "nbconvert_exporter": "python",
   "pygments_lexer": "ipython3",
   "version": "3.10.8"
  }
 },
 "nbformat": 4,
 "nbformat_minor": 5
}
