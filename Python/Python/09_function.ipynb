{
 "cells": [
  {
   "cell_type": "code",
   "execution_count": 1,
   "id": "da505e40-bf4d-45ad-897a-65bcce50d19a",
   "metadata": {},
   "outputs": [],
   "source": [
    "def test():\n",
    "    print(\"hello world\")"
   ]
  },
  {
   "cell_type": "code",
   "execution_count": 2,
   "id": "db2462a4-c184-41b5-a048-c440e27b6f4c",
   "metadata": {},
   "outputs": [
    {
     "name": "stdout",
     "output_type": "stream",
     "text": [
      "hello world\n"
     ]
    }
   ],
   "source": [
    "test()"
   ]
  },
  {
   "cell_type": "code",
   "execution_count": 4,
   "id": "54589643-445e-40a0-8750-b32afb7227ab",
   "metadata": {},
   "outputs": [
    {
     "data": {
      "text/plain": [
       "function"
      ]
     },
     "execution_count": 4,
     "metadata": {},
     "output_type": "execute_result"
    }
   ],
   "source": [
    "type(test)"
   ]
  },
  {
   "cell_type": "code",
   "execution_count": 5,
   "id": "c2df4a9f-7e7c-499b-b1b3-506627a4d2fa",
   "metadata": {},
   "outputs": [
    {
     "name": "stdout",
     "output_type": "stream",
     "text": [
      "hello world\n"
     ]
    },
    {
     "data": {
      "text/plain": [
       "NoneType"
      ]
     },
     "execution_count": 5,
     "metadata": {},
     "output_type": "execute_result"
    }
   ],
   "source": [
    "type(test())"
   ]
  },
  {
   "cell_type": "code",
   "execution_count": 6,
   "id": "fb9988f3-f6d8-47dd-8b20-6fafb5a1319c",
   "metadata": {},
   "outputs": [
    {
     "ename": "TypeError",
     "evalue": "test() takes 0 positional arguments but 1 was given",
     "output_type": "error",
     "traceback": [
      "\u001b[0;31m---------------------------------------------------------------------------\u001b[0m",
      "\u001b[0;31mTypeError\u001b[0m                                 Traceback (most recent call last)",
      "Cell \u001b[0;32mIn[6], line 1\u001b[0m\n\u001b[0;32m----> 1\u001b[0m \u001b[43mtest\u001b[49m\u001b[43m(\u001b[49m\u001b[38;5;241;43m5\u001b[39;49m\u001b[43m)\u001b[49m\n",
      "\u001b[0;31mTypeError\u001b[0m: test() takes 0 positional arguments but 1 was given"
     ]
    }
   ],
   "source": [
    "test(5)"
   ]
  },
  {
   "cell_type": "code",
   "execution_count": 7,
   "id": "c7bc2d5f-3b95-4729-9e2d-c76a479b78f3",
   "metadata": {},
   "outputs": [
    {
     "name": "stdout",
     "output_type": "stream",
     "text": [
      "hello world\n"
     ]
    },
    {
     "ename": "TypeError",
     "evalue": "unsupported operand type(s) for +: 'NoneType' and 'str'",
     "output_type": "error",
     "traceback": [
      "\u001b[0;31m---------------------------------------------------------------------------\u001b[0m",
      "\u001b[0;31mTypeError\u001b[0m                                 Traceback (most recent call last)",
      "Cell \u001b[0;32mIn[7], line 1\u001b[0m\n\u001b[0;32m----> 1\u001b[0m \u001b[43mtest\u001b[49m\u001b[43m(\u001b[49m\u001b[43m)\u001b[49m\u001b[38;5;241;43m+\u001b[39;49m\u001b[38;5;124;43m\"\u001b[39;49m\u001b[38;5;124;43mpiyu\u001b[39;49m\u001b[38;5;124;43m\"\u001b[39;49m\n",
      "\u001b[0;31mTypeError\u001b[0m: unsupported operand type(s) for +: 'NoneType' and 'str'"
     ]
    }
   ],
   "source": [
    "test()+\"piyu\" # using print "
   ]
  },
  {
   "cell_type": "code",
   "execution_count": 8,
   "id": "54334abb-de25-474b-aa5e-652487e6bb36",
   "metadata": {},
   "outputs": [],
   "source": [
    "def test1(a,b):\n",
    "    c=a+b\n",
    "    return c"
   ]
  },
  {
   "cell_type": "code",
   "execution_count": 9,
   "id": "c0e444b0-a961-4d84-bf4f-16340a081ae8",
   "metadata": {},
   "outputs": [
    {
     "data": {
      "text/plain": [
       "5"
      ]
     },
     "execution_count": 9,
     "metadata": {},
     "output_type": "execute_result"
    }
   ],
   "source": [
    "test1(2,3)"
   ]
  },
  {
   "cell_type": "code",
   "execution_count": 10,
   "id": "e00c0878-9894-4918-8f05-5f0de27bf63e",
   "metadata": {},
   "outputs": [
    {
     "data": {
      "text/plain": [
       "371630"
      ]
     },
     "execution_count": 10,
     "metadata": {},
     "output_type": "execute_result"
    }
   ],
   "source": [
    "test1(17837,353793)"
   ]
  },
  {
   "cell_type": "code",
   "execution_count": 11,
   "id": "2f1c597a-162e-4942-adb6-301c732219d7",
   "metadata": {},
   "outputs": [],
   "source": [
    "def test2():\n",
    "    return \"hello world\""
   ]
  },
  {
   "cell_type": "code",
   "execution_count": 12,
   "id": "83ed2edf-bbd1-47eb-98db-8fe53c245c9f",
   "metadata": {},
   "outputs": [
    {
     "data": {
      "text/plain": [
       "'hello world piyush'"
      ]
     },
     "execution_count": 12,
     "metadata": {},
     "output_type": "execute_result"
    }
   ],
   "source": [
    "test2()+ \" piyush\" # using return"
   ]
  },
  {
   "cell_type": "code",
   "execution_count": 13,
   "id": "5092595c-b069-4e34-be81-15d2f4bd47de",
   "metadata": {},
   "outputs": [],
   "source": [
    "def test3(a,b,c,d):\n",
    "    return a**b+(c+d)*2\n",
    "    "
   ]
  },
  {
   "cell_type": "code",
   "execution_count": 14,
   "id": "f956d17b-1d09-4472-a158-270b9c334bae",
   "metadata": {},
   "outputs": [
    {
     "data": {
      "text/plain": [
       "26"
      ]
     },
     "execution_count": 14,
     "metadata": {},
     "output_type": "execute_result"
    }
   ],
   "source": [
    "test3(2,3,4,5)"
   ]
  },
  {
   "cell_type": "code",
   "execution_count": 15,
   "id": "3eaf9b44-179b-499a-97fd-d8d7eba7efb9",
   "metadata": {},
   "outputs": [],
   "source": [
    "def test1(a,b):\n",
    "    \n",
    "    return a+b"
   ]
  },
  {
   "cell_type": "code",
   "execution_count": 16,
   "id": "af9fa703-1f4e-44fa-b11a-58d0c506f244",
   "metadata": {},
   "outputs": [
    {
     "data": {
      "text/plain": [
       "[1, 2, 3, 4, 6, 7, 8, 2]"
      ]
     },
     "execution_count": 16,
     "metadata": {},
     "output_type": "execute_result"
    }
   ],
   "source": [
    "test1([1,2,3,4],[6,7,8,2])"
   ]
  },
  {
   "cell_type": "code",
   "execution_count": 17,
   "id": "ce6a6d44-288d-4615-8e25-fd6a17663192",
   "metadata": {},
   "outputs": [
    {
     "data": {
      "text/plain": [
       "'piyushmali'"
      ]
     },
     "execution_count": 17,
     "metadata": {},
     "output_type": "execute_result"
    }
   ],
   "source": [
    "test1(\"piyush\",\"mali\")"
   ]
  },
  {
   "cell_type": "code",
   "execution_count": 18,
   "id": "9c54a3c5-f53c-4513-a669-62d66bd57933",
   "metadata": {},
   "outputs": [
    {
     "data": {
      "text/plain": [
       "' mali piyush'"
      ]
     },
     "execution_count": 18,
     "metadata": {},
     "output_type": "execute_result"
    }
   ],
   "source": [
    "test1(b=\" piyush\",a=\" mali\")"
   ]
  },
  {
   "cell_type": "code",
   "execution_count": 19,
   "id": "87639674-9598-4469-b709-d41db424bc9e",
   "metadata": {},
   "outputs": [],
   "source": [
    "l = [1,2,3,4,5,\"sudh\" , \"pwskills\" , [1,2,3,34,45]]"
   ]
  },
  {
   "cell_type": "code",
   "execution_count": 20,
   "id": "2b6f737a-8325-4316-95d4-70ea96eeef99",
   "metadata": {},
   "outputs": [],
   "source": [
    "def test4(a):\n",
    "    n=[]\n",
    "    for i in a :\n",
    "        if type(i)==int:\n",
    "            n.append(i)\n",
    "    return n"
   ]
  },
  {
   "cell_type": "code",
   "execution_count": 21,
   "id": "00ed239a-6d86-4a0d-a502-01055bc193ae",
   "metadata": {},
   "outputs": [
    {
     "data": {
      "text/plain": [
       "[1, 2, 3, 4, 5]"
      ]
     },
     "execution_count": 21,
     "metadata": {},
     "output_type": "execute_result"
    }
   ],
   "source": [
    "test4(l)"
   ]
  },
  {
   "cell_type": "code",
   "execution_count": 22,
   "id": "426395ea-d23c-4b43-a4a5-009c8d7edec2",
   "metadata": {},
   "outputs": [],
   "source": [
    "def test5(a) : \n",
    "    n = []\n",
    "    for i in a :\n",
    "        if type(i) == list :\n",
    "            for j in i :\n",
    "                if type(j) == int or type(j) == float :\n",
    "                    n.append(j)\n",
    "        else :\n",
    "            if type(i) == int or type(i) == float :\n",
    "                n.append(i)\n",
    "    return n"
   ]
  },
  {
   "cell_type": "code",
   "execution_count": 24,
   "id": "db92bbfc-13c7-4459-9a77-2012f984971f",
   "metadata": {},
   "outputs": [
    {
     "data": {
      "text/plain": [
       "[1, 2, 3, 4, 5, 1, 2, 3, 34, 45]"
      ]
     },
     "execution_count": 24,
     "metadata": {},
     "output_type": "execute_result"
    }
   ],
   "source": [
    "test5(l)"
   ]
  },
  {
   "cell_type": "code",
   "execution_count": 25,
   "id": "be359c12-eebe-4828-9e47-49fc3068cefd",
   "metadata": {},
   "outputs": [],
   "source": [
    "def myfunc(a):\n",
    "    n=[]\n",
    "    for i in a:\n",
    "        if type(i)==list:\n",
    "            for j in i:\n",
    "                if type(j)==int :\n",
    "                    n.append(j)\n",
    "                else:\n",
    "                    pass\n",
    "        elif type(i)==str:\n",
    "            n.append(i)\n",
    "        else :\n",
    "            pass\n",
    "    return n"
   ]
  },
  {
   "cell_type": "code",
   "execution_count": 26,
   "id": "984a853a-eda8-42ac-bf57-bff359c104d9",
   "metadata": {},
   "outputs": [
    {
     "data": {
      "text/plain": [
       "['sudh', 'pwskills', 1, 2, 3, 34, 45]"
      ]
     },
     "execution_count": 26,
     "metadata": {},
     "output_type": "execute_result"
    }
   ],
   "source": [
    "myfunc(l)"
   ]
  },
  {
   "cell_type": "code",
   "execution_count": 26,
   "id": "4502ff13-aa79-4b55-bd2c-8713a866f4e0",
   "metadata": {},
   "outputs": [],
   "source": [
    "# for multipe inputs we can use args"
   ]
  },
  {
   "cell_type": "code",
   "execution_count": 27,
   "id": "77a1ccbf-34ff-4ba3-8738-8d82550dff35",
   "metadata": {},
   "outputs": [],
   "source": [
    "def test6(*args):\n",
    "    pass"
   ]
  },
  {
   "cell_type": "code",
   "execution_count": 31,
   "id": "076b64de-c496-4abd-9db2-bd9213a4e6a6",
   "metadata": {},
   "outputs": [],
   "source": [
    "def test6(*args):\n",
    "    return args*2"
   ]
  },
  {
   "cell_type": "code",
   "execution_count": 33,
   "id": "1a736419-5766-4ee8-8117-bebd0d878030",
   "metadata": {},
   "outputs": [],
   "source": [
    "def test7(*args):\n",
    "    return args"
   ]
  },
  {
   "cell_type": "code",
   "execution_count": 34,
   "id": "1573225a-54fa-433c-b546-f4887eeccb6a",
   "metadata": {},
   "outputs": [
    {
     "data": {
      "text/plain": [
       "(1, 2, 3, 5.5, 1, 2, 3, 5.5)"
      ]
     },
     "execution_count": 34,
     "metadata": {},
     "output_type": "execute_result"
    }
   ],
   "source": [
    "test6(1,2,3,5.5)"
   ]
  },
  {
   "cell_type": "code",
   "execution_count": 35,
   "id": "485afdc9-af99-457b-b077-1a517892a225",
   "metadata": {},
   "outputs": [
    {
     "data": {
      "text/plain": [
       "(1, 2, 3, 5.5, 'piyu')"
      ]
     },
     "execution_count": 35,
     "metadata": {},
     "output_type": "execute_result"
    }
   ],
   "source": [
    "test7(1,2,3,5.5,\"piyu\")"
   ]
  },
  {
   "cell_type": "code",
   "execution_count": 36,
   "id": "a0cf2dc3-b330-4b38-8ed4-0520b401a064",
   "metadata": {},
   "outputs": [],
   "source": [
    "def test8(*piy):\n",
    "    return piy"
   ]
  },
  {
   "cell_type": "code",
   "execution_count": 37,
   "id": "2ba0158a-b8f3-44dc-9fae-173373455ee5",
   "metadata": {},
   "outputs": [
    {
     "data": {
      "text/plain": [
       "(1, 2, 3, 5.5, 'piyu')"
      ]
     },
     "execution_count": 37,
     "metadata": {},
     "output_type": "execute_result"
    }
   ],
   "source": [
    "test8(1,2,3,5.5,\"piyu\")"
   ]
  },
  {
   "cell_type": "code",
   "execution_count": 38,
   "id": "9b75a5e7-c49b-49b5-bb08-65c72c4e49ed",
   "metadata": {},
   "outputs": [],
   "source": [
    "def test9(*args,a):\n",
    "    return args,a"
   ]
  },
  {
   "cell_type": "code",
   "execution_count": 39,
   "id": "e8bf1d46-3f2d-4643-a06d-0881a1534202",
   "metadata": {},
   "outputs": [
    {
     "data": {
      "text/plain": [
       "((1, 2, 3, 4, 5), 'piyu')"
      ]
     },
     "execution_count": 39,
     "metadata": {},
     "output_type": "execute_result"
    }
   ],
   "source": [
    "test9(1,2,3,4,5,a=\"piyu\")"
   ]
  },
  {
   "cell_type": "code",
   "execution_count": 40,
   "id": "6542b9d4-c180-404a-8de7-e9da0a7993a1",
   "metadata": {},
   "outputs": [],
   "source": [
    "def test10(*args):\n",
    "    n=[]\n",
    "    for i in args:\n",
    "        if type(i)==list:\n",
    "            n.append(i)\n",
    "    return n"
   ]
  },
  {
   "cell_type": "code",
   "execution_count": 41,
   "id": "1cf2b54c-a64e-4676-be92-36a074ae5ec7",
   "metadata": {},
   "outputs": [
    {
     "data": {
      "text/plain": [
       "[[1, 2, 3, 4, 5], [6, 43, 2, 5, 6], [1, 2, 3, 4, 5, 6]]"
      ]
     },
     "execution_count": 41,
     "metadata": {},
     "output_type": "execute_result"
    }
   ],
   "source": [
    "test10([1,2,3,4,5],\"piyu\",1,2,35,[6,43,2,5,6,],[1,2,3,4,5,6])"
   ]
  },
  {
   "cell_type": "code",
   "execution_count": 42,
   "id": "9cae9e22-6781-4e37-a07e-ab503c231979",
   "metadata": {},
   "outputs": [],
   "source": [
    "def test11(*args):\n",
    "    n=[]\n",
    "    for i in args:\n",
    "        if type(i)==dict:\n",
    "            n.append(i)\n",
    "    return n"
   ]
  },
  {
   "cell_type": "code",
   "execution_count": 43,
   "id": "3481e573-843e-495a-9523-4f7e3ceb9d95",
   "metadata": {},
   "outputs": [
    {
     "data": {
      "text/plain": [
       "[{'piyush': 'hero', 'age': 20}]"
      ]
     },
     "execution_count": 43,
     "metadata": {},
     "output_type": "execute_result"
    }
   ],
   "source": [
    "test11({\"piyush\":\"hero\",\"age\":20},[1,2,3,4],(1,2,3,4,5))"
   ]
  },
  {
   "cell_type": "code",
   "execution_count": 46,
   "id": "528c28e1-e8dc-4623-b1ae-ceb999de2b6a",
   "metadata": {},
   "outputs": [],
   "source": [
    "def test12(**kwargs):\n",
    "    return kwargs"
   ]
  },
  {
   "cell_type": "code",
   "execution_count": 47,
   "id": "980fc31b-43f7-4a44-b0dc-cafb71492aed",
   "metadata": {},
   "outputs": [
    {
     "data": {
      "text/plain": [
       "{}"
      ]
     },
     "execution_count": 47,
     "metadata": {},
     "output_type": "execute_result"
    }
   ],
   "source": [
    "test12()"
   ]
  },
  {
   "cell_type": "code",
   "execution_count": 48,
   "id": "89a06c12-3d21-4ef0-8b2c-7deb634a203f",
   "metadata": {},
   "outputs": [
    {
     "data": {
      "text/plain": [
       "dict"
      ]
     },
     "execution_count": 48,
     "metadata": {},
     "output_type": "execute_result"
    }
   ],
   "source": [
    "type(test12())"
   ]
  },
  {
   "cell_type": "code",
   "execution_count": 49,
   "id": "a9646d4a-5922-4691-9d00-3ca2128a6c77",
   "metadata": {},
   "outputs": [
    {
     "data": {
      "text/plain": [
       "{'a': 12, 'b': 'piyush', 'c': 12}"
      ]
     },
     "execution_count": 49,
     "metadata": {},
     "output_type": "execute_result"
    }
   ],
   "source": [
    "test12(a=12,b=\"piyush\",c=12)"
   ]
  },
  {
   "cell_type": "code",
   "execution_count": 50,
   "id": "3d2280b6-24ca-48f3-9e1b-e26811066e72",
   "metadata": {},
   "outputs": [],
   "source": [
    "def test14(**kwargs):\n",
    "    for i in kwargs.keys():\n",
    "        if type(kwargs[i] ) == list :\n",
    "            return i , kwargs[i]"
   ]
  },
  {
   "cell_type": "code",
   "execution_count": 51,
   "id": "2a8ef143-cd87-4b25-bcec-b575db724d8f",
   "metadata": {},
   "outputs": [
    {
     "data": {
      "text/plain": [
       "('a', [1, 3, 4, 2])"
      ]
     },
     "execution_count": 51,
     "metadata": {},
     "output_type": "execute_result"
    }
   ],
   "source": [
    "test14(a=[1,3,4,2],b=12)"
   ]
  },
  {
   "cell_type": "code",
   "execution_count": 70,
   "id": "4bd5c6af-b2aa-48e9-99ff-ede4c3fc5094",
   "metadata": {},
   "outputs": [],
   "source": [
    "# genrater functiom"
   ]
  },
  {
   "cell_type": "code",
   "execution_count": 52,
   "id": "fbc98c71-e87d-4c66-9ae1-f0f6d7da63c5",
   "metadata": {},
   "outputs": [
    {
     "name": "stdout",
     "output_type": "stream",
     "text": [
      "1\n",
      "2\n",
      "3\n",
      "4\n",
      "5\n",
      "6\n",
      "7\n",
      "8\n",
      "9\n"
     ]
    }
   ],
   "source": [
    "for i in range(1,10):\n",
    "    print(i)"
   ]
  },
  {
   "cell_type": "code",
   "execution_count": 72,
   "id": "6fe64f99-2a65-4a0f-ac85-c6e03dbef509",
   "metadata": {},
   "outputs": [],
   "source": [
    "def test_fib(n) :\n",
    "    a,b = 0,1\n",
    "    for i in range(n):\n",
    "        yield a \n",
    "        a,b = b ,a+b "
   ]
  },
  {
   "cell_type": "code",
   "execution_count": 73,
   "id": "b0923af6-fa02-407f-ab52-5ab95fe63b7f",
   "metadata": {},
   "outputs": [
    {
     "data": {
      "text/plain": [
       "<generator object test_fib at 0x7f755c3df370>"
      ]
     },
     "execution_count": 73,
     "metadata": {},
     "output_type": "execute_result"
    }
   ],
   "source": [
    "test_fib(10)"
   ]
  },
  {
   "cell_type": "code",
   "execution_count": 74,
   "id": "efdb6e9c-0ef8-4077-a502-b89e40f281d9",
   "metadata": {},
   "outputs": [
    {
     "name": "stdout",
     "output_type": "stream",
     "text": [
      "0\n",
      "1\n",
      "1\n",
      "2\n",
      "3\n",
      "5\n",
      "8\n",
      "13\n",
      "21\n",
      "34\n"
     ]
    }
   ],
   "source": [
    "for i in test_fib(10) : \n",
    "    print(i)"
   ]
  },
  {
   "cell_type": "code",
   "execution_count": 75,
   "id": "5bf43cfa-9786-4523-ba99-da6be9e234fe",
   "metadata": {},
   "outputs": [],
   "source": [
    "# lambda function"
   ]
  },
  {
   "cell_type": "code",
   "execution_count": 53,
   "id": "51d8238e-2e7b-4ae3-bcaa-7ba4fe19e142",
   "metadata": {},
   "outputs": [],
   "source": [
    "def test(n,p):\n",
    "    return n**p"
   ]
  },
  {
   "cell_type": "code",
   "execution_count": 54,
   "id": "10d0d291-8d1a-4bcf-a1e4-0bfc550a1286",
   "metadata": {},
   "outputs": [
    {
     "data": {
      "text/plain": [
       "8"
      ]
     },
     "execution_count": 54,
     "metadata": {},
     "output_type": "execute_result"
    }
   ],
   "source": [
    "test(2,3)"
   ]
  },
  {
   "cell_type": "code",
   "execution_count": 55,
   "id": "9f9665f2-9891-4df4-b11a-d7e80a170244",
   "metadata": {},
   "outputs": [],
   "source": [
    "a=lambda x,y:x**y"
   ]
  },
  {
   "cell_type": "code",
   "execution_count": 56,
   "id": "301153f6-8307-4aef-b560-db4f33ec6c87",
   "metadata": {},
   "outputs": [
    {
     "data": {
      "text/plain": [
       "8"
      ]
     },
     "execution_count": 56,
     "metadata": {},
     "output_type": "execute_result"
    }
   ],
   "source": [
    "a(2,3)"
   ]
  },
  {
   "cell_type": "code",
   "execution_count": 57,
   "id": "88e3d51e-0848-4582-80aa-b9424164c430",
   "metadata": {},
   "outputs": [],
   "source": [
    "c_to_f=lambda i :(9/5)*i+32"
   ]
  },
  {
   "cell_type": "code",
   "execution_count": 58,
   "id": "8a974caf-90bf-4fa4-b6e3-e8bdf59d6670",
   "metadata": {},
   "outputs": [
    {
     "data": {
      "text/plain": [
       "93.2"
      ]
     },
     "execution_count": 58,
     "metadata": {},
     "output_type": "execute_result"
    }
   ],
   "source": [
    "c_to_f(34)"
   ]
  },
  {
   "cell_type": "code",
   "execution_count": 59,
   "id": "0fc03371-2e11-4a9c-b349-78eddf8eec93",
   "metadata": {},
   "outputs": [],
   "source": [
    "max_2=lambda x,y:x if x>y else y"
   ]
  },
  {
   "cell_type": "code",
   "execution_count": 60,
   "id": "a5dbcd03-cf2a-4886-8620-e2355cbf5265",
   "metadata": {},
   "outputs": [
    {
     "data": {
      "text/plain": [
       "30"
      ]
     },
     "execution_count": 60,
     "metadata": {},
     "output_type": "execute_result"
    }
   ],
   "source": [
    "max_2(30,5)"
   ]
  },
  {
   "cell_type": "code",
   "execution_count": 61,
   "id": "61ed41d1-e010-437e-844a-d87b8911421a",
   "metadata": {},
   "outputs": [
    {
     "data": {
      "text/plain": [
       "8"
      ]
     },
     "execution_count": 61,
     "metadata": {},
     "output_type": "execute_result"
    }
   ],
   "source": [
    "max_2(4,8)"
   ]
  },
  {
   "cell_type": "code",
   "execution_count": 62,
   "id": "1a53b5ef-4a09-45d6-8e62-ef6b0ec4f8da",
   "metadata": {},
   "outputs": [],
   "source": [
    "s=\"piyush  sanjay mali\"\n",
    "len2=lambda i:len(i)"
   ]
  },
  {
   "cell_type": "code",
   "execution_count": 63,
   "id": "c70b302d-9d9b-4ab4-9865-071a657f4807",
   "metadata": {},
   "outputs": [
    {
     "data": {
      "text/plain": [
       "19"
      ]
     },
     "execution_count": 63,
     "metadata": {},
     "output_type": "execute_result"
    }
   ],
   "source": [
    "len2(s)"
   ]
  },
  {
   "cell_type": "code",
   "execution_count": 64,
   "id": "5cd4f075-5361-4af8-b99f-c054dd3d1929",
   "metadata": {},
   "outputs": [],
   "source": [
    "def test15(a):\n",
    "    for i in a:\n",
    "        print(i**2)"
   ]
  },
  {
   "cell_type": "code",
   "execution_count": 65,
   "id": "6cd8717a-2748-43ed-ba82-43f3813da5c0",
   "metadata": {},
   "outputs": [
    {
     "name": "stdout",
     "output_type": "stream",
     "text": [
      "1\n",
      "4\n",
      "9\n",
      "16\n"
     ]
    }
   ],
   "source": [
    "l10=[1,2,3,4]\n",
    "test15(l10)"
   ]
  },
  {
   "cell_type": "code",
   "execution_count": 68,
   "id": "7b90790e-1af4-4981-81ae-f44f5fe864c4",
   "metadata": {},
   "outputs": [
    {
     "data": {
      "text/plain": [
       "[1, 4, 9, 16]"
      ]
     },
     "execution_count": 68,
     "metadata": {},
     "output_type": "execute_result"
    }
   ],
   "source": [
    "list(map(lambda x :x**2,l10))"
   ]
  },
  {
   "cell_type": "code",
   "execution_count": 69,
   "id": "b8b889c9-26e3-4e3d-922a-ae95e4d77674",
   "metadata": {},
   "outputs": [
    {
     "data": {
      "text/plain": [
       "{1, 4, 9, 16}"
      ]
     },
     "execution_count": 69,
     "metadata": {},
     "output_type": "execute_result"
    }
   ],
   "source": [
    "set(map(lambda x :x**2,l10))"
   ]
  },
  {
   "cell_type": "code",
   "execution_count": 70,
   "id": "7745ed64-08bf-4783-8318-ade53ab7a60e",
   "metadata": {},
   "outputs": [
    {
     "data": {
      "text/plain": [
       "(1, 4, 9, 16)"
      ]
     },
     "execution_count": 70,
     "metadata": {},
     "output_type": "execute_result"
    }
   ],
   "source": [
    "tuple(map(lambda x :x**2,l10))"
   ]
  },
  {
   "cell_type": "code",
   "execution_count": 71,
   "id": "9af329a0-23b1-4fe5-862c-0357415b8ed7",
   "metadata": {},
   "outputs": [],
   "source": [
    "d=tuple(map(lambda x :x**2,l10))"
   ]
  },
  {
   "cell_type": "code",
   "execution_count": 72,
   "id": "27d1a101-d0d8-4ac6-954d-3cc25317ce38",
   "metadata": {},
   "outputs": [
    {
     "data": {
      "text/plain": [
       "(1, 4, 9, 16)"
      ]
     },
     "execution_count": 72,
     "metadata": {},
     "output_type": "execute_result"
    }
   ],
   "source": [
    "d"
   ]
  },
  {
   "cell_type": "code",
   "execution_count": 73,
   "id": "a0e4beef-f4c5-489f-a195-80e9fea3e653",
   "metadata": {},
   "outputs": [],
   "source": [
    "t=\"piyush\"\n",
    "\n",
    "e=list(map(lambda x : x.upper(),t))"
   ]
  },
  {
   "cell_type": "code",
   "execution_count": 74,
   "id": "94186846-44f8-4263-b85e-8a2e37ee7972",
   "metadata": {},
   "outputs": [
    {
     "data": {
      "text/plain": [
       "['P', 'I', 'Y', 'U', 'S', 'H']"
      ]
     },
     "execution_count": 74,
     "metadata": {},
     "output_type": "execute_result"
    }
   ],
   "source": [
    "e"
   ]
  },
  {
   "cell_type": "code",
   "execution_count": 75,
   "id": "4db61edf-a5c7-4ae7-9b44-c9eec2ca6e69",
   "metadata": {},
   "outputs": [
    {
     "data": {
      "text/plain": [
       "{1, 8, 27, 64, 125, 216, 343, 512, 729, 1000}"
      ]
     },
     "execution_count": 75,
     "metadata": {},
     "output_type": "execute_result"
    }
   ],
   "source": [
    "f=[1,2,3,4,5,6,7,8,9,10]\n",
    "\n",
    "set(map(lambda x: x**3,f))"
   ]
  },
  {
   "cell_type": "code",
   "execution_count": 13,
   "id": "b808e2c8-a0b4-4571-ab42-3ad254e9ce38",
   "metadata": {},
   "outputs": [],
   "source": [
    "# reduce"
   ]
  },
  {
   "cell_type": "code",
   "execution_count": 76,
   "id": "5f67d703-4b5c-43ce-ab34-d7bb06c4184f",
   "metadata": {},
   "outputs": [],
   "source": [
    "from functools import reduce"
   ]
  },
  {
   "cell_type": "code",
   "execution_count": 2,
   "id": "a32b47aa-3235-4f76-81c2-57f94b249881",
   "metadata": {},
   "outputs": [],
   "source": [
    "l12=[1,2,3,4,5,6,7,8,9,10]"
   ]
  },
  {
   "cell_type": "code",
   "execution_count": 7,
   "id": "50d7f8e6-992d-493e-9316-9d9549e54256",
   "metadata": {},
   "outputs": [
    {
     "ename": "TypeError",
     "evalue": "<lambda>() missing 1 required positional argument: 'y'",
     "output_type": "error",
     "traceback": [
      "\u001b[0;31m---------------------------------------------------------------------------\u001b[0m",
      "\u001b[0;31mTypeError\u001b[0m                                 Traceback (most recent call last)",
      "Cell \u001b[0;32mIn[7], line 1\u001b[0m\n\u001b[0;32m----> 1\u001b[0m \u001b[38;5;28;43mlist\u001b[39;49m\u001b[43m(\u001b[49m\u001b[38;5;28;43mmap\u001b[39;49m\u001b[43m(\u001b[49m\u001b[38;5;28;43;01mlambda\u001b[39;49;00m\u001b[43m \u001b[49m\u001b[43mx\u001b[49m\u001b[43m,\u001b[49m\u001b[43my\u001b[49m\u001b[43m \u001b[49m\u001b[43m:\u001b[49m\u001b[43m \u001b[49m\u001b[43mx\u001b[49m\u001b[38;5;241;43m+\u001b[39;49m\u001b[43my\u001b[49m\u001b[43m \u001b[49m\u001b[43m,\u001b[49m\u001b[43ml12\u001b[49m\u001b[43m \u001b[49m\u001b[43m)\u001b[49m\u001b[43m)\u001b[49m\n",
      "\u001b[0;31mTypeError\u001b[0m: <lambda>() missing 1 required positional argument: 'y'"
     ]
    }
   ],
   "source": [
    "list(map(lambda x,y : x+y ,l12 ))"
   ]
  },
  {
   "cell_type": "code",
   "execution_count": 78,
   "id": "0b558393-2abc-4bb0-a60f-1ad8b9db2561",
   "metadata": {},
   "outputs": [
    {
     "data": {
      "text/plain": [
       "55"
      ]
     },
     "execution_count": 78,
     "metadata": {},
     "output_type": "execute_result"
    }
   ],
   "source": [
    "reduce(lambda x,y : x+y ,l12 )"
   ]
  },
  {
   "cell_type": "code",
   "execution_count": 79,
   "id": "c3d4b41e-0eef-4a7a-9756-66b5ffb69328",
   "metadata": {},
   "outputs": [
    {
     "data": {
      "text/plain": [
       "1"
      ]
     },
     "execution_count": 79,
     "metadata": {},
     "output_type": "execute_result"
    }
   ],
   "source": [
    "reduce(lambda x,y : x+y ,[1] )"
   ]
  },
  {
   "cell_type": "code",
   "execution_count": 80,
   "id": "4efd7d9d-412c-4390-8697-64376da3ccd8",
   "metadata": {},
   "outputs": [
    {
     "data": {
      "text/plain": [
       "3"
      ]
     },
     "execution_count": 80,
     "metadata": {},
     "output_type": "execute_result"
    }
   ],
   "source": [
    "reduce(lambda x,y : x+y ,[1,2] )"
   ]
  },
  {
   "cell_type": "code",
   "execution_count": 24,
   "id": "a84a5d99-b9ba-4b00-8d83-45c93b5d5a67",
   "metadata": {},
   "outputs": [
    {
     "ename": "TypeError",
     "evalue": "<lambda>() missing 1 required positional argument: 'z'",
     "output_type": "error",
     "traceback": [
      "\u001b[0;31m---------------------------------------------------------------------------\u001b[0m",
      "\u001b[0;31mTypeError\u001b[0m                                 Traceback (most recent call last)",
      "Cell \u001b[0;32mIn[24], line 1\u001b[0m\n\u001b[0;32m----> 1\u001b[0m \u001b[43mreduce\u001b[49m\u001b[43m(\u001b[49m\u001b[38;5;28;43;01mlambda\u001b[39;49;00m\u001b[43m \u001b[49m\u001b[43mx\u001b[49m\u001b[43m,\u001b[49m\u001b[43my\u001b[49m\u001b[43m,\u001b[49m\u001b[43mz\u001b[49m\u001b[43m:\u001b[49m\u001b[43m \u001b[49m\u001b[43mx\u001b[49m\u001b[38;5;241;43m+\u001b[39;49m\u001b[43my\u001b[49m\u001b[38;5;241;43m+\u001b[39;49m\u001b[43mz\u001b[49m\u001b[43m \u001b[49m\u001b[43m,\u001b[49m\u001b[43m[\u001b[49m\u001b[38;5;241;43m1\u001b[39;49m\u001b[43m,\u001b[49m\u001b[38;5;241;43m2\u001b[39;49m\u001b[43m,\u001b[49m\u001b[38;5;241;43m3\u001b[39;49m\u001b[43m,\u001b[49m\u001b[38;5;241;43m4\u001b[39;49m\u001b[43m]\u001b[49m\u001b[43m \u001b[49m\u001b[43m)\u001b[49m\n",
      "\u001b[0;31mTypeError\u001b[0m: <lambda>() missing 1 required positional argument: 'z'"
     ]
    }
   ],
   "source": [
    "reduce(lambda x,y,z: x+y+z ,[1,2,3,4] )"
   ]
  },
  {
   "cell_type": "code",
   "execution_count": 81,
   "id": "9e116666-95f5-4862-bc12-1b7204b0f6c3",
   "metadata": {},
   "outputs": [
    {
     "data": {
      "text/plain": [
       "[1, 2, 3, 4, 5, 6, 7, 8, 9, 10]"
      ]
     },
     "execution_count": 81,
     "metadata": {},
     "output_type": "execute_result"
    }
   ],
   "source": [
    "l12"
   ]
  },
  {
   "cell_type": "code",
   "execution_count": 82,
   "id": "192cdacd-6e35-495a-95d5-793d5e19b0f4",
   "metadata": {},
   "outputs": [
    {
     "data": {
      "text/plain": [
       "[2, 4, 6, 8, 10]"
      ]
     },
     "execution_count": 82,
     "metadata": {},
     "output_type": "execute_result"
    }
   ],
   "source": [
    "list(filter(lambda x : x%2==0 ,l12))"
   ]
  },
  {
   "cell_type": "code",
   "execution_count": 83,
   "id": "d0063fba-d5b8-47e1-bdab-7fe221fb285b",
   "metadata": {},
   "outputs": [
    {
     "data": {
      "text/plain": [
       "[1, 3, 5, 7, 9]"
      ]
     },
     "execution_count": 83,
     "metadata": {},
     "output_type": "execute_result"
    }
   ],
   "source": [
    "list(filter(lambda x : x%2!=0 ,l12))"
   ]
  },
  {
   "cell_type": "code",
   "execution_count": 84,
   "id": "a883a4c4-fe23-4d5f-8665-e0e699a1f86e",
   "metadata": {},
   "outputs": [],
   "source": [
    "l13=[1,2,3,4,-4,-3,-2,-1]"
   ]
  },
  {
   "cell_type": "code",
   "execution_count": 85,
   "id": "9209d72f-64c5-46b8-a3ff-29eba6de334a",
   "metadata": {},
   "outputs": [
    {
     "data": {
      "text/plain": [
       "[1, 2, 3, 4, -4, -3, -2, -1]"
      ]
     },
     "execution_count": 85,
     "metadata": {},
     "output_type": "execute_result"
    }
   ],
   "source": [
    "l13"
   ]
  },
  {
   "cell_type": "code",
   "execution_count": 86,
   "id": "258b37e4-64e9-423d-bbb1-42ca19fe5e17",
   "metadata": {},
   "outputs": [
    {
     "data": {
      "text/plain": [
       "[1, 2, 3, 4]"
      ]
     },
     "execution_count": 86,
     "metadata": {},
     "output_type": "execute_result"
    }
   ],
   "source": [
    "list(filter(lambda x : x >0 ,l13))"
   ]
  },
  {
   "cell_type": "code",
   "execution_count": 87,
   "id": "5cfa34fd-e511-4263-8d2c-f57d53ab51f5",
   "metadata": {},
   "outputs": [
    {
     "data": {
      "text/plain": [
       "[-4, -3, -2, -1]"
      ]
     },
     "execution_count": 87,
     "metadata": {},
     "output_type": "execute_result"
    }
   ],
   "source": [
    "list(filter(lambda x : x <0 ,l13))"
   ]
  },
  {
   "cell_type": "code",
   "execution_count": 88,
   "id": "08d87bd3-f9db-49f0-b157-0bcb0c4950cc",
   "metadata": {},
   "outputs": [
    {
     "data": {
      "text/plain": [
       "[False, False, False, False, True, True, True, True]"
      ]
     },
     "execution_count": 88,
     "metadata": {},
     "output_type": "execute_result"
    }
   ],
   "source": [
    "list(map(lambda x : x <0 ,l13))# when we use map "
   ]
  },
  {
   "cell_type": "code",
   "execution_count": 89,
   "id": "a8b4224e-7164-4b1f-b5bb-9bff800d29d9",
   "metadata": {},
   "outputs": [
    {
     "data": {
      "text/plain": [
       "{1, 2, 3, 4, 5, 6, 7, 8, 9, 10}"
      ]
     },
     "execution_count": 89,
     "metadata": {},
     "output_type": "execute_result"
    }
   ],
   "source": [
    "f=[1,2,3,4,5,6,7,8,9,10]\n",
    "\n",
    "set(filter(lambda x: x**3,f)) # when we use fliter"
   ]
  },
  {
   "cell_type": "code",
   "execution_count": 90,
   "id": "f121d1d0-1c32-4980-a7c8-4936eb243733",
   "metadata": {},
   "outputs": [
    {
     "data": {
      "text/plain": [
       "{1, 8, 27, 64, 125, 216, 343, 512, 729, 1000}"
      ]
     },
     "execution_count": 90,
     "metadata": {},
     "output_type": "execute_result"
    }
   ],
   "source": [
    "f=[1,2,3,4,5,6,7,8,9,10]\n",
    "\n",
    "set(map(lambda x: x**3,f))"
   ]
  },
  {
   "cell_type": "code",
   "execution_count": 8,
   "id": "ab153a58-585f-4723-85c3-16d3ed6a48bb",
   "metadata": {},
   "outputs": [],
   "source": [
    "# decorators  @ is used \n"
   ]
  },
  {
   "cell_type": "code",
   "execution_count": 4,
   "id": "5fe220bd-ab4e-43b6-9c00-2db1a7f87833",
   "metadata": {},
   "outputs": [],
   "source": [
    "def myfunc(some_func):\n",
    "    \n",
    "    def inside_func():\n",
    "        print(\"above some function\")\n",
    "        \n",
    "        some_func()\n",
    "        \n",
    "        print(\"below some function\")\n",
    "        \n",
    "    return inside_func"
   ]
  },
  {
   "cell_type": "code",
   "execution_count": 5,
   "id": "ab5e7584-fd7b-4dd5-a102-64666f4478d4",
   "metadata": {},
   "outputs": [],
   "source": [
    "@myfunc\n",
    "def main_func():\n",
    "    print(\"I am main function\")"
   ]
  },
  {
   "cell_type": "code",
   "execution_count": 6,
   "id": "32a0e4fe-e257-48d3-92ed-f911b6119b92",
   "metadata": {},
   "outputs": [
    {
     "name": "stdout",
     "output_type": "stream",
     "text": [
      "above some function\n",
      "I am main function\n",
      "below some function\n"
     ]
    }
   ],
   "source": [
    "main_func()"
   ]
  }
 ],
 "metadata": {
  "kernelspec": {
   "display_name": "Python 3 (ipykernel)",
   "language": "python",
   "name": "python3"
  },
  "language_info": {
   "codemirror_mode": {
    "name": "ipython",
    "version": 3
   },
   "file_extension": ".py",
   "mimetype": "text/x-python",
   "name": "python",
   "nbconvert_exporter": "python",
   "pygments_lexer": "ipython3",
   "version": "3.10.8"
  }
 },
 "nbformat": 4,
 "nbformat_minor": 5
}
