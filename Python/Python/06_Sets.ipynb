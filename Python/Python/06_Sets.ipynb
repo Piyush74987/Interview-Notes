{
 "cells": [
  {
   "cell_type": "markdown",
   "id": "c1f51564-a93d-4577-864a-daf05def9498",
   "metadata": {},
   "source": [
    "\n",
    "# Set\n",
    "## Sets are used to store multiple items in a single variable.\n",
    "\n",
    "## Set is one of 4 built-in data types in Python used to store collections of data, the other 3 are List, Tuple, and Dictionary, all with different qualities and usage.\n",
    "\n",
    "### A set is a collection which is unordered, unchangeable*, and unindexed.\n",
    "### Note: Set items are unchangeable, but you can remove items and add new items.\n",
    "### Sets are written with curly brackets"
   ]
  },
  {
   "cell_type": "code",
   "execution_count": 1,
   "id": "931bfce8-4652-42da-8bcc-bc5429f4114f",
   "metadata": {},
   "outputs": [],
   "source": [
    "s={}"
   ]
  },
  {
   "cell_type": "code",
   "execution_count": 2,
   "id": "97121dce-dc9a-4a19-8c9a-0a60999d9b92",
   "metadata": {},
   "outputs": [
    {
     "data": {
      "text/plain": [
       "dict"
      ]
     },
     "execution_count": 2,
     "metadata": {},
     "output_type": "execute_result"
    }
   ],
   "source": [
    "type(s)"
   ]
  },
  {
   "cell_type": "code",
   "execution_count": 4,
   "id": "7432df5e-d443-4f6d-9c1e-be35fe93934b",
   "metadata": {},
   "outputs": [],
   "source": [
    "s1={1,2,3,4,5,6}"
   ]
  },
  {
   "cell_type": "code",
   "execution_count": 5,
   "id": "dd642e37-5384-46d0-b4f7-4b7eca442522",
   "metadata": {},
   "outputs": [
    {
     "data": {
      "text/plain": [
       "set"
      ]
     },
     "execution_count": 5,
     "metadata": {},
     "output_type": "execute_result"
    }
   ],
   "source": [
    "type(s1)"
   ]
  },
  {
   "cell_type": "code",
   "execution_count": 7,
   "id": "a504a041-1a32-4004-b3cc-cc08524dec3d",
   "metadata": {},
   "outputs": [],
   "source": [
    "s2={1,1,1,1,2,3,45,3,7,2,7,8,8,9,9,\"messi\",\"Messi\",\"messi\",3+4j,5.5,55,5.5}"
   ]
  },
  {
   "cell_type": "code",
   "execution_count": 8,
   "id": "b52911e5-8208-4475-b586-8208666c746e",
   "metadata": {},
   "outputs": [
    {
     "data": {
      "text/plain": [
       "{(3+4j), 1, 2, 3, 45, 5.5, 55, 7, 8, 9, 'Messi', 'messi'}"
      ]
     },
     "execution_count": 8,
     "metadata": {},
     "output_type": "execute_result"
    }
   ],
   "source": [
    "s2 # as u can see it does not save same number or str again and again"
   ]
  },
  {
   "cell_type": "code",
   "execution_count": 9,
   "id": "960eebdf-d3fa-4bee-b925-ebc00c7ed472",
   "metadata": {},
   "outputs": [],
   "source": [
    "#type casting can be done\n",
    "lst=[s2] # converted into list\n",
    "l=list[s2] # two ways we can convert"
   ]
  },
  {
   "cell_type": "code",
   "execution_count": 10,
   "id": "2b3f2bca-4aee-4d36-aa44-0c2fc9cea242",
   "metadata": {},
   "outputs": [
    {
     "data": {
      "text/plain": [
       "[{(3+4j), 1, 2, 3, 45, 5.5, 55, 7, 8, 9, 'Messi', 'messi'}]"
      ]
     },
     "execution_count": 10,
     "metadata": {},
     "output_type": "execute_result"
    }
   ],
   "source": [
    "lst"
   ]
  },
  {
   "cell_type": "code",
   "execution_count": 11,
   "id": "8f48f095-9d1c-4073-9aa9-df09dbd5e1c9",
   "metadata": {},
   "outputs": [
    {
     "data": {
      "text/plain": [
       "list"
      ]
     },
     "execution_count": 11,
     "metadata": {},
     "output_type": "execute_result"
    }
   ],
   "source": [
    "type(lst)"
   ]
  },
  {
   "cell_type": "code",
   "execution_count": 17,
   "id": "b7a36b85-5066-424a-aa3d-7682035484ef",
   "metadata": {},
   "outputs": [],
   "source": [
    "t=tuple(s2) # converted into tuple"
   ]
  },
  {
   "cell_type": "code",
   "execution_count": 18,
   "id": "f4509082-7321-4438-b30a-ff5f53b18d79",
   "metadata": {},
   "outputs": [
    {
     "data": {
      "text/plain": [
       "(1, 2, 3, 5.5, 7, 8, 9, 'messi', 45, (3+4j), 'Messi', 55)"
      ]
     },
     "execution_count": 18,
     "metadata": {},
     "output_type": "execute_result"
    }
   ],
   "source": [
    "t"
   ]
  },
  {
   "cell_type": "code",
   "execution_count": 19,
   "id": "19a1fe70-e365-4d60-a889-f29f1749675b",
   "metadata": {},
   "outputs": [
    {
     "data": {
      "text/plain": [
       "tuple"
      ]
     },
     "execution_count": 19,
     "metadata": {},
     "output_type": "execute_result"
    }
   ],
   "source": [
    "type(t)"
   ]
  },
  {
   "cell_type": "code",
   "execution_count": 20,
   "id": "5049a262-112d-4f8e-81ac-9a847fba43f0",
   "metadata": {},
   "outputs": [
    {
     "ename": "TypeError",
     "evalue": "'set' object is not subscriptable",
     "output_type": "error",
     "traceback": [
      "\u001b[0;31m---------------------------------------------------------------------------\u001b[0m",
      "\u001b[0;31mTypeError\u001b[0m                                 Traceback (most recent call last)",
      "Cell \u001b[0;32mIn[20], line 1\u001b[0m\n\u001b[0;32m----> 1\u001b[0m \u001b[43ms2\u001b[49m\u001b[43m[\u001b[49m\u001b[38;5;241;43m0\u001b[39;49m\u001b[43m]\u001b[49m\n",
      "\u001b[0;31mTypeError\u001b[0m: 'set' object is not subscriptable"
     ]
    }
   ],
   "source": [
    "s2[0] # it can't be index or sliced"
   ]
  },
  {
   "cell_type": "code",
   "execution_count": 23,
   "id": "2f3de980-d8c1-4a35-ad55-9d134dd3a85a",
   "metadata": {},
   "outputs": [],
   "source": [
    "s3={1,2,3}\n",
    "s4={4,5,6}"
   ]
  },
  {
   "cell_type": "code",
   "execution_count": 26,
   "id": "9536c57b-659b-492e-b3cd-f2cb2f5ac06f",
   "metadata": {},
   "outputs": [
    {
     "ename": "TypeError",
     "evalue": "unhashable type: 'set'",
     "output_type": "error",
     "traceback": [
      "\u001b[0;31m---------------------------------------------------------------------------\u001b[0m",
      "\u001b[0;31mTypeError\u001b[0m                                 Traceback (most recent call last)",
      "Cell \u001b[0;32mIn[26], line 1\u001b[0m\n\u001b[0;32m----> 1\u001b[0m s5\u001b[38;5;241m=\u001b[39m{s3,s4}  \u001b[38;5;66;03m# cant be nested sets\u001b[39;00m\n",
      "\u001b[0;31mTypeError\u001b[0m: unhashable type: 'set'"
     ]
    }
   ],
   "source": [
    "s5={s3,s4}  # cant be nested sets"
   ]
  },
  {
   "cell_type": "code",
   "execution_count": 34,
   "id": "3f694a6c-5e26-4471-85f4-44d8b61e8f73",
   "metadata": {},
   "outputs": [
    {
     "ename": "TypeError",
     "evalue": "unhashable type: 'list'",
     "output_type": "error",
     "traceback": [
      "\u001b[0;31m---------------------------------------------------------------------------\u001b[0m",
      "\u001b[0;31mTypeError\u001b[0m                                 Traceback (most recent call last)",
      "Cell \u001b[0;32mIn[34], line 1\u001b[0m\n\u001b[0;32m----> 1\u001b[0m s\u001b[38;5;241m=\u001b[39m{\u001b[38;5;241m1\u001b[39m,\u001b[38;5;241m2\u001b[39m,\u001b[38;5;241m3\u001b[39m,[\u001b[38;5;241m1\u001b[39m,\u001b[38;5;241m2\u001b[39m,\u001b[38;5;241m3\u001b[39m]} \u001b[38;5;66;03m# we cant add set and list in a set\u001b[39;00m\n",
      "\u001b[0;31mTypeError\u001b[0m: unhashable type: 'list'"
     ]
    }
   ],
   "source": [
    "s={1,2,3,[1,2,3]} # we cant add set and list in a set"
   ]
  },
  {
   "cell_type": "code",
   "execution_count": 33,
   "id": "096ed4a7-17cb-45da-9e45-999339c32bb7",
   "metadata": {},
   "outputs": [
    {
     "data": {
      "text/plain": [
       "{(1, 3, 4), 1, 2, 3}"
      ]
     },
     "execution_count": 33,
     "metadata": {},
     "output_type": "execute_result"
    }
   ],
   "source": [
    "s={1,2,3,(1,3,4)} # tuple can be add in set\n",
    "s"
   ]
  },
  {
   "cell_type": "code",
   "execution_count": 35,
   "id": "d6eaba67-c1c7-45cb-a37a-dcfa168ce96d",
   "metadata": {},
   "outputs": [
    {
     "data": {
      "text/plain": [
       "{(3+4j), 1, 2, 3, 45, 5.5, 55, 7, 8, 9, 'Messi', 'messi'}"
      ]
     },
     "execution_count": 35,
     "metadata": {},
     "output_type": "execute_result"
    }
   ],
   "source": [
    "# as we cant do slicing but we can use loop\n",
    "s2"
   ]
  },
  {
   "cell_type": "code",
   "execution_count": 36,
   "id": "e3850fc7-e2d2-47a3-ab2b-5aee0c7203d0",
   "metadata": {},
   "outputs": [
    {
     "name": "stdout",
     "output_type": "stream",
     "text": [
      "1 <class 'int'>\n",
      "2 <class 'int'>\n",
      "3 <class 'int'>\n",
      "5.5 <class 'float'>\n",
      "7 <class 'int'>\n",
      "8 <class 'int'>\n",
      "9 <class 'int'>\n",
      "messi <class 'str'>\n",
      "45 <class 'int'>\n",
      "(3+4j) <class 'complex'>\n",
      "Messi <class 'str'>\n",
      "55 <class 'int'>\n"
     ]
    }
   ],
   "source": [
    "for i in s2:\n",
    "    print(i,type(i))"
   ]
  },
  {
   "cell_type": "code",
   "execution_count": 38,
   "id": "33000284-3b29-4148-ba95-d6a03d11f242",
   "metadata": {},
   "outputs": [
    {
     "data": {
      "text/plain": [
       "{(3+4j), 1, 2, 3, 33, 45, 5.5, 55, 7, 8, 9, 'Messi', 'messi'}"
      ]
     },
     "execution_count": 38,
     "metadata": {},
     "output_type": "execute_result"
    }
   ],
   "source": [
    "s2.add(33)\n",
    "s2"
   ]
  },
  {
   "cell_type": "code",
   "execution_count": 41,
   "id": "e768e26b-1d9c-4ef3-aeee-a8853296d9a8",
   "metadata": {},
   "outputs": [
    {
     "data": {
      "text/plain": [
       "{(3+4j), 1, 2, 3, 33, 45, 5.5, 55, 7, 8, 9, 'MESSi', 'Messi', 'messi'}"
      ]
     },
     "execution_count": 41,
     "metadata": {},
     "output_type": "execute_result"
    }
   ],
   "source": [
    "s2.add(\"MESSi\")\n",
    "s2"
   ]
  },
  {
   "cell_type": "code",
   "execution_count": 42,
   "id": "c4b0afba-3606-40e6-bb99-2f7a710be9ad",
   "metadata": {},
   "outputs": [
    {
     "data": {
      "text/plain": [
       "{(3+4j), 1, 2, 3, 33, 45, 5.5, 55, 7, 8, 9, 'MESSi', 'Messi', 'messi'}"
      ]
     },
     "execution_count": 42,
     "metadata": {},
     "output_type": "execute_result"
    }
   ],
   "source": [
    "s2.add(1)\n",
    "s2 # as 1 is already in set it doent fits duplicates"
   ]
  },
  {
   "cell_type": "code",
   "execution_count": 43,
   "id": "474e1e6f-06f9-41da-ad44-f02dd3ea3a1a",
   "metadata": {},
   "outputs": [
    {
     "data": {
      "text/plain": [
       "1"
      ]
     },
     "execution_count": 43,
     "metadata": {},
     "output_type": "execute_result"
    }
   ],
   "source": [
    "s2.pop() # as 1 was added first so it is pop first"
   ]
  },
  {
   "cell_type": "code",
   "execution_count": 47,
   "id": "9ab1fbe5-59ff-474b-bb80-a5f86a7d6d04",
   "metadata": {},
   "outputs": [
    {
     "ename": "TypeError",
     "evalue": "set.pop() takes no arguments (1 given)",
     "output_type": "error",
     "traceback": [
      "\u001b[0;31m---------------------------------------------------------------------------\u001b[0m",
      "\u001b[0;31mTypeError\u001b[0m                                 Traceback (most recent call last)",
      "Cell \u001b[0;32mIn[47], line 1\u001b[0m\n\u001b[0;32m----> 1\u001b[0m \u001b[43ms2\u001b[49m\u001b[38;5;241;43m.\u001b[39;49m\u001b[43mpop\u001b[49m\u001b[43m(\u001b[49m\u001b[38;5;241;43m4\u001b[39;49m\u001b[43m)\u001b[49m\n",
      "\u001b[0;31mTypeError\u001b[0m: set.pop() takes no arguments (1 given)"
     ]
    }
   ],
   "source": [
    "s2.pop(4) # we can't give argumest also in set"
   ]
  },
  {
   "cell_type": "code",
   "execution_count": 50,
   "id": "0d9ee740-e83f-4316-8a3f-12ab85607777",
   "metadata": {},
   "outputs": [
    {
     "name": "stdout",
     "output_type": "stream",
     "text": [
      "{3, 33, 5.5, 7, 8, 9, 'messi', 'MESSi', 45, (3+4j), 'Messi', 55}\n"
     ]
    },
    {
     "data": {
      "text/plain": [
       "12"
      ]
     },
     "execution_count": 50,
     "metadata": {},
     "output_type": "execute_result"
    }
   ],
   "source": [
    "print(s2)\n",
    "len(s2)"
   ]
  },
  {
   "cell_type": "code",
   "execution_count": 51,
   "id": "4b754d67-092d-41a4-aa05-4d34a7717519",
   "metadata": {},
   "outputs": [],
   "source": [
    "s3={1,2,3,4,5,6}"
   ]
  },
  {
   "cell_type": "code",
   "execution_count": 52,
   "id": "0e5b9e69-c489-471e-a575-6cbf37e6d0c0",
   "metadata": {},
   "outputs": [
    {
     "data": {
      "text/plain": [
       "{(3+4j), 33, 45, 5.5, 55, 7, 8, 9, 'MESSi', 'Messi', 'messi'}"
      ]
     },
     "execution_count": 52,
     "metadata": {},
     "output_type": "execute_result"
    }
   ],
   "source": [
    "s2.difference(s3)"
   ]
  },
  {
   "cell_type": "code",
   "execution_count": 53,
   "id": "47897b16-f019-4f5f-b087-5836aaa6564e",
   "metadata": {},
   "outputs": [
    {
     "data": {
      "text/plain": [
       "{1, 2, 4, 5, 6}"
      ]
     },
     "execution_count": 53,
     "metadata": {},
     "output_type": "execute_result"
    }
   ],
   "source": [
    "s3.difference(s2)"
   ]
  },
  {
   "cell_type": "code",
   "execution_count": 58,
   "id": "710c6bdc-60e3-466c-a3ee-2adb3c3bd92e",
   "metadata": {},
   "outputs": [
    {
     "data": {
      "text/plain": [
       "{3}"
      ]
     },
     "execution_count": 58,
     "metadata": {},
     "output_type": "execute_result"
    }
   ],
   "source": [
    "s2.intersection(s3)"
   ]
  },
  {
   "cell_type": "code",
   "execution_count": 57,
   "id": "5a532b2b-b676-4a89-aeb4-ef543a3992f9",
   "metadata": {},
   "outputs": [
    {
     "data": {
      "text/plain": [
       "{(3+4j), 3, 33, 45, 5.5, 55, 7, 8, 9, 'MESSi', 'Messi', 'messi'}"
      ]
     },
     "execution_count": 57,
     "metadata": {},
     "output_type": "execute_result"
    }
   ],
   "source": [
    "s2.copy()"
   ]
  },
  {
   "cell_type": "code",
   "execution_count": 62,
   "id": "c2db7f2b-340c-4ac2-b1a7-06a1570fd91f",
   "metadata": {},
   "outputs": [
    {
     "data": {
      "text/plain": [
       "False"
      ]
     },
     "execution_count": 62,
     "metadata": {},
     "output_type": "execute_result"
    }
   ],
   "source": [
    "s3.issubset(s2)"
   ]
  },
  {
   "cell_type": "code",
   "execution_count": 63,
   "id": "84ed5f46-4c7e-4052-b944-3841b398bb06",
   "metadata": {},
   "outputs": [],
   "source": [
    "s3.remove(5)"
   ]
  },
  {
   "cell_type": "code",
   "execution_count": 64,
   "id": "2a0a612e-d834-4779-9dec-ef572b7223a2",
   "metadata": {},
   "outputs": [
    {
     "data": {
      "text/plain": [
       "{1, 2, 3, 4, 6}"
      ]
     },
     "execution_count": 64,
     "metadata": {},
     "output_type": "execute_result"
    }
   ],
   "source": [
    "s3"
   ]
  },
  {
   "cell_type": "code",
   "execution_count": 65,
   "id": "bdc0f4bb-6f6e-4692-834e-b0b1a9cee48f",
   "metadata": {},
   "outputs": [],
   "source": [
    "s3.clear()"
   ]
  },
  {
   "cell_type": "code",
   "execution_count": 66,
   "id": "0c547430-10ea-4426-8b57-62a37b17be20",
   "metadata": {},
   "outputs": [
    {
     "data": {
      "text/plain": [
       "set()"
      ]
     },
     "execution_count": 66,
     "metadata": {},
     "output_type": "execute_result"
    }
   ],
   "source": [
    "s3"
   ]
  },
  {
   "cell_type": "code",
   "execution_count": 68,
   "id": "c9563707-7760-423a-9544-71415f98f66e",
   "metadata": {},
   "outputs": [],
   "source": [
    "del(s3)"
   ]
  },
  {
   "cell_type": "markdown",
   "id": "9ad371fa-eaf1-4943-8d6f-588d77420d54",
   "metadata": {},
   "source": [
    "### "
   ]
  },
  {
   "cell_type": "code",
   "execution_count": 69,
   "id": "b952ede2-7ad7-4be5-b47b-dcae85c9386f",
   "metadata": {},
   "outputs": [
    {
     "ename": "NameError",
     "evalue": "name 's3' is not defined",
     "output_type": "error",
     "traceback": [
      "\u001b[0;31m---------------------------------------------------------------------------\u001b[0m",
      "\u001b[0;31mNameError\u001b[0m                                 Traceback (most recent call last)",
      "Cell \u001b[0;32mIn[69], line 1\u001b[0m\n\u001b[0;32m----> 1\u001b[0m \u001b[43ms3\u001b[49m\n",
      "\u001b[0;31mNameError\u001b[0m: name 's3' is not defined"
     ]
    }
   ],
   "source": [
    "s3"
   ]
  },
  {
   "cell_type": "code",
   "execution_count": null,
   "id": "8e696747-d16e-4e78-8945-81795fd95fcf",
   "metadata": {},
   "outputs": [],
   "source": []
  }
 ],
 "metadata": {
  "kernelspec": {
   "display_name": "Python 3 (ipykernel)",
   "language": "python",
   "name": "python3"
  },
  "language_info": {
   "codemirror_mode": {
    "name": "ipython",
    "version": 3
   },
   "file_extension": ".py",
   "mimetype": "text/x-python",
   "name": "python",
   "nbconvert_exporter": "python",
   "pygments_lexer": "ipython3",
   "version": "3.10.8"
  }
 },
 "nbformat": 4,
 "nbformat_minor": 5
}
