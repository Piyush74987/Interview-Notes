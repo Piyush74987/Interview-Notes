{
 "cells": [
  {
   "cell_type": "code",
   "execution_count": 1,
   "id": "53248210-3e2e-4bbf-b610-b9b2baf0d8b8",
   "metadata": {},
   "outputs": [],
   "source": [
    "d={}"
   ]
  },
  {
   "cell_type": "code",
   "execution_count": 2,
   "id": "8c85b2d2-a712-4c2f-b958-ce73615d05e2",
   "metadata": {},
   "outputs": [
    {
     "data": {
      "text/plain": [
       "dict"
      ]
     },
     "execution_count": 2,
     "metadata": {},
     "output_type": "execute_result"
    }
   ],
   "source": [
    "type(d)"
   ]
  },
  {
   "cell_type": "code",
   "execution_count": 32,
   "id": "13b672c6-6a36-4431-b819-d96c3cbf29c3",
   "metadata": {},
   "outputs": [],
   "source": [
    "d1={\"name\":\"piyush\",\"emailid\":\"piyushmali@2812gmali.com\",\"phoneno\": 8888988}"
   ]
  },
  {
   "cell_type": "code",
   "execution_count": 4,
   "id": "a9c21f4c-d774-4a17-93df-1d62ab3a5b38",
   "metadata": {},
   "outputs": [
    {
     "data": {
      "text/plain": [
       "{'name': 'piyush', 'emailid': 'piyushmali@2812gmali.com', 'phoneno': 8888988}"
      ]
     },
     "execution_count": 4,
     "metadata": {},
     "output_type": "execute_result"
    }
   ],
   "source": [
    "d1"
   ]
  },
  {
   "cell_type": "code",
   "execution_count": 6,
   "id": "b2dd302c-49de-40ca-98f2-9f554ec0b179",
   "metadata": {},
   "outputs": [
    {
     "data": {
      "text/plain": [
       "dict"
      ]
     },
     "execution_count": 6,
     "metadata": {},
     "output_type": "execute_result"
    }
   ],
   "source": [
    "type(d1)"
   ]
  },
  {
   "cell_type": "code",
   "execution_count": 7,
   "id": "bfdd763e-e7ea-4771-87c6-268a7b417be2",
   "metadata": {},
   "outputs": [],
   "source": [
    "# dict keys cant be a dict,set,list,special charter"
   ]
  },
  {
   "cell_type": "code",
   "execution_count": 8,
   "id": "f1c57e8b-b23a-4247-bee6-d87b64b98045",
   "metadata": {},
   "outputs": [
    {
     "ename": "SyntaxError",
     "evalue": "incomplete input (80428287.py, line 1)",
     "output_type": "error",
     "traceback": [
      "\u001b[0;36m  Cell \u001b[0;32mIn[8], line 1\u001b[0;36m\u001b[0m\n\u001b[0;31m    d2={#:12}\u001b[0m\n\u001b[0m             ^\u001b[0m\n\u001b[0;31mSyntaxError\u001b[0m\u001b[0;31m:\u001b[0m incomplete input\n"
     ]
    }
   ],
   "source": [
    "d2={#:12}"
   ]
  },
  {
   "cell_type": "code",
   "execution_count": 9,
   "id": "204e2eec-d1e3-4d6a-b5ab-243db4a2a5f2",
   "metadata": {},
   "outputs": [
    {
     "ename": "TypeError",
     "evalue": "unhashable type: 'list'",
     "output_type": "error",
     "traceback": [
      "\u001b[0;31m---------------------------------------------------------------------------\u001b[0m",
      "\u001b[0;31mTypeError\u001b[0m                                 Traceback (most recent call last)",
      "Cell \u001b[0;32mIn[9], line 1\u001b[0m\n\u001b[0;32m----> 1\u001b[0m d2\u001b[38;5;241m=\u001b[39m{[\u001b[38;5;241m12\u001b[39m,\u001b[38;5;241m13\u001b[39m,\u001b[38;5;241m14\u001b[39m]:\u001b[38;5;241m22\u001b[39m}\n",
      "\u001b[0;31mTypeError\u001b[0m: unhashable type: 'list'"
     ]
    }
   ],
   "source": [
    "d2={[12,13,14]:22}"
   ]
  },
  {
   "cell_type": "code",
   "execution_count": 10,
   "id": "e10cab71-af1a-4e4c-bbb5-0f66f1a0df09",
   "metadata": {},
   "outputs": [
    {
     "ename": "TypeError",
     "evalue": "unhashable type: 'set'",
     "output_type": "error",
     "traceback": [
      "\u001b[0;31m---------------------------------------------------------------------------\u001b[0m",
      "\u001b[0;31mTypeError\u001b[0m                                 Traceback (most recent call last)",
      "Cell \u001b[0;32mIn[10], line 1\u001b[0m\n\u001b[0;32m----> 1\u001b[0m d2\u001b[38;5;241m=\u001b[39m{{\u001b[38;5;241m1\u001b[39m,\u001b[38;5;241m2\u001b[39m,\u001b[38;5;241m3\u001b[39m}:\u001b[38;5;241m22\u001b[39m}\n",
      "\u001b[0;31mTypeError\u001b[0m: unhashable type: 'set'"
     ]
    }
   ],
   "source": [
    "d2={{1,2,3}:22}"
   ]
  },
  {
   "cell_type": "code",
   "execution_count": 11,
   "id": "30d323e2-ab2c-4f72-b836-0bea8550dd93",
   "metadata": {},
   "outputs": [
    {
     "ename": "TypeError",
     "evalue": "unhashable type: 'dict'",
     "output_type": "error",
     "traceback": [
      "\u001b[0;31m---------------------------------------------------------------------------\u001b[0m",
      "\u001b[0;31mTypeError\u001b[0m                                 Traceback (most recent call last)",
      "Cell \u001b[0;32mIn[11], line 1\u001b[0m\n\u001b[0;32m----> 1\u001b[0m d2\u001b[38;5;241m=\u001b[39m{{\u001b[38;5;241m1\u001b[39m:\u001b[38;5;241m11\u001b[39m}:\u001b[38;5;241m22\u001b[39m}\n",
      "\u001b[0;31mTypeError\u001b[0m: unhashable type: 'dict'"
     ]
    }
   ],
   "source": [
    "d2={{1:11}:22}"
   ]
  },
  {
   "cell_type": "code",
   "execution_count": 12,
   "id": "e10540ed-69e3-48b8-8386-57770222cadb",
   "metadata": {},
   "outputs": [
    {
     "data": {
      "text/plain": [
       "{'name': 'piyush', 'emailid': 'piyushmali@2812gmali.com', 'phoneno': 8888988}"
      ]
     },
     "execution_count": 12,
     "metadata": {},
     "output_type": "execute_result"
    }
   ],
   "source": [
    "d1"
   ]
  },
  {
   "cell_type": "code",
   "execution_count": 14,
   "id": "5abe4a48-653a-4b8c-a804-f396100eb93c",
   "metadata": {},
   "outputs": [
    {
     "data": {
      "text/plain": [
       "'piyush'"
      ]
     },
     "execution_count": 14,
     "metadata": {},
     "output_type": "execute_result"
    }
   ],
   "source": [
    "d1[\"name\"] # to index from dict"
   ]
  },
  {
   "cell_type": "code",
   "execution_count": 15,
   "id": "0b2ba2dd-008b-4807-9010-032479667e6f",
   "metadata": {},
   "outputs": [],
   "source": [
    "d1[\"addres\"]=\"pune\" # added in dict"
   ]
  },
  {
   "cell_type": "code",
   "execution_count": 16,
   "id": "f5c91d59-e0fe-4dd7-8699-e4306f6f64c8",
   "metadata": {},
   "outputs": [
    {
     "data": {
      "text/plain": [
       "{'name': 'piyush',\n",
       " 'emailid': 'piyushmali@2812gmali.com',\n",
       " 'phoneno': 8888988,\n",
       " 'addres': 'pune'}"
      ]
     },
     "execution_count": 16,
     "metadata": {},
     "output_type": "execute_result"
    }
   ],
   "source": [
    "d1"
   ]
  },
  {
   "cell_type": "code",
   "execution_count": 17,
   "id": "0de8e5d3-7f59-44f5-aa9e-8cbab5c34fac",
   "metadata": {},
   "outputs": [],
   "source": [
    "d1[\"addres\"]=\"Pune\" # update"
   ]
  },
  {
   "cell_type": "code",
   "execution_count": 18,
   "id": "32163833-27b9-46fa-9156-f360f325611f",
   "metadata": {},
   "outputs": [
    {
     "data": {
      "text/plain": [
       "{'name': 'piyush',\n",
       " 'emailid': 'piyushmali@2812gmali.com',\n",
       " 'phoneno': 8888988,\n",
       " 'addres': 'Pune'}"
      ]
     },
     "execution_count": 18,
     "metadata": {},
     "output_type": "execute_result"
    }
   ],
   "source": [
    "d1"
   ]
  },
  {
   "cell_type": "code",
   "execution_count": 19,
   "id": "72e3f602-484c-4c15-88bf-f74b2f231bc6",
   "metadata": {},
   "outputs": [
    {
     "data": {
      "text/plain": [
       "'PIYUSH'"
      ]
     },
     "execution_count": 19,
     "metadata": {},
     "output_type": "execute_result"
    }
   ],
   "source": [
    "d1[\"name\"].upper() # using in built function"
   ]
  },
  {
   "cell_type": "code",
   "execution_count": 34,
   "id": "b752bd7a-227d-4792-b9f3-aac096cc220b",
   "metadata": {},
   "outputs": [],
   "source": [
    "d1[\"friend\"]={\"p1\":\"ved\",\"p2\":\"sau\"} # adding a dict inside a dict"
   ]
  },
  {
   "cell_type": "code",
   "execution_count": 21,
   "id": "1e9a6c26-bdc7-4ea0-b85f-09d4e0da3f0a",
   "metadata": {},
   "outputs": [
    {
     "data": {
      "text/plain": [
       "{'name': 'piyush',\n",
       " 'emailid': 'piyushmali@2812gmali.com',\n",
       " 'phoneno': 8888988,\n",
       " 'addres': 'Pune',\n",
       " 'friend': {'p1': 'ved', 'p2': 'sau'}}"
      ]
     },
     "execution_count": 21,
     "metadata": {},
     "output_type": "execute_result"
    }
   ],
   "source": [
    "d1"
   ]
  },
  {
   "cell_type": "code",
   "execution_count": 22,
   "id": "3cc97738-79c5-4e29-abd2-cbb24264608c",
   "metadata": {},
   "outputs": [
    {
     "data": {
      "text/plain": [
       "'ved'"
      ]
     },
     "execution_count": 22,
     "metadata": {},
     "output_type": "execute_result"
    }
   ],
   "source": [
    "d1[\"friend\"][\"p1\"]"
   ]
  },
  {
   "cell_type": "code",
   "execution_count": 23,
   "id": "09d205ae-8a4b-4335-bb8d-df751061ce2c",
   "metadata": {},
   "outputs": [
    {
     "data": {
      "text/plain": [
       "dict_items([('name', 'piyush'), ('emailid', 'piyushmali@2812gmali.com'), ('phoneno', 8888988), ('addres', 'Pune'), ('friend', {'p1': 'ved', 'p2': 'sau'})])"
      ]
     },
     "execution_count": 23,
     "metadata": {},
     "output_type": "execute_result"
    }
   ],
   "source": [
    "d1.items()"
   ]
  },
  {
   "cell_type": "code",
   "execution_count": 24,
   "id": "8de1a12e-351c-408c-9966-516fd4c228a5",
   "metadata": {},
   "outputs": [
    {
     "data": {
      "text/plain": [
       "dict_keys(['name', 'emailid', 'phoneno', 'addres', 'friend'])"
      ]
     },
     "execution_count": 24,
     "metadata": {},
     "output_type": "execute_result"
    }
   ],
   "source": [
    "d1.keys()"
   ]
  },
  {
   "cell_type": "code",
   "execution_count": 25,
   "id": "b0516a4f-eb7d-4a7d-a2d9-11b3a00210fa",
   "metadata": {},
   "outputs": [
    {
     "data": {
      "text/plain": [
       "dict_values(['piyush', 'piyushmali@2812gmali.com', 8888988, 'Pune', {'p1': 'ved', 'p2': 'sau'}])"
      ]
     },
     "execution_count": 25,
     "metadata": {},
     "output_type": "execute_result"
    }
   ],
   "source": [
    "d1.values()"
   ]
  },
  {
   "cell_type": "code",
   "execution_count": 37,
   "id": "6fcdd353-44d0-4c58-9833-c0b7372675c2",
   "metadata": {},
   "outputs": [],
   "source": [
    "d12=d1.fromkeys((1,2,3),(5,6,7))"
   ]
  },
  {
   "cell_type": "code",
   "execution_count": 38,
   "id": "082aa8af-bb10-4d95-9726-c1ed1af82303",
   "metadata": {},
   "outputs": [
    {
     "data": {
      "text/plain": [
       "{1: (5, 6, 7), 2: (5, 6, 7), 3: (5, 6, 7)}"
      ]
     },
     "execution_count": 38,
     "metadata": {},
     "output_type": "execute_result"
    }
   ],
   "source": [
    "d12"
   ]
  },
  {
   "cell_type": "code",
   "execution_count": 35,
   "id": "ff2ea1b0-7c60-4f3a-850a-6345aa157777",
   "metadata": {},
   "outputs": [
    {
     "data": {
      "text/plain": [
       "{'name': 'piyush',\n",
       " 'emailid': 'piyushmali@2812gmali.com',\n",
       " 'phoneno': 8888988,\n",
       " 'friend': {'p1': 'ved', 'p2': 'sau'}}"
      ]
     },
     "execution_count": 35,
     "metadata": {},
     "output_type": "execute_result"
    }
   ],
   "source": [
    "d1"
   ]
  },
  {
   "cell_type": "code",
   "execution_count": 39,
   "id": "927aae63-af95-4173-89ce-53eebcf8e954",
   "metadata": {},
   "outputs": [],
   "source": [
    "l1=list[d1]"
   ]
  },
  {
   "cell_type": "code",
   "execution_count": 40,
   "id": "454101af-73fe-4faf-a55e-6ff0246ad500",
   "metadata": {},
   "outputs": [
    {
     "data": {
      "text/plain": [
       "list[{'name': 'piyush', 'emailid': 'piyushmali@2812gmali.com', 'phoneno': 8888988, 'friend': {'p1': 'ved', 'p2': 'sau'}}]"
      ]
     },
     "execution_count": 40,
     "metadata": {},
     "output_type": "execute_result"
    }
   ],
   "source": [
    "l1"
   ]
  },
  {
   "cell_type": "code",
   "execution_count": 42,
   "id": "d380d391-c240-4d42-bd8c-192145b7a6b1",
   "metadata": {},
   "outputs": [],
   "source": [
    "t1=tuple(d1)"
   ]
  },
  {
   "cell_type": "code",
   "execution_count": 43,
   "id": "3996fae0-24c8-4fc3-ac4d-307ab25d9bf4",
   "metadata": {},
   "outputs": [
    {
     "data": {
      "text/plain": [
       "('name', 'emailid', 'phoneno', 'friend')"
      ]
     },
     "execution_count": 43,
     "metadata": {},
     "output_type": "execute_result"
    }
   ],
   "source": [
    "t1"
   ]
  },
  {
   "cell_type": "code",
   "execution_count": 45,
   "id": "eed0f296-b0a2-4b35-ab72-283443f1ce27",
   "metadata": {},
   "outputs": [
    {
     "data": {
      "text/plain": [
       "{'name': 'piyush',\n",
       " 'emailid': 'piyushmali@2812gmali.com',\n",
       " 'phoneno': 8888988,\n",
       " 'friend': {'p1': 'ved', 'p2': 'sau'}}"
      ]
     },
     "execution_count": 45,
     "metadata": {},
     "output_type": "execute_result"
    }
   ],
   "source": [
    "d1"
   ]
  },
  {
   "cell_type": "code",
   "execution_count": 47,
   "id": "770c5e64-dd59-4178-92c8-0c847f207550",
   "metadata": {},
   "outputs": [
    {
     "data": {
      "text/plain": [
       "{'p1': 'ved', 'p2': 'sau'}"
      ]
     },
     "execution_count": 47,
     "metadata": {},
     "output_type": "execute_result"
    }
   ],
   "source": [
    "d1.pop(\"friend\")"
   ]
  },
  {
   "cell_type": "code",
   "execution_count": 48,
   "id": "1507a722-dee1-4a45-8f6e-80ee2d334eff",
   "metadata": {},
   "outputs": [
    {
     "data": {
      "text/plain": [
       "{'name': 'piyush', 'emailid': 'piyushmali@2812gmali.com', 'phoneno': 8888988}"
      ]
     },
     "execution_count": 48,
     "metadata": {},
     "output_type": "execute_result"
    }
   ],
   "source": [
    "d1"
   ]
  },
  {
   "cell_type": "code",
   "execution_count": 49,
   "id": "d0b14d4e-c828-4a5a-a41f-6e0d42abd536",
   "metadata": {},
   "outputs": [],
   "source": [
    "d1.update(d12)"
   ]
  },
  {
   "cell_type": "code",
   "execution_count": 50,
   "id": "70aecd9d-05c4-4ccb-b532-feebd7e4944b",
   "metadata": {},
   "outputs": [
    {
     "data": {
      "text/plain": [
       "{1: (5, 6, 7), 2: (5, 6, 7), 3: (5, 6, 7)}"
      ]
     },
     "execution_count": 50,
     "metadata": {},
     "output_type": "execute_result"
    }
   ],
   "source": [
    "d12"
   ]
  },
  {
   "cell_type": "code",
   "execution_count": 51,
   "id": "8882d46d-8079-457b-a5d2-a060ca701b90",
   "metadata": {},
   "outputs": [
    {
     "data": {
      "text/plain": [
       "{'name': 'piyush',\n",
       " 'emailid': 'piyushmali@2812gmali.com',\n",
       " 'phoneno': 8888988,\n",
       " 1: (5, 6, 7),\n",
       " 2: (5, 6, 7),\n",
       " 3: (5, 6, 7)}"
      ]
     },
     "execution_count": 51,
     "metadata": {},
     "output_type": "execute_result"
    }
   ],
   "source": [
    "d1"
   ]
  },
  {
   "cell_type": "code",
   "execution_count": null,
   "id": "4bfd0c5f-01d8-4833-b188-d0c40d56ab04",
   "metadata": {},
   "outputs": [],
   "source": []
  }
 ],
 "metadata": {
  "kernelspec": {
   "display_name": "Python 3 (ipykernel)",
   "language": "python",
   "name": "python3"
  },
  "language_info": {
   "codemirror_mode": {
    "name": "ipython",
    "version": 3
   },
   "file_extension": ".py",
   "mimetype": "text/x-python",
   "name": "python",
   "nbconvert_exporter": "python",
   "pygments_lexer": "ipython3",
   "version": "3.10.8"
  }
 },
 "nbformat": 4,
 "nbformat_minor": 5
}
