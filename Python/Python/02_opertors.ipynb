{
 "cells": [
  {
   "cell_type": "markdown",
   "id": "a920c85d-476c-4aec-a7aa-82ce762b8dab",
   "metadata": {},
   "source": [
    "# Arithmetic operator"
   ]
  },
  {
   "cell_type": "markdown",
   "id": "a3c98ead-6e82-456d-a39e-b8f77d0dacf5",
   "metadata": {},
   "source": [
    "Python Arithmetic Operators\n",
    "Arithmetic operators are used with numeric values to perform common mathematical operations:\n",
    "\n",
    "Operator\tName\tExample\tTry it\n",
    "+\tAddition\tx + y\t\n",
    "-\tSubtraction\tx - y\t\n",
    "*\tMultiplication\tx * y\t\n",
    "/\tDivision\tx / y\t\n",
    "%\tModulus\tx % y\t\n",
    "**\tExponentiation\tx ** y\t\n",
    "//\tFloor division\tx // y\t\n"
   ]
  },
  {
   "cell_type": "code",
   "execution_count": 1,
   "id": "1888d288-98dc-4773-ba44-5f8d1b49f8ab",
   "metadata": {},
   "outputs": [
    {
     "data": {
      "text/plain": [
       "3"
      ]
     },
     "execution_count": 1,
     "metadata": {},
     "output_type": "execute_result"
    }
   ],
   "source": [
    "1+2"
   ]
  },
  {
   "cell_type": "code",
   "execution_count": 2,
   "id": "6679ad9e-449a-42a5-9f10-25abf42f3e13",
   "metadata": {},
   "outputs": [
    {
     "data": {
      "text/plain": [
       "-1"
      ]
     },
     "execution_count": 2,
     "metadata": {},
     "output_type": "execute_result"
    }
   ],
   "source": [
    "2-3"
   ]
  },
  {
   "cell_type": "code",
   "execution_count": 3,
   "id": "461966dc-6a90-45b7-8a77-9717a17fa59a",
   "metadata": {},
   "outputs": [
    {
     "data": {
      "text/plain": [
       "30"
      ]
     },
     "execution_count": 3,
     "metadata": {},
     "output_type": "execute_result"
    }
   ],
   "source": [
    "5*6"
   ]
  },
  {
   "cell_type": "code",
   "execution_count": 4,
   "id": "be7c1753-235e-4311-9ae7-ad19d651dec9",
   "metadata": {},
   "outputs": [
    {
     "data": {
      "text/plain": [
       "2.5"
      ]
     },
     "execution_count": 4,
     "metadata": {},
     "output_type": "execute_result"
    }
   ],
   "source": [
    "5/2"
   ]
  },
  {
   "cell_type": "code",
   "execution_count": 6,
   "id": "94a41f14-d95d-4b09-a025-d0597b2a7d43",
   "metadata": {},
   "outputs": [
    {
     "data": {
      "text/plain": [
       "1"
      ]
     },
     "execution_count": 6,
     "metadata": {},
     "output_type": "execute_result"
    }
   ],
   "source": [
    "5%2 # gives remiander"
   ]
  },
  {
   "cell_type": "code",
   "execution_count": 7,
   "id": "34a108df-ccd9-41b1-8fe8-f77bcd9c3c79",
   "metadata": {},
   "outputs": [
    {
     "data": {
      "text/plain": [
       "25"
      ]
     },
     "execution_count": 7,
     "metadata": {},
     "output_type": "execute_result"
    }
   ],
   "source": [
    "5**2 #square root"
   ]
  },
  {
   "cell_type": "code",
   "execution_count": 8,
   "id": "42f97104-bf3f-4314-a279-b43d7ee728f7",
   "metadata": {},
   "outputs": [
    {
     "data": {
      "text/plain": [
       "2"
      ]
     },
     "execution_count": 8,
     "metadata": {},
     "output_type": "execute_result"
    }
   ],
   "source": [
    " 5//2 # divdes and gives natural number"
   ]
  },
  {
   "cell_type": "code",
   "execution_count": 10,
   "id": "ef918e39-44f2-44ee-9f15-3726e9ba96fe",
   "metadata": {},
   "outputs": [
    {
     "data": {
      "text/plain": [
       "0"
      ]
     },
     "execution_count": 10,
     "metadata": {},
     "output_type": "execute_result"
    }
   ],
   "source": [
    "5//9"
   ]
  },
  {
   "cell_type": "markdown",
   "id": "c0cf4b4c-b50c-405b-9360-1508d0adc193",
   "metadata": {},
   "source": [
    "# COMPARSION OPERTOR"
   ]
  },
  {
   "cell_type": "code",
   "execution_count": null,
   "id": "e70f536a-d045-437c-9eb5-6e8e45ad4d6e",
   "metadata": {},
   "outputs": [],
   "source": [
    "Python Comparison Operators\n",
    "Comparison operators are used to compare two values:\n",
    "\n",
    "Operator\tName\tExample\tTry it\n",
    "==\tEqual\t       x == y\t\n",
    "!=\tNot equal\t   x != y\t\n",
    ">\tGreater than\tx > y\t\n",
    "<\tLess than    \tx < y\t\n",
    ">=\tGreater than or equal to\tx >= y\t\n",
    "<=\tLess than or equal to\tx <= y\t\n"
   ]
  },
  {
   "cell_type": "code",
   "execution_count": 12,
   "id": "141257e2-1626-4add-a0ff-e3cbd67fb03d",
   "metadata": {},
   "outputs": [
    {
     "data": {
      "text/plain": [
       "True"
      ]
     },
     "execution_count": 12,
     "metadata": {},
     "output_type": "execute_result"
    }
   ],
   "source": [
    "5==5"
   ]
  },
  {
   "cell_type": "code",
   "execution_count": 13,
   "id": "074d6e21-781a-43ae-aa1b-1239cc3b725c",
   "metadata": {},
   "outputs": [
    {
     "data": {
      "text/plain": [
       "False"
      ]
     },
     "execution_count": 13,
     "metadata": {},
     "output_type": "execute_result"
    }
   ],
   "source": [
    "5==6"
   ]
  },
  {
   "cell_type": "code",
   "execution_count": 14,
   "id": "cd2f0ea6-104b-4b00-9311-d218dcc19d36",
   "metadata": {},
   "outputs": [
    {
     "data": {
      "text/plain": [
       "False"
      ]
     },
     "execution_count": 14,
     "metadata": {},
     "output_type": "execute_result"
    }
   ],
   "source": [
    "5!=5"
   ]
  },
  {
   "cell_type": "code",
   "execution_count": 15,
   "id": "893b4b13-560c-43cc-a26a-e936b8ecd86c",
   "metadata": {},
   "outputs": [
    {
     "data": {
      "text/plain": [
       "True"
      ]
     },
     "execution_count": 15,
     "metadata": {},
     "output_type": "execute_result"
    }
   ],
   "source": [
    "5!=1"
   ]
  },
  {
   "cell_type": "code",
   "execution_count": 1,
   "id": "ae552d05-e942-457b-aceb-66c474719ee4",
   "metadata": {},
   "outputs": [
    {
     "data": {
      "text/plain": [
       "True"
      ]
     },
     "execution_count": 1,
     "metadata": {},
     "output_type": "execute_result"
    }
   ],
   "source": [
    "5>2"
   ]
  },
  {
   "cell_type": "code",
   "execution_count": 2,
   "id": "916c6dff-4f89-45de-9f33-cb48105487eb",
   "metadata": {},
   "outputs": [
    {
     "data": {
      "text/plain": [
       "False"
      ]
     },
     "execution_count": 2,
     "metadata": {},
     "output_type": "execute_result"
    }
   ],
   "source": [
    "6>7"
   ]
  },
  {
   "cell_type": "code",
   "execution_count": 3,
   "id": "3ddd9591-d7f4-4bb8-8444-1b0533edb852",
   "metadata": {},
   "outputs": [
    {
     "data": {
      "text/plain": [
       "False"
      ]
     },
     "execution_count": 3,
     "metadata": {},
     "output_type": "execute_result"
    }
   ],
   "source": [
    "7<5"
   ]
  },
  {
   "cell_type": "code",
   "execution_count": 4,
   "id": "21622fdc-3f71-4b42-99a7-3bc0702af8d8",
   "metadata": {},
   "outputs": [
    {
     "data": {
      "text/plain": [
       "True"
      ]
     },
     "execution_count": 4,
     "metadata": {},
     "output_type": "execute_result"
    }
   ],
   "source": [
    "7<9"
   ]
  },
  {
   "cell_type": "code",
   "execution_count": 5,
   "id": "284e3c16-f0b1-46a5-9a89-aecc012e2700",
   "metadata": {},
   "outputs": [
    {
     "data": {
      "text/plain": [
       "True"
      ]
     },
     "execution_count": 5,
     "metadata": {},
     "output_type": "execute_result"
    }
   ],
   "source": [
    "7>=7"
   ]
  },
  {
   "cell_type": "code",
   "execution_count": 7,
   "id": "3b39751d-55aa-48aa-b945-45de7cab7248",
   "metadata": {},
   "outputs": [
    {
     "data": {
      "text/plain": [
       "False"
      ]
     },
     "execution_count": 7,
     "metadata": {},
     "output_type": "execute_result"
    }
   ],
   "source": [
    "7>=9"
   ]
  },
  {
   "cell_type": "code",
   "execution_count": 8,
   "id": "31c47fea-e774-408a-bd64-f267122d7686",
   "metadata": {},
   "outputs": [
    {
     "data": {
      "text/plain": [
       "False"
      ]
     },
     "execution_count": 8,
     "metadata": {},
     "output_type": "execute_result"
    }
   ],
   "source": [
    "8<=6"
   ]
  },
  {
   "cell_type": "code",
   "execution_count": 9,
   "id": "7ff793af-411c-4d9e-a3e9-fb34d8b166a3",
   "metadata": {},
   "outputs": [
    {
     "data": {
      "text/plain": [
       "True"
      ]
     },
     "execution_count": 9,
     "metadata": {},
     "output_type": "execute_result"
    }
   ],
   "source": [
    "8<=8"
   ]
  },
  {
   "cell_type": "markdown",
   "id": "b72eb87c-529b-4aac-9a46-f125ec557904",
   "metadata": {},
   "source": [
    "# Logical opertors"
   ]
  },
  {
   "cell_type": "code",
   "execution_count": null,
   "id": "88de7094-89cc-4871-95b0-94aa5b15b749",
   "metadata": {},
   "outputs": [],
   "source": [
    "Logical Operators in Python\n",
    "Python Logical operators perform Logical AND, Logical OR, and Logical NOT operations. It is used to combine conditional statements.\n",
    "\n",
    "Operator\t           Description\t                            Syntax\n",
    "and\tLogical AND:       True if both the operands are true\t    x and y\n",
    "or\tLogical OR:      True if either of the operands is true \tx or y\n",
    "not\tLogical NOT:        True if the operand is false        \tnot x"
   ]
  },
  {
   "cell_type": "code",
   "execution_count": 12,
   "id": "11e19873-67ea-4af7-8a39-f6b89e0de373",
   "metadata": {},
   "outputs": [
    {
     "data": {
      "text/plain": [
       "False"
      ]
     },
     "execution_count": 12,
     "metadata": {},
     "output_type": "execute_result"
    }
   ],
   "source": [
    "True and False"
   ]
  },
  {
   "cell_type": "code",
   "execution_count": 14,
   "id": "2f9a90e2-7745-40b5-8122-6c8c29853367",
   "metadata": {},
   "outputs": [
    {
     "data": {
      "text/plain": [
       "False"
      ]
     },
     "execution_count": 14,
     "metadata": {},
     "output_type": "execute_result"
    }
   ],
   "source": [
    "False and False"
   ]
  },
  {
   "cell_type": "code",
   "execution_count": 13,
   "id": "fa935b4d-4537-40e4-9131-63a0a92cff3a",
   "metadata": {},
   "outputs": [
    {
     "data": {
      "text/plain": [
       "True"
      ]
     },
     "execution_count": 13,
     "metadata": {},
     "output_type": "execute_result"
    }
   ],
   "source": [
    "True and True"
   ]
  },
  {
   "cell_type": "code",
   "execution_count": 10,
   "id": "2ace2302-b2cd-42db-b714-5c08ba0ba18a",
   "metadata": {},
   "outputs": [
    {
     "data": {
      "text/plain": [
       "True"
      ]
     },
     "execution_count": 10,
     "metadata": {},
     "output_type": "execute_result"
    }
   ],
   "source": [
    "5>4 and 6>2"
   ]
  },
  {
   "cell_type": "code",
   "execution_count": 15,
   "id": "31255c6a-f88d-4619-bb2c-a6bd85917f0c",
   "metadata": {},
   "outputs": [
    {
     "data": {
      "text/plain": [
       "True"
      ]
     },
     "execution_count": 15,
     "metadata": {},
     "output_type": "execute_result"
    }
   ],
   "source": [
    "5>=5 and 6!=1"
   ]
  },
  {
   "cell_type": "code",
   "execution_count": 16,
   "id": "8b809bca-56f1-4976-8ad1-854a3071e5e5",
   "metadata": {},
   "outputs": [
    {
     "data": {
      "text/plain": [
       "False"
      ]
     },
     "execution_count": 16,
     "metadata": {},
     "output_type": "execute_result"
    }
   ],
   "source": [
    "5>=5 and 6==1"
   ]
  },
  {
   "cell_type": "code",
   "execution_count": 17,
   "id": "ef65a764-3245-46b9-aea3-d6b84ddab009",
   "metadata": {},
   "outputs": [
    {
     "data": {
      "text/plain": [
       "True"
      ]
     },
     "execution_count": 17,
     "metadata": {},
     "output_type": "execute_result"
    }
   ],
   "source": [
    "True or False"
   ]
  },
  {
   "cell_type": "code",
   "execution_count": 18,
   "id": "526614a9-f125-4b04-bb34-9a7f51815c21",
   "metadata": {},
   "outputs": [
    {
     "data": {
      "text/plain": [
       "True"
      ]
     },
     "execution_count": 18,
     "metadata": {},
     "output_type": "execute_result"
    }
   ],
   "source": [
    "True or True"
   ]
  },
  {
   "cell_type": "code",
   "execution_count": 19,
   "id": "33d68667-01bc-489e-9a86-229c54fc30d3",
   "metadata": {},
   "outputs": [
    {
     "data": {
      "text/plain": [
       "False"
      ]
     },
     "execution_count": 19,
     "metadata": {},
     "output_type": "execute_result"
    }
   ],
   "source": [
    "False or False"
   ]
  },
  {
   "cell_type": "code",
   "execution_count": 20,
   "id": "7ba1164c-f02e-4d1b-8c45-93fea4986dec",
   "metadata": {},
   "outputs": [
    {
     "data": {
      "text/plain": [
       "True"
      ]
     },
     "execution_count": 20,
     "metadata": {},
     "output_type": "execute_result"
    }
   ],
   "source": [
    "5>2 or 6==1"
   ]
  },
  {
   "cell_type": "code",
   "execution_count": 21,
   "id": "3013e6dc-c198-4531-83e3-2dd0f56ac0e1",
   "metadata": {},
   "outputs": [
    {
     "data": {
      "text/plain": [
       "False"
      ]
     },
     "execution_count": 21,
     "metadata": {},
     "output_type": "execute_result"
    }
   ],
   "source": [
    "5<2 or 6==1"
   ]
  },
  {
   "cell_type": "code",
   "execution_count": 22,
   "id": "c5644cb6-034e-447a-bd5d-126074a2ed0c",
   "metadata": {},
   "outputs": [
    {
     "data": {
      "text/plain": [
       "False"
      ]
     },
     "execution_count": 22,
     "metadata": {},
     "output_type": "execute_result"
    }
   ],
   "source": [
    "not True"
   ]
  },
  {
   "cell_type": "code",
   "execution_count": 23,
   "id": "015c4fbb-1fc2-4d44-b746-392dc3b63338",
   "metadata": {},
   "outputs": [
    {
     "data": {
      "text/plain": [
       "True"
      ]
     },
     "execution_count": 23,
     "metadata": {},
     "output_type": "execute_result"
    }
   ],
   "source": [
    "not False "
   ]
  },
  {
   "cell_type": "code",
   "execution_count": 24,
   "id": "05d2a18e-8647-46e3-87f9-542df40fc4c4",
   "metadata": {},
   "outputs": [
    {
     "data": {
      "text/plain": [
       "False"
      ]
     },
     "execution_count": 24,
     "metadata": {},
     "output_type": "execute_result"
    }
   ],
   "source": [
    "not (5>2)"
   ]
  },
  {
   "cell_type": "code",
   "execution_count": 25,
   "id": "b76b3c34-982d-4c5d-8b70-19bb18dcfafb",
   "metadata": {},
   "outputs": [
    {
     "data": {
      "text/plain": [
       "True"
      ]
     },
     "execution_count": 25,
     "metadata": {},
     "output_type": "execute_result"
    }
   ],
   "source": [
    "not (6==9)"
   ]
  },
  {
   "cell_type": "markdown",
   "id": "499a7f74-06ec-43f7-b50b-7eacf28a1353",
   "metadata": {},
   "source": [
    "# identiy opertors"
   ]
  },
  {
   "cell_type": "code",
   "execution_count": null,
   "id": "588c905d-27cf-4929-b03f-dba320c0fb70",
   "metadata": {},
   "outputs": [],
   "source": [
    "Identity operators are used to compare the objects, not if they are equal,\n",
    "but if they are actually the same object, with the same memory location:\n",
    "\n",
    "Operator\t       Description\t                                        Example\t\n",
    "is \tReturns        True if both variables are the same object\t        x is y\t\n",
    "is not\tReturns    True if both variables are not the same object\t    x is not y"
   ]
  },
  {
   "cell_type": "code",
   "execution_count": 37,
   "id": "248446a6-112c-4097-a804-6fb30d37b7f0",
   "metadata": {},
   "outputs": [],
   "source": [
    "a=55"
   ]
  },
  {
   "cell_type": "code",
   "execution_count": 38,
   "id": "e4df2ca5-baa4-42a0-98ad-9974e302ae05",
   "metadata": {},
   "outputs": [],
   "source": [
    "b=55"
   ]
  },
  {
   "cell_type": "code",
   "execution_count": 39,
   "id": "77885505-b9a2-4dc8-aadd-ae121aecdb86",
   "metadata": {},
   "outputs": [
    {
     "data": {
      "text/plain": [
       "True"
      ]
     },
     "execution_count": 39,
     "metadata": {},
     "output_type": "execute_result"
    }
   ],
   "source": [
    "a is b"
   ]
  },
  {
   "cell_type": "code",
   "execution_count": 33,
   "id": "0c8cc478-8009-4384-a247-f7650e1d61a8",
   "metadata": {},
   "outputs": [],
   "source": [
    "c =\"piyu\""
   ]
  },
  {
   "cell_type": "code",
   "execution_count": 34,
   "id": "bf1d6115-f838-4f4a-9e00-b0fe9092d44c",
   "metadata": {},
   "outputs": [],
   "source": [
    "d =\"piyu\""
   ]
  },
  {
   "cell_type": "code",
   "execution_count": 35,
   "id": "3eaef025-5b48-4c73-bd47-b447b5ebb379",
   "metadata": {},
   "outputs": [
    {
     "data": {
      "text/plain": [
       "True"
      ]
     },
     "execution_count": 35,
     "metadata": {},
     "output_type": "execute_result"
    }
   ],
   "source": [
    "c is d"
   ]
  },
  {
   "cell_type": "code",
   "execution_count": 40,
   "id": "96c43a94-ee19-4a1a-9331-c60a39bbba44",
   "metadata": {},
   "outputs": [
    {
     "data": {
      "text/plain": [
       "False"
      ]
     },
     "execution_count": 40,
     "metadata": {},
     "output_type": "execute_result"
    }
   ],
   "source": [
    "a is d"
   ]
  },
  {
   "cell_type": "code",
   "execution_count": 41,
   "id": "f2e225db-879d-4be6-bb2c-55e204e35295",
   "metadata": {},
   "outputs": [
    {
     "name": "stdout",
     "output_type": "stream",
     "text": [
      "139682504656816\n",
      "139682504656816\n"
     ]
    }
   ],
   "source": [
    "print(id(a))\n",
    "print(id(b))"
   ]
  },
  {
   "cell_type": "code",
   "execution_count": 42,
   "id": "891149b3-0050-4ae8-b0ea-26cb11a5eb73",
   "metadata": {},
   "outputs": [
    {
     "name": "stdout",
     "output_type": "stream",
     "text": [
      "139682157395568\n",
      "139682157395568\n"
     ]
    }
   ],
   "source": [
    "print(id(c))\n",
    "print(id(d))"
   ]
  },
  {
   "cell_type": "code",
   "execution_count": 43,
   "id": "72cc06bb-69b9-4c0a-8205-5093e4a3c76b",
   "metadata": {},
   "outputs": [],
   "source": [
    "lst_1=[1,2,3,4]"
   ]
  },
  {
   "cell_type": "code",
   "execution_count": 44,
   "id": "78b5739a-0949-4b64-ab73-c099636f2e20",
   "metadata": {},
   "outputs": [],
   "source": [
    "lst_2=[1,2,3,4]"
   ]
  },
  {
   "cell_type": "code",
   "execution_count": 46,
   "id": "1626b3a5-3dcf-408f-bb32-5e4efe11b2fe",
   "metadata": {},
   "outputs": [
    {
     "data": {
      "text/plain": [
       "False"
      ]
     },
     "execution_count": 46,
     "metadata": {},
     "output_type": "execute_result"
    }
   ],
   "source": [
    "lst_1 is lst_2"
   ]
  },
  {
   "cell_type": "code",
   "execution_count": 47,
   "id": "276af838-8b52-4036-bbc5-c8418ff917d0",
   "metadata": {},
   "outputs": [
    {
     "data": {
      "text/plain": [
       "True"
      ]
     },
     "execution_count": 47,
     "metadata": {},
     "output_type": "execute_result"
    }
   ],
   "source": [
    "lst_1 is not  lst_2 "
   ]
  },
  {
   "cell_type": "code",
   "execution_count": 48,
   "id": "6cb1628b-0db3-4b92-8288-d673edb84c4d",
   "metadata": {},
   "outputs": [
    {
     "data": {
      "text/plain": [
       "True"
      ]
     },
     "execution_count": 48,
     "metadata": {},
     "output_type": "execute_result"
    }
   ],
   "source": [
    "lst_1 == lst_2"
   ]
  },
  {
   "cell_type": "markdown",
   "id": "347bdc22-d3d7-4813-9413-d43856dcce98",
   "metadata": {},
   "source": [
    "# Membership opertor"
   ]
  },
  {
   "cell_type": "code",
   "execution_count": null,
   "id": "54482cc3-bd94-4895-a63f-6302a7d7e748",
   "metadata": {},
   "outputs": [],
   "source": [
    "Python Membership Operators\n",
    "Membership operators are used to test if a sequence is presented in an object:\n",
    "\n",
    "Operator\t               Description                                                                      Example\t\n",
    "in \tReturns True           if a sequence with the specified value is present in the object\t                 x in y\t\n",
    "not in\tReturns True       if a sequence with the specified value is not present in the object\t             x not in y"
   ]
  },
  {
   "cell_type": "code",
   "execution_count": 49,
   "id": "c586cd6c-9c30-4ec9-bc4b-27cd84e25e6e",
   "metadata": {},
   "outputs": [],
   "source": [
    "lst_3=[1,2,3]"
   ]
  },
  {
   "cell_type": "code",
   "execution_count": 50,
   "id": "6777a05c-c90b-4faf-b911-191940099548",
   "metadata": {},
   "outputs": [
    {
     "data": {
      "text/plain": [
       "True"
      ]
     },
     "execution_count": 50,
     "metadata": {},
     "output_type": "execute_result"
    }
   ],
   "source": [
    "2 in lst_3"
   ]
  },
  {
   "cell_type": "code",
   "execution_count": 51,
   "id": "9cbb2147-0d20-48fc-a296-4047a68fa226",
   "metadata": {},
   "outputs": [],
   "source": [
    "e=\"piyush\""
   ]
  },
  {
   "cell_type": "code",
   "execution_count": 52,
   "id": "54bba291-6094-4c63-8f42-6a4997b4c9a9",
   "metadata": {},
   "outputs": [],
   "source": [
    "f=\"piyus\""
   ]
  },
  {
   "cell_type": "code",
   "execution_count": 53,
   "id": "fbf226e0-06c5-4cb9-84fd-447ec22b0d8d",
   "metadata": {},
   "outputs": [
    {
     "data": {
      "text/plain": [
       "True"
      ]
     },
     "execution_count": 53,
     "metadata": {},
     "output_type": "execute_result"
    }
   ],
   "source": [
    "f in e"
   ]
  },
  {
   "cell_type": "code",
   "execution_count": 55,
   "id": "9c20ab0e-6f5c-4d18-b9a0-6e473bee60ac",
   "metadata": {},
   "outputs": [
    {
     "data": {
      "text/plain": [
       "True"
      ]
     },
     "execution_count": 55,
     "metadata": {},
     "output_type": "execute_result"
    }
   ],
   "source": [
    "'sh' in e"
   ]
  },
  {
   "cell_type": "code",
   "execution_count": 56,
   "id": "8fa128d0-df7d-478e-be00-da6a1b944d79",
   "metadata": {},
   "outputs": [
    {
     "data": {
      "text/plain": [
       "False"
      ]
     },
     "execution_count": 56,
     "metadata": {},
     "output_type": "execute_result"
    }
   ],
   "source": [
    "'yz' in e"
   ]
  },
  {
   "cell_type": "code",
   "execution_count": 57,
   "id": "7b03acf9-b434-447d-b0ba-33f047ecd534",
   "metadata": {},
   "outputs": [
    {
     "data": {
      "text/plain": [
       "False"
      ]
     },
     "execution_count": 57,
     "metadata": {},
     "output_type": "execute_result"
    }
   ],
   "source": [
    "'ps' in e"
   ]
  },
  {
   "cell_type": "code",
   "execution_count": 58,
   "id": "3ac477dd-af45-4aba-8a60-3a948bc81a3d",
   "metadata": {},
   "outputs": [
    {
     "data": {
      "text/plain": [
       "3"
      ]
     },
     "execution_count": 58,
     "metadata": {},
     "output_type": "execute_result"
    }
   ],
   "source": [
    "3 or  4 in lst_3"
   ]
  },
  {
   "cell_type": "code",
   "execution_count": 59,
   "id": "a329d0aa-bac9-4205-9a7b-34aed9ca3297",
   "metadata": {},
   "outputs": [
    {
     "data": {
      "text/plain": [
       "False"
      ]
     },
     "execution_count": 59,
     "metadata": {},
     "output_type": "execute_result"
    }
   ],
   "source": [
    "3 and  4 in lst_3"
   ]
  },
  {
   "cell_type": "code",
   "execution_count": 60,
   "id": "3fb6a97a-902c-4d22-8c35-3c28c94eff6e",
   "metadata": {},
   "outputs": [
    {
     "data": {
      "text/plain": [
       "3"
      ]
     },
     "execution_count": 60,
     "metadata": {},
     "output_type": "execute_result"
    }
   ],
   "source": [
    "3 or 2 in lst_3"
   ]
  },
  {
   "cell_type": "code",
   "execution_count": 61,
   "id": "addd8b77-f925-4a6b-a542-a146188e2f85",
   "metadata": {},
   "outputs": [
    {
     "data": {
      "text/plain": [
       "True"
      ]
     },
     "execution_count": 61,
     "metadata": {},
     "output_type": "execute_result"
    }
   ],
   "source": [
    "3 and 2 in lst_3"
   ]
  },
  {
   "cell_type": "code",
   "execution_count": 62,
   "id": "f3394d7e-fe90-4e50-95c3-d6bdc24cf735",
   "metadata": {},
   "outputs": [
    {
     "data": {
      "text/plain": [
       "True"
      ]
     },
     "execution_count": 62,
     "metadata": {},
     "output_type": "execute_result"
    }
   ],
   "source": [
    "3 and  4  not in lst_3"
   ]
  },
  {
   "cell_type": "markdown",
   "id": "bd103ce0-833a-4407-899d-9d35bc64e0cf",
   "metadata": {},
   "source": [
    "# Bitwise opertor"
   ]
  },
  {
   "cell_type": "code",
   "execution_count": null,
   "id": "415a1125-49d9-4879-b37a-1f50d77c9bd4",
   "metadata": {},
   "outputs": [],
   "source": [
    "Python Bitwise Operators\n",
    "Bitwise operators are used to compare (binary) numbers:\n",
    "\n",
    "Operator        Name\t           Description                                                                       \tExample\t\n",
    "& \t            AND\t                Sets each bit to 1 if both bits are 1\t                                            x & y\t\n",
    "|\t            OR                  Sets each bit to 1 if one of two bits is 1                                      \tx | y\t\n",
    "^\t            XOR\t                Sets each bit to 1 if only one of two bits is 1                                  \tx ^ y\t\n",
    "~\t            NOT\t                Inverts all the bits\t                                                            ~x\t\n",
    "<<\t     Zero  fill left shift     \tShift left by pushing zeros in from the right and let the leftmost bits fall off\t x << 2\t\n",
    ">>\t      Signed right shift\t    Shift right by pushing copies of the leftmost bit in from the left, and let the      x >> 2\n",
    "                                     rightmost bits fall off\t"
   ]
  },
  {
   "cell_type": "code",
   "execution_count": 63,
   "id": "0c13db10-02cc-478c-9392-857197b9ff0c",
   "metadata": {},
   "outputs": [
    {
     "data": {
      "text/plain": [
       "5"
      ]
     },
     "execution_count": 63,
     "metadata": {},
     "output_type": "execute_result"
    }
   ],
   "source": [
    "5&5"
   ]
  },
  {
   "cell_type": "code",
   "execution_count": 64,
   "id": "b941fb3d-0bd5-49cf-9b98-cd460c1c1086",
   "metadata": {},
   "outputs": [
    {
     "data": {
      "text/plain": [
       "0"
      ]
     },
     "execution_count": 64,
     "metadata": {},
     "output_type": "execute_result"
    }
   ],
   "source": [
    "5&8"
   ]
  },
  {
   "cell_type": "code",
   "execution_count": 65,
   "id": "78f126c4-5a9e-48c6-82f1-27bd9044940b",
   "metadata": {},
   "outputs": [
    {
     "data": {
      "text/plain": [
       "0"
      ]
     },
     "execution_count": 65,
     "metadata": {},
     "output_type": "execute_result"
    }
   ],
   "source": [
    "2&5"
   ]
  },
  {
   "cell_type": "code",
   "execution_count": 66,
   "id": "0f51f0c3-18d5-46ff-ad2e-bdded22cc9ba",
   "metadata": {},
   "outputs": [
    {
     "data": {
      "text/plain": [
       "7"
      ]
     },
     "execution_count": 66,
     "metadata": {},
     "output_type": "execute_result"
    }
   ],
   "source": [
    "7&15"
   ]
  },
  {
   "cell_type": "code",
   "execution_count": 67,
   "id": "7b78bdfa-549e-45cd-896f-e93b99c2b9de",
   "metadata": {},
   "outputs": [
    {
     "data": {
      "text/plain": [
       "15"
      ]
     },
     "execution_count": 67,
     "metadata": {},
     "output_type": "execute_result"
    }
   ],
   "source": [
    "7|15"
   ]
  },
  {
   "cell_type": "code",
   "execution_count": 68,
   "id": "fa4b2fdb-d5c1-4368-b310-2057fe9a754d",
   "metadata": {},
   "outputs": [
    {
     "data": {
      "text/plain": [
       "13"
      ]
     },
     "execution_count": 68,
     "metadata": {},
     "output_type": "execute_result"
    }
   ],
   "source": [
    "5|8"
   ]
  },
  {
   "cell_type": "code",
   "execution_count": 69,
   "id": "b3957dcd-c1ce-4fae-beb8-2fdf7fd3c288",
   "metadata": {},
   "outputs": [
    {
     "data": {
      "text/plain": [
       "7"
      ]
     },
     "execution_count": 69,
     "metadata": {},
     "output_type": "execute_result"
    }
   ],
   "source": [
    "2|5"
   ]
  },
  {
   "cell_type": "code",
   "execution_count": 70,
   "id": "f14609d9-b91a-4306-b84e-4bbe9ef8b526",
   "metadata": {},
   "outputs": [
    {
     "data": {
      "text/plain": [
       "7"
      ]
     },
     "execution_count": 70,
     "metadata": {},
     "output_type": "execute_result"
    }
   ],
   "source": [
    "2^5"
   ]
  },
  {
   "cell_type": "code",
   "execution_count": 71,
   "id": "c4bd374b-906b-4e4d-b28e-ca177d94aa92",
   "metadata": {},
   "outputs": [
    {
     "data": {
      "text/plain": [
       "8"
      ]
     },
     "execution_count": 71,
     "metadata": {},
     "output_type": "execute_result"
    }
   ],
   "source": [
    "7^15"
   ]
  },
  {
   "cell_type": "code",
   "execution_count": 72,
   "id": "ac4c0783-893b-492d-9c0a-96deafce2fb9",
   "metadata": {},
   "outputs": [
    {
     "data": {
      "text/plain": [
       "0"
      ]
     },
     "execution_count": 72,
     "metadata": {},
     "output_type": "execute_result"
    }
   ],
   "source": [
    "5^5"
   ]
  },
  {
   "cell_type": "code",
   "execution_count": 73,
   "id": "b40a3008-6aaf-45ce-8e05-ccc0280cd756",
   "metadata": {},
   "outputs": [
    {
     "data": {
      "text/plain": [
       "13"
      ]
     },
     "execution_count": 73,
     "metadata": {},
     "output_type": "execute_result"
    }
   ],
   "source": [
    "5^8"
   ]
  },
  {
   "cell_type": "code",
   "execution_count": 74,
   "id": "ac9afc03-33dc-4722-86b1-2cbb409d0d8b",
   "metadata": {},
   "outputs": [
    {
     "data": {
      "text/plain": [
       "-6"
      ]
     },
     "execution_count": 74,
     "metadata": {},
     "output_type": "execute_result"
    }
   ],
   "source": [
    "~5"
   ]
  },
  {
   "cell_type": "code",
   "execution_count": 75,
   "id": "38955db7-0d99-4785-a138-51a9e765161f",
   "metadata": {},
   "outputs": [
    {
     "data": {
      "text/plain": [
       "-3"
      ]
     },
     "execution_count": 75,
     "metadata": {},
     "output_type": "execute_result"
    }
   ],
   "source": [
    "~2"
   ]
  },
  {
   "cell_type": "code",
   "execution_count": 76,
   "id": "a6232f6f-9bae-449b-9387-3a7c7af14a08",
   "metadata": {},
   "outputs": [
    {
     "data": {
      "text/plain": [
       "-16"
      ]
     },
     "execution_count": 76,
     "metadata": {},
     "output_type": "execute_result"
    }
   ],
   "source": [
    "~15"
   ]
  },
  {
   "cell_type": "code",
   "execution_count": 78,
   "id": "53dbfa38-6b63-4ea8-9272-6f2db6056a14",
   "metadata": {},
   "outputs": [
    {
     "data": {
      "text/plain": [
       "-8"
      ]
     },
     "execution_count": 78,
     "metadata": {},
     "output_type": "execute_result"
    }
   ],
   "source": [
    "~0b111 # 0b is for binary number"
   ]
  },
  {
   "cell_type": "code",
   "execution_count": 79,
   "id": "cb37d19c-e2ee-4c27-a05f-a28fa825572d",
   "metadata": {},
   "outputs": [
    {
     "data": {
      "text/plain": [
       "139682504655536"
      ]
     },
     "execution_count": 79,
     "metadata": {},
     "output_type": "execute_result"
    }
   ],
   "source": [
    "id(15)"
   ]
  },
  {
   "cell_type": "code",
   "execution_count": 80,
   "id": "fd0d1878-0f99-4485-b7a7-5f0453aac4af",
   "metadata": {},
   "outputs": [
    {
     "data": {
      "text/plain": [
       "'0b1111'"
      ]
     },
     "execution_count": 80,
     "metadata": {},
     "output_type": "execute_result"
    }
   ],
   "source": [
    "bin(15)"
   ]
  },
  {
   "cell_type": "code",
   "execution_count": 81,
   "id": "5ae2f73d-52c1-421d-90b3-7fef2e673345",
   "metadata": {},
   "outputs": [
    {
     "data": {
      "text/plain": [
       "20"
      ]
     },
     "execution_count": 81,
     "metadata": {},
     "output_type": "execute_result"
    }
   ],
   "source": [
    "5<<2"
   ]
  },
  {
   "cell_type": "code",
   "execution_count": 82,
   "id": "5b130125-daeb-4e76-ab90-c2be2c179c18",
   "metadata": {},
   "outputs": [],
   "source": [
    "# 0101 left shift will be 010100  addimg to zero at back"
   ]
  },
  {
   "cell_type": "code",
   "execution_count": 83,
   "id": "6b0c8777-f6b2-4666-bc4b-5affda3b9bcb",
   "metadata": {},
   "outputs": [
    {
     "data": {
      "text/plain": [
       "20"
      ]
     },
     "execution_count": 83,
     "metadata": {},
     "output_type": "execute_result"
    }
   ],
   "source": [
    "0b010100"
   ]
  },
  {
   "cell_type": "code",
   "execution_count": 85,
   "id": "623e9cf6-4f2b-47e4-8873-3f1d2b743f0d",
   "metadata": {},
   "outputs": [
    {
     "data": {
      "text/plain": [
       "1"
      ]
     },
     "execution_count": 85,
     "metadata": {},
     "output_type": "execute_result"
    }
   ],
   "source": [
    "5>>2"
   ]
  },
  {
   "cell_type": "code",
   "execution_count": 87,
   "id": "8f1ff1ac-f28f-4cd3-9f38-1736fd9f704e",
   "metadata": {},
   "outputs": [
    {
     "data": {
      "text/plain": [
       "3"
      ]
     },
     "execution_count": 87,
     "metadata": {},
     "output_type": "execute_result"
    }
   ],
   "source": [
    "15>>2"
   ]
  },
  {
   "cell_type": "code",
   "execution_count": 88,
   "id": "87fc8b8c-c0b3-4b91-9413-bf87c4a397a1",
   "metadata": {},
   "outputs": [],
   "source": [
    "# 0101 right shipt will be  0101 converting first two number in zero will be 0001"
   ]
  },
  {
   "cell_type": "code",
   "execution_count": 89,
   "id": "d29dcee0-0079-4a0a-bd02-2d1af21a585b",
   "metadata": {},
   "outputs": [
    {
     "data": {
      "text/plain": [
       "3"
      ]
     },
     "execution_count": 89,
     "metadata": {},
     "output_type": "execute_result"
    }
   ],
   "source": [
    "0b0011 # 87 as 15= 1111 "
   ]
  },
  {
   "cell_type": "code",
   "execution_count": null,
   "id": "1ca10dc7-fedc-4dc4-819c-f25d6c6fc74f",
   "metadata": {},
   "outputs": [],
   "source": []
  }
 ],
 "metadata": {
  "kernelspec": {
   "display_name": "Python 3 (ipykernel)",
   "language": "python",
   "name": "python3"
  },
  "language_info": {
   "codemirror_mode": {
    "name": "ipython",
    "version": 3
   },
   "file_extension": ".py",
   "mimetype": "text/x-python",
   "name": "python",
   "nbconvert_exporter": "python",
   "pygments_lexer": "ipython3",
   "version": "3.10.8"
  }
 },
 "nbformat": 4,
 "nbformat_minor": 5
}
