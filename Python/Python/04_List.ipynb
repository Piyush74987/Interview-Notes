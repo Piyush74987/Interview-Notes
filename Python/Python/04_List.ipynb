{
 "cells": [
  {
   "cell_type": "markdown",
   "id": "a78085fe-d1db-4115-a623-034759e7442b",
   "metadata": {},
   "source": [
    "# List\n",
    "## Lists are used to store multiple items in a single variable.\n",
    "## Lists are one of 4 built-in data types in Python used to store collections of data, the other 3 are Tuple, Set, and Dictionary, all with different qualities and usage.\n",
    "## Lists are created using square brackets:"
   ]
  },
  {
   "cell_type": "code",
   "execution_count": 1,
   "id": "327fc565-2d0f-46fa-9d60-a49422f93e0f",
   "metadata": {},
   "outputs": [],
   "source": [
    "lst_1=[1,2,3,\"piyush\",\"pedri\"]"
   ]
  },
  {
   "cell_type": "code",
   "execution_count": 2,
   "id": "1ae96027-b1f2-4048-b3c7-50b79320df97",
   "metadata": {},
   "outputs": [
    {
     "name": "stdout",
     "output_type": "stream",
     "text": [
      "<class 'list'>\n"
     ]
    }
   ],
   "source": [
    "print(type(lst_1))"
   ]
  },
  {
   "cell_type": "code",
   "execution_count": 3,
   "id": "2c017fbf-ece8-4be1-88d3-6c5e949e33de",
   "metadata": {},
   "outputs": [
    {
     "data": {
      "text/plain": [
       "3"
      ]
     },
     "execution_count": 3,
     "metadata": {},
     "output_type": "execute_result"
    }
   ],
   "source": [
    "lst_1[2]"
   ]
  },
  {
   "cell_type": "code",
   "execution_count": 5,
   "id": "c48f64b7-2ffe-4183-9f2d-1e2587e60e09",
   "metadata": {},
   "outputs": [
    {
     "data": {
      "text/plain": [
       "'pedri'"
      ]
     },
     "execution_count": 5,
     "metadata": {},
     "output_type": "execute_result"
    }
   ],
   "source": [
    "lst_1[4]"
   ]
  },
  {
   "cell_type": "code",
   "execution_count": 6,
   "id": "014c5297-8dfb-4e6a-accd-d81712dab111",
   "metadata": {},
   "outputs": [
    {
     "data": {
      "text/plain": [
       "[1, 2, 3, 'piyush']"
      ]
     },
     "execution_count": 6,
     "metadata": {},
     "output_type": "execute_result"
    }
   ],
   "source": [
    "lst_1[0:4] # slicing and list"
   ]
  },
  {
   "cell_type": "code",
   "execution_count": 7,
   "id": "aa803065-142b-46a2-bff3-4d48dcba5131",
   "metadata": {},
   "outputs": [
    {
     "data": {
      "text/plain": [
       "['pedri', 'piyush', 3, 2, 1]"
      ]
     },
     "execution_count": 7,
     "metadata": {},
     "output_type": "execute_result"
    }
   ],
   "source": [
    "lst_1[::-1] # reversing and list"
   ]
  },
  {
   "cell_type": "code",
   "execution_count": 8,
   "id": "40d7ada6-9410-4bc1-b4c4-30838a27b237",
   "metadata": {},
   "outputs": [],
   "source": [
    "lst_1[2]=\"gavi\" # list are mutable"
   ]
  },
  {
   "cell_type": "code",
   "execution_count": 9,
   "id": "49caf553-921e-43b8-81d2-6781944b4d96",
   "metadata": {},
   "outputs": [
    {
     "data": {
      "text/plain": [
       "[1, 2, 'gavi', 'piyush', 'pedri']"
      ]
     },
     "execution_count": 9,
     "metadata": {},
     "output_type": "execute_result"
    }
   ],
   "source": [
    "lst_1"
   ]
  },
  {
   "cell_type": "code",
   "execution_count": 10,
   "id": "0c30f49b-455a-49d2-b07e-77e77550eb6f",
   "metadata": {},
   "outputs": [],
   "source": [
    "str=\"i am learing data scince\""
   ]
  },
  {
   "cell_type": "code",
   "execution_count": 12,
   "id": "2b8a27e8-19eb-45e6-981b-89f519c017a3",
   "metadata": {},
   "outputs": [],
   "source": [
    "lst_2=list(str.split())"
   ]
  },
  {
   "cell_type": "code",
   "execution_count": 13,
   "id": "529b129c-e86a-4f84-8aa7-894500ef0ca7",
   "metadata": {},
   "outputs": [
    {
     "data": {
      "text/plain": [
       "['i', 'am', 'learing', 'data', 'scince']"
      ]
     },
     "execution_count": 13,
     "metadata": {},
     "output_type": "execute_result"
    }
   ],
   "source": [
    "lst_2"
   ]
  },
  {
   "cell_type": "code",
   "execution_count": 14,
   "id": "9c4eb05f-d796-4ce4-8978-65c7b632db59",
   "metadata": {},
   "outputs": [
    {
     "data": {
      "text/plain": [
       "['i', 'learing', 'scince']"
      ]
     },
     "execution_count": 14,
     "metadata": {},
     "output_type": "execute_result"
    }
   ],
   "source": [
    "lst_2[0:5:2]"
   ]
  },
  {
   "cell_type": "code",
   "execution_count": 15,
   "id": "bc6b9836-e358-499a-b3b5-fb57bfc87421",
   "metadata": {},
   "outputs": [
    {
     "data": {
      "text/plain": [
       "['scince', 'learing', 'i']"
      ]
     },
     "execution_count": 15,
     "metadata": {},
     "output_type": "execute_result"
    }
   ],
   "source": [
    "lst_2[::-2]"
   ]
  },
  {
   "cell_type": "code",
   "execution_count": 16,
   "id": "77a9df19-ea30-476c-8f2f-d45e852ae3e2",
   "metadata": {},
   "outputs": [
    {
     "data": {
      "text/plain": [
       "['__add__',\n",
       " '__class__',\n",
       " '__class_getitem__',\n",
       " '__contains__',\n",
       " '__delattr__',\n",
       " '__delitem__',\n",
       " '__dir__',\n",
       " '__doc__',\n",
       " '__eq__',\n",
       " '__format__',\n",
       " '__ge__',\n",
       " '__getattribute__',\n",
       " '__getitem__',\n",
       " '__gt__',\n",
       " '__hash__',\n",
       " '__iadd__',\n",
       " '__imul__',\n",
       " '__init__',\n",
       " '__init_subclass__',\n",
       " '__iter__',\n",
       " '__le__',\n",
       " '__len__',\n",
       " '__lt__',\n",
       " '__mul__',\n",
       " '__ne__',\n",
       " '__new__',\n",
       " '__reduce__',\n",
       " '__reduce_ex__',\n",
       " '__repr__',\n",
       " '__reversed__',\n",
       " '__rmul__',\n",
       " '__setattr__',\n",
       " '__setitem__',\n",
       " '__sizeof__',\n",
       " '__str__',\n",
       " '__subclasshook__',\n",
       " 'append',\n",
       " 'clear',\n",
       " 'copy',\n",
       " 'count',\n",
       " 'extend',\n",
       " 'index',\n",
       " 'insert',\n",
       " 'pop',\n",
       " 'remove',\n",
       " 'reverse',\n",
       " 'sort']"
      ]
     },
     "execution_count": 16,
     "metadata": {},
     "output_type": "execute_result"
    }
   ],
   "source": [
    "dir(lst_1)"
   ]
  },
  {
   "cell_type": "code",
   "execution_count": 17,
   "id": "dccc88c9-8451-4114-8fd4-94dd49623db7",
   "metadata": {},
   "outputs": [
    {
     "data": {
      "text/plain": [
       "[1, 2, 'gavi', 'piyush', 'pedri']"
      ]
     },
     "execution_count": 17,
     "metadata": {},
     "output_type": "execute_result"
    }
   ],
   "source": [
    "lst_1"
   ]
  },
  {
   "cell_type": "code",
   "execution_count": 23,
   "id": "6d632d4b-a71b-48a5-b436-a37cd8a65446",
   "metadata": {},
   "outputs": [
    {
     "data": {
      "text/plain": [
       "[1, 2, 'gavi', 'piyush', 'pedri', 'frenky']"
      ]
     },
     "execution_count": 23,
     "metadata": {},
     "output_type": "execute_result"
    }
   ],
   "source": [
    "#contation operation\n",
    "lst_1+[\"frenky\"]"
   ]
  },
  {
   "cell_type": "code",
   "execution_count": 24,
   "id": "d04cf481-9272-4456-82f3-a0888b0eb9ec",
   "metadata": {},
   "outputs": [
    {
     "data": {
      "text/plain": [
       "[1, 2, 'gavi', 'piyush', 'pedri', 'vitor', 10]"
      ]
     },
     "execution_count": 24,
     "metadata": {},
     "output_type": "execute_result"
    }
   ],
   "source": [
    "lst_1+[\"vitor\",10]"
   ]
  },
  {
   "cell_type": "code",
   "execution_count": 29,
   "id": "2ac9a8be-bc23-4735-8d8b-73e159659b1b",
   "metadata": {},
   "outputs": [
    {
     "data": {
      "text/plain": [
       "[1, 2, 'gavi', 'piyush', 'pedri', ['de jong', 9]]"
      ]
     },
     "execution_count": 29,
     "metadata": {},
     "output_type": "execute_result"
    }
   ],
   "source": [
    "lst_1+[[\"de jong\",9]]"
   ]
  },
  {
   "cell_type": "code",
   "execution_count": 28,
   "id": "2ca66e4d-d4dc-4bc7-a5f9-924fb0b0e5ea",
   "metadata": {},
   "outputs": [
    {
     "data": {
      "text/plain": [
       "'r'"
      ]
     },
     "execution_count": 28,
     "metadata": {},
     "output_type": "execute_result"
    }
   ],
   "source": [
    "lst_1[4][3]"
   ]
  },
  {
   "cell_type": "code",
   "execution_count": 35,
   "id": "7dae2a8c-92af-479f-b0ad-014df5e27230",
   "metadata": {},
   "outputs": [],
   "source": [
    "lst_3=lst_1+[[\"de jong\",9]] # nested list"
   ]
  },
  {
   "cell_type": "code",
   "execution_count": 36,
   "id": "91015430-212d-44ce-b95b-dae8a08b29e0",
   "metadata": {},
   "outputs": [
    {
     "data": {
      "text/plain": [
       "'de jong'"
      ]
     },
     "execution_count": 36,
     "metadata": {},
     "output_type": "execute_result"
    }
   ],
   "source": [
    "lst_3[5][0]"
   ]
  },
  {
   "cell_type": "code",
   "execution_count": 37,
   "id": "43558cc7-4aff-4cc9-a966-52328647a238",
   "metadata": {},
   "outputs": [
    {
     "data": {
      "text/plain": [
       "[1,\n",
       " 2,\n",
       " 'gavi',\n",
       " 'piyush',\n",
       " 'pedri',\n",
       " 1,\n",
       " 2,\n",
       " 'gavi',\n",
       " 'piyush',\n",
       " 'pedri',\n",
       " 1,\n",
       " 2,\n",
       " 'gavi',\n",
       " 'piyush',\n",
       " 'pedri']"
      ]
     },
     "execution_count": 37,
     "metadata": {},
     "output_type": "execute_result"
    }
   ],
   "source": [
    "lst_1*3"
   ]
  },
  {
   "cell_type": "code",
   "execution_count": 39,
   "id": "b2bba091-41bb-4895-b18c-501ebcc6dc75",
   "metadata": {},
   "outputs": [
    {
     "data": {
      "text/plain": [
       "5"
      ]
     },
     "execution_count": 39,
     "metadata": {},
     "output_type": "execute_result"
    }
   ],
   "source": [
    "len(lst_1)"
   ]
  },
  {
   "cell_type": "code",
   "execution_count": 41,
   "id": "0d00d8a4-4394-4535-9176-dfcb0a31b84b",
   "metadata": {},
   "outputs": [],
   "source": [
    "lst_5=[1,5,6,7,10]"
   ]
  },
  {
   "cell_type": "code",
   "execution_count": 42,
   "id": "8952386d-5e85-4f83-b538-204a1d1aea26",
   "metadata": {},
   "outputs": [
    {
     "data": {
      "text/plain": [
       "10"
      ]
     },
     "execution_count": 42,
     "metadata": {},
     "output_type": "execute_result"
    }
   ],
   "source": [
    "max(lst_5)"
   ]
  },
  {
   "cell_type": "code",
   "execution_count": 43,
   "id": "0ab985eb-9198-439d-896a-cd2b2822ec63",
   "metadata": {},
   "outputs": [
    {
     "data": {
      "text/plain": [
       "True"
      ]
     },
     "execution_count": 43,
     "metadata": {},
     "output_type": "execute_result"
    }
   ],
   "source": [
    "5 in lst_5"
   ]
  },
  {
   "cell_type": "code",
   "execution_count": 44,
   "id": "d1ef8252-afc6-4f8f-a8a5-fbe79bdc3777",
   "metadata": {},
   "outputs": [
    {
     "data": {
      "text/plain": [
       "1"
      ]
     },
     "execution_count": 44,
     "metadata": {},
     "output_type": "execute_result"
    }
   ],
   "source": [
    "min(lst_5)"
   ]
  },
  {
   "cell_type": "code",
   "execution_count": 59,
   "id": "7b9d032a-48c3-4dce-9f0c-e005032b3f36",
   "metadata": {},
   "outputs": [
    {
     "data": {
      "text/plain": [
       "[1, 'piyush', 'pedri', 'vitor roque', 'frenky']"
      ]
     },
     "execution_count": 59,
     "metadata": {},
     "output_type": "execute_result"
    }
   ],
   "source": [
    "lst_3"
   ]
  },
  {
   "cell_type": "code",
   "execution_count": 60,
   "id": "9a303f60-d477-4a9d-aff9-da58c48586a5",
   "metadata": {},
   "outputs": [],
   "source": [
    "lst_3.append(\"gavi\") # add at last of list"
   ]
  },
  {
   "cell_type": "code",
   "execution_count": 61,
   "id": "24ea83df-c7b8-400d-b94f-09c779b59aa3",
   "metadata": {},
   "outputs": [
    {
     "data": {
      "text/plain": [
       "[1, 'piyush', 'pedri', 'vitor roque', 'frenky', 'gavi']"
      ]
     },
     "execution_count": 61,
     "metadata": {},
     "output_type": "execute_result"
    }
   ],
   "source": [
    "lst_3"
   ]
  },
  {
   "cell_type": "code",
   "execution_count": 62,
   "id": "7eda177e-a189-4944-92b8-d7eac125d7ab",
   "metadata": {},
   "outputs": [
    {
     "data": {
      "text/plain": [
       "'piyush'"
      ]
     },
     "execution_count": 62,
     "metadata": {},
     "output_type": "execute_result"
    }
   ],
   "source": [
    "lst_3.pop(1) # deleted the 1 postion str"
   ]
  },
  {
   "cell_type": "code",
   "execution_count": 63,
   "id": "5b412518-f4eb-4ae5-8aa0-49ded8ae9072",
   "metadata": {},
   "outputs": [
    {
     "data": {
      "text/plain": [
       "'gavi'"
      ]
     },
     "execution_count": 63,
     "metadata": {},
     "output_type": "execute_result"
    }
   ],
   "source": [
    "lst_3.pop() # if postion not given it removes last str "
   ]
  },
  {
   "cell_type": "code",
   "execution_count": 76,
   "id": "f8560db4-f4a0-4d98-b342-b030a4632f12",
   "metadata": {},
   "outputs": [],
   "source": [
    "lst=[9,4,8,6,3,10,2,99]"
   ]
  },
  {
   "cell_type": "code",
   "execution_count": 77,
   "id": "e01e21b8-bf32-4308-8867-263d52091133",
   "metadata": {},
   "outputs": [
    {
     "data": {
      "text/plain": [
       "[9, 4, 8, 6, 3, 10, 2, 99]"
      ]
     },
     "execution_count": 77,
     "metadata": {},
     "output_type": "execute_result"
    }
   ],
   "source": [
    "lst"
   ]
  },
  {
   "cell_type": "code",
   "execution_count": 78,
   "id": "fa8e4b9d-8c57-46a3-be87-aac0557e6a10",
   "metadata": {},
   "outputs": [],
   "source": [
    "lst.reverse()"
   ]
  },
  {
   "cell_type": "code",
   "execution_count": 79,
   "id": "6d157713-7a3f-4649-8743-91c392e1cddf",
   "metadata": {},
   "outputs": [
    {
     "data": {
      "text/plain": [
       "[99, 2, 10, 3, 6, 8, 4, 9]"
      ]
     },
     "execution_count": 79,
     "metadata": {},
     "output_type": "execute_result"
    }
   ],
   "source": [
    "lst"
   ]
  },
  {
   "cell_type": "code",
   "execution_count": 80,
   "id": "6196cd7a-bb30-452a-9bd0-050572f1ca93",
   "metadata": {},
   "outputs": [],
   "source": [
    "lst.sort()"
   ]
  },
  {
   "cell_type": "code",
   "execution_count": 81,
   "id": "e4bb2bb7-a9b5-451f-830e-fa719466ccc5",
   "metadata": {},
   "outputs": [
    {
     "data": {
      "text/plain": [
       "[2, 3, 4, 6, 8, 9, 10, 99]"
      ]
     },
     "execution_count": 81,
     "metadata": {},
     "output_type": "execute_result"
    }
   ],
   "source": [
    "lst"
   ]
  },
  {
   "cell_type": "code",
   "execution_count": 82,
   "id": "7cbe8ce6-b182-4ceb-956f-c06716eec00c",
   "metadata": {},
   "outputs": [],
   "source": [
    "lst_7=[9,4,8,6,3,10,2,99,66,77,44,22,91]"
   ]
  },
  {
   "cell_type": "code",
   "execution_count": 87,
   "id": "8776eebb-2b5c-49b5-ae82-8d87196b2f8c",
   "metadata": {},
   "outputs": [],
   "source": [
    "lst_7.sort(reverse=True) # it first sort the list and rverse it "
   ]
  },
  {
   "cell_type": "code",
   "execution_count": 88,
   "id": "ef67adc3-96e5-41ab-8cc0-a46703d465e6",
   "metadata": {},
   "outputs": [
    {
     "data": {
      "text/plain": [
       "[99, 91, 77, 66, 44, 22, 10, 9, 8, 6, 4, 3, 2]"
      ]
     },
     "execution_count": 88,
     "metadata": {},
     "output_type": "execute_result"
    }
   ],
   "source": [
    "lst_7"
   ]
  },
  {
   "cell_type": "code",
   "execution_count": 89,
   "id": "7b29a2c6-3efc-421c-a5d2-a8d53aaff570",
   "metadata": {},
   "outputs": [],
   "source": [
    "a=[1,2,3]\n",
    "b=[4,5,6]\n",
    "c=[2,4,6]"
   ]
  },
  {
   "cell_type": "code",
   "execution_count": 90,
   "id": "ac271c32-27f0-4242-860d-fac8512f871d",
   "metadata": {},
   "outputs": [],
   "source": [
    "m=[a,b,c]# nested list"
   ]
  },
  {
   "cell_type": "code",
   "execution_count": 91,
   "id": "1a1744e0-183f-4225-a5cb-3c68a436e5b3",
   "metadata": {},
   "outputs": [
    {
     "data": {
      "text/plain": [
       "[[1, 2, 3], [4, 5, 6], [2, 4, 6]]"
      ]
     },
     "execution_count": 91,
     "metadata": {},
     "output_type": "execute_result"
    }
   ],
   "source": [
    "m"
   ]
  },
  {
   "cell_type": "code",
   "execution_count": 92,
   "id": "2ae1537f-cd36-4a2a-94b5-1b462fef6313",
   "metadata": {},
   "outputs": [
    {
     "data": {
      "text/plain": [
       "1"
      ]
     },
     "execution_count": 92,
     "metadata": {},
     "output_type": "execute_result"
    }
   ],
   "source": [
    "m[0][0]"
   ]
  },
  {
   "cell_type": "code",
   "execution_count": 93,
   "id": "b82faf9b-87a3-4bd8-9e64-286e42b59998",
   "metadata": {},
   "outputs": [
    {
     "data": {
      "text/plain": [
       "5"
      ]
     },
     "execution_count": 93,
     "metadata": {},
     "output_type": "execute_result"
    }
   ],
   "source": [
    "m[1][1]"
   ]
  },
  {
   "cell_type": "code",
   "execution_count": 94,
   "id": "111b475a-cd80-4cc6-bc0d-556231dedc45",
   "metadata": {},
   "outputs": [
    {
     "data": {
      "text/plain": [
       "6"
      ]
     },
     "execution_count": 94,
     "metadata": {},
     "output_type": "execute_result"
    }
   ],
   "source": [
    "m[2][2]"
   ]
  },
  {
   "cell_type": "code",
   "execution_count": 96,
   "id": "fc9d17f9-16dd-49fd-bec6-b1b3539f85fc",
   "metadata": {},
   "outputs": [],
   "source": [
    "lst_1.insert(2,\"gavi\")"
   ]
  },
  {
   "cell_type": "code",
   "execution_count": 97,
   "id": "9c6251da-d90c-4f59-9ba4-777561b35575",
   "metadata": {},
   "outputs": [
    {
     "data": {
      "text/plain": [
       "[1, 2, 'gavi', 'gavi', 'piyush', 'pedri']"
      ]
     },
     "execution_count": 97,
     "metadata": {},
     "output_type": "execute_result"
    }
   ],
   "source": [
    "lst_1"
   ]
  },
  {
   "cell_type": "code",
   "execution_count": 98,
   "id": "ad8d4a4b-104d-4e5a-8aa0-f83c3db213e7",
   "metadata": {},
   "outputs": [
    {
     "data": {
      "text/plain": [
       "'gavi'"
      ]
     },
     "execution_count": 98,
     "metadata": {},
     "output_type": "execute_result"
    }
   ],
   "source": [
    "lst_1.pop(2)"
   ]
  },
  {
   "cell_type": "code",
   "execution_count": 99,
   "id": "70fc55c7-f457-482d-bc9f-b5a064c8acac",
   "metadata": {},
   "outputs": [
    {
     "data": {
      "text/plain": [
       "[1, 2, 'gavi', 'piyush', 'pedri']"
      ]
     },
     "execution_count": 99,
     "metadata": {},
     "output_type": "execute_result"
    }
   ],
   "source": [
    "lst_1"
   ]
  },
  {
   "cell_type": "code",
   "execution_count": 100,
   "id": "c83044b4-72e4-4800-9d34-3a786d3d389a",
   "metadata": {},
   "outputs": [],
   "source": [
    "lst_1.insert(4,\"messi\")"
   ]
  },
  {
   "cell_type": "code",
   "execution_count": 101,
   "id": "e1dff0fc-53a0-43ab-a9f4-ad0a53720133",
   "metadata": {},
   "outputs": [
    {
     "data": {
      "text/plain": [
       "[1, 2, 'gavi', 'piyush', 'messi', 'pedri']"
      ]
     },
     "execution_count": 101,
     "metadata": {},
     "output_type": "execute_result"
    }
   ],
   "source": [
    "lst_1"
   ]
  },
  {
   "cell_type": "code",
   "execution_count": 1,
   "id": "8cc96efd-a7de-4601-a92b-fc30fce49e10",
   "metadata": {},
   "outputs": [],
   "source": [
    "l1=[1,2,3,\"aws\"]"
   ]
  },
  {
   "cell_type": "code",
   "execution_count": 2,
   "id": "c455aeb1-e217-427f-995a-33e50e7321cb",
   "metadata": {},
   "outputs": [],
   "source": [
    "s1={1,2}"
   ]
  },
  {
   "cell_type": "code",
   "execution_count": 4,
   "id": "1f5c63b7-a8e4-4227-a711-f25a632ac8cd",
   "metadata": {},
   "outputs": [],
   "source": [
    "l2=l1,s1"
   ]
  },
  {
   "cell_type": "code",
   "execution_count": 5,
   "id": "bbc5e668-0efd-4ad0-b38b-7e13ebed5e2d",
   "metadata": {},
   "outputs": [
    {
     "data": {
      "text/plain": [
       "([1, 2, 3, 'aws'], {1, 2})"
      ]
     },
     "execution_count": 5,
     "metadata": {},
     "output_type": "execute_result"
    }
   ],
   "source": [
    "l2"
   ]
  },
  {
   "cell_type": "code",
   "execution_count": 6,
   "id": "e16dd38d-d063-48c2-867f-3ce9b0e3a3c0",
   "metadata": {},
   "outputs": [
    {
     "name": "stdout",
     "output_type": "stream",
     "text": [
      "<class 'tuple'>\n"
     ]
    }
   ],
   "source": [
    "print(type(l2))"
   ]
  },
  {
   "cell_type": "code",
   "execution_count": null,
   "id": "5cc384f5-692e-42e2-bc4b-8f2abf80f952",
   "metadata": {},
   "outputs": [],
   "source": [
    "l2=[]"
   ]
  },
  {
   "cell_type": "code",
   "execution_count": null,
   "id": "5695df9d-c144-4bad-af1a-dbd81f060aea",
   "metadata": {},
   "outputs": [],
   "source": []
  }
 ],
 "metadata": {
  "kernelspec": {
   "display_name": "Python 3 (ipykernel)",
   "language": "python",
   "name": "python3"
  },
  "language_info": {
   "codemirror_mode": {
    "name": "ipython",
    "version": 3
   },
   "file_extension": ".py",
   "mimetype": "text/x-python",
   "name": "python",
   "nbconvert_exporter": "python",
   "pygments_lexer": "ipython3",
   "version": "3.10.8"
  }
 },
 "nbformat": 4,
 "nbformat_minor": 5
}
