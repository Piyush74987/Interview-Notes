{
 "cells": [
  {
   "cell_type": "markdown",
   "id": "42acb7fb-93e7-4dbc-8559-1adac92e79f9",
   "metadata": {},
   "source": [
    "# variable"
   ]
  },
  {
   "cell_type": "code",
   "execution_count": 1,
   "id": "bf8d6c64-9d62-4907-afd4-c12f27e514d2",
   "metadata": {},
   "outputs": [],
   "source": [
    "a=10"
   ]
  },
  {
   "cell_type": "code",
   "execution_count": 2,
   "id": "07991c01-e3f3-4d09-8017-ef93515d7ff0",
   "metadata": {},
   "outputs": [
    {
     "name": "stdout",
     "output_type": "stream",
     "text": [
      "10\n"
     ]
    }
   ],
   "source": [
    "print(a)"
   ]
  },
  {
   "cell_type": "markdown",
   "id": "0e0d2824-a837-4235-bca2-0f75f925084d",
   "metadata": {},
   "source": [
    "#Variables\n",
    "##Variables are containers for storing data values.\n",
    "\n"
   ]
  },
  {
   "cell_type": "code",
   "execution_count": 4,
   "id": "f212de78-2574-4777-a144-928f8f08691a",
   "metadata": {},
   "outputs": [
    {
     "name": "stdout",
     "output_type": "stream",
     "text": [
      "25 Piyush\n"
     ]
    }
   ],
   "source": [
    "x=25\n",
    "y=\"Piyush\"\n",
    "\n",
    "print(x,y)"
   ]
  },
  {
   "cell_type": "markdown",
   "id": "03ce2548-7990-46fe-aedf-93f765952dc8",
   "metadata": {},
   "source": [
    "# To write a variable there are some rules that should be follow\n",
    "\n",
    "## variable should not start by numbers \n",
    "## variable are case senstive a and A are differnt \n",
    "## variable should use any other symblioc accept (_) "
   ]
  },
  {
   "cell_type": "code",
   "execution_count": 5,
   "id": "3711963c-3654-458a-bedb-6a53027fffba",
   "metadata": {},
   "outputs": [
    {
     "ename": "SyntaxError",
     "evalue": "invalid decimal literal (4269295309.py, line 2)",
     "output_type": "error",
     "traceback": [
      "\u001b[0;36m  Cell \u001b[0;32mIn[5], line 2\u001b[0;36m\u001b[0m\n\u001b[0;31m    2course=15\u001b[0m\n\u001b[0m    ^\u001b[0m\n\u001b[0;31mSyntaxError\u001b[0m\u001b[0;31m:\u001b[0m invalid decimal literal\n"
     ]
    }
   ],
   "source": [
    "course_name=\"Data science \"\n",
    "2course=15\n"
   ]
  },
  {
   "cell_type": "markdown",
   "id": "41294858-fb63-4d85-a6fe-9757824d8a20",
   "metadata": {},
   "source": [
    "## as u can see we can not start with numbers "
   ]
  },
  {
   "cell_type": "code",
   "execution_count": 6,
   "id": "285b57a0-5bc1-4db2-8c69-44fd37fe0848",
   "metadata": {},
   "outputs": [],
   "source": [
    "course_name=\"Data science \"\n",
    "student=\"Piyush\"\n",
    "age=20\n",
    "Student=\"piyush\"\n"
   ]
  },
  {
   "cell_type": "markdown",
   "id": "e79ad874-3a9a-41c2-83ef-585b8c57e1b4",
   "metadata": {},
   "source": [
    "## there are 3 ways to write print "
   ]
  },
  {
   "cell_type": "code",
   "execution_count": 7,
   "id": "5e7066c2-99a5-4e7e-a323-5da1f8857bec",
   "metadata": {},
   "outputs": [
    {
     "name": "stdout",
     "output_type": "stream",
     "text": [
      "name of the course is Data science \n",
      "name of the student is Piyush\n",
      "name of the student is piyush\n"
     ]
    }
   ],
   "source": [
    "# normal print\n",
    "print(\"name of the course is\" ,course_name)\n",
    "print(\"name of the student is\" ,student)\n",
    "print(\"name of the student is\" ,Student)\n"
   ]
  },
  {
   "cell_type": "code",
   "execution_count": 8,
   "id": "100b9533-1fb9-4e55-8580-dbfd1d25fd77",
   "metadata": {},
   "outputs": [
    {
     "name": "stdout",
     "output_type": "stream",
     "text": [
      "the student name is Piyush he is studing Data science  course and his age is just 20\n"
     ]
    }
   ],
   "source": [
    "# f format\n",
    "print(f\"the student name is {student} he is studing {course_name} course and his age is just {age}\")"
   ]
  },
  {
   "cell_type": "code",
   "execution_count": 12,
   "id": "565e3f39-c8f8-4305-a74a-b6bed6f85ddb",
   "metadata": {},
   "outputs": [
    {
     "name": "stdout",
     "output_type": "stream",
     "text": [
      "The student name is Piyush he is studing Data science  course and his age is just 20\n",
      "The student name is Piyush he is studing Data science  course and his age is just 20\n"
     ]
    }
   ],
   "source": [
    "# placeholder \n",
    "print (\"The student name is {} he is studing {} course and his age is just {}\".format(student,course_name,age)) \n",
    "# there are two ways to write print in placeholderformat \n",
    "print (\"The student name is {s} he is studing {c} course and his age is just {a}\".format(a=age,c=course_name,s=student))"
   ]
  },
  {
   "cell_type": "markdown",
   "id": "fca2f0bd-3e8f-4420-97da-c457de89ccd8",
   "metadata": {},
   "source": [
    "# type of data type\n",
    "## Text Type:\tstr\n",
    "## Numeric Types:\tint, float, complex\n",
    "## Sequence Types:\tlist, tuple, range\n",
    "## Mapping Type:\tdict\n",
    "## Set Types:\tset, frozenset\n",
    "## Boolean Type:\tbool\n",
    "## Binary Types:\tbytes, bytearray, memoryview\n",
    "## None Type:\tNoneType"
   ]
  },
  {
   "cell_type": "code",
   "execution_count": 13,
   "id": "7c3091b8-e7d1-4f22-88e6-7b964c2e8ea6",
   "metadata": {},
   "outputs": [],
   "source": [
    "a=25"
   ]
  },
  {
   "cell_type": "code",
   "execution_count": 14,
   "id": "a4a87ac3-4d37-46c1-bad7-5f6fd77b95ee",
   "metadata": {},
   "outputs": [
    {
     "data": {
      "text/plain": [
       "int"
      ]
     },
     "execution_count": 14,
     "metadata": {},
     "output_type": "execute_result"
    }
   ],
   "source": [
    "type(a)"
   ]
  },
  {
   "cell_type": "code",
   "execution_count": 15,
   "id": "b4f780f9-2429-42a7-9f9a-2a9ca4776df8",
   "metadata": {},
   "outputs": [],
   "source": [
    "a=10\n",
    "b=\"piyu\"\n",
    "c=2.5\n",
    "d=True\n",
    "e=1+2j"
   ]
  },
  {
   "cell_type": "code",
   "execution_count": 23,
   "id": "e9ecc199-fbb1-47ef-9d12-6706e06decfa",
   "metadata": {},
   "outputs": [
    {
     "data": {
      "text/plain": [
       "int"
      ]
     },
     "execution_count": 23,
     "metadata": {},
     "output_type": "execute_result"
    }
   ],
   "source": [
    "type(a)"
   ]
  },
  {
   "cell_type": "code",
   "execution_count": 19,
   "id": "bc467191-cb25-4956-bac0-71f54f046af0",
   "metadata": {},
   "outputs": [
    {
     "data": {
      "text/plain": [
       "str"
      ]
     },
     "execution_count": 19,
     "metadata": {},
     "output_type": "execute_result"
    }
   ],
   "source": [
    "type(b)"
   ]
  },
  {
   "cell_type": "code",
   "execution_count": 20,
   "id": "ac9be929-7d16-4675-8415-307fd8b93418",
   "metadata": {},
   "outputs": [
    {
     "data": {
      "text/plain": [
       "float"
      ]
     },
     "execution_count": 20,
     "metadata": {},
     "output_type": "execute_result"
    }
   ],
   "source": [
    "type(c)"
   ]
  },
  {
   "cell_type": "code",
   "execution_count": 26,
   "id": "410aae8a-2e19-4c4e-9095-3f5813ef1310",
   "metadata": {},
   "outputs": [
    {
     "data": {
      "text/plain": [
       "int"
      ]
     },
     "execution_count": 26,
     "metadata": {},
     "output_type": "execute_result"
    }
   ],
   "source": [
    "type(d)\n"
   ]
  },
  {
   "cell_type": "code",
   "execution_count": 22,
   "id": "69995ac0-9699-4d69-9dba-b6b9288efe79",
   "metadata": {},
   "outputs": [
    {
     "data": {
      "text/plain": [
       "complex"
      ]
     },
     "execution_count": 22,
     "metadata": {},
     "output_type": "execute_result"
    }
   ],
   "source": [
    "type(e)"
   ]
  },
  {
   "cell_type": "markdown",
   "id": "7d99e639-176e-47e4-ba3d-1375756aa65f",
   "metadata": {},
   "source": [
    "# how to take input in program\n",
    "## we can use input() to take input in the program "
   ]
  },
  {
   "cell_type": "code",
   "execution_count": 27,
   "id": "db6f7dee-bcae-49fc-92ff-a3800c9253a7",
   "metadata": {},
   "outputs": [
    {
     "name": "stdin",
     "output_type": "stream",
     "text": [
      "enter the number: 5\n"
     ]
    },
    {
     "name": "stdout",
     "output_type": "stream",
     "text": [
      "5\n"
     ]
    }
   ],
   "source": [
    "a=input(\"enter the number:\")\n",
    "print (a)"
   ]
  },
  {
   "cell_type": "code",
   "execution_count": 28,
   "id": "b405ffa4-7817-4112-b9da-f1640f1e20bc",
   "metadata": {},
   "outputs": [
    {
     "data": {
      "text/plain": [
       "str"
      ]
     },
     "execution_count": 28,
     "metadata": {},
     "output_type": "execute_result"
    }
   ],
   "source": [
    "type(a)"
   ]
  },
  {
   "cell_type": "code",
   "execution_count": 29,
   "id": "cbbd38f0-9465-44d9-9459-135d0060e1c9",
   "metadata": {},
   "outputs": [
    {
     "name": "stdin",
     "output_type": "stream",
     "text": [
      "Enter the number : 9\n"
     ]
    },
    {
     "name": "stdout",
     "output_type": "stream",
     "text": [
      "9\n"
     ]
    },
    {
     "data": {
      "text/plain": [
       "int"
      ]
     },
     "execution_count": 29,
     "metadata": {},
     "output_type": "execute_result"
    }
   ],
   "source": [
    "# input is always string to convert it into int we need to use tyoe casting\n",
    "b=int(input(\"Enter the number :\"))\n",
    "print(b)\n",
    "type(b)"
   ]
  },
  {
   "cell_type": "markdown",
   "id": "b7a38b55-1365-4a1d-a51b-6ebaac7f5f8a",
   "metadata": {},
   "source": [
    "# python is dynmaic programing\n",
    "## we dont need to define variable data type\n"
   ]
  },
  {
   "cell_type": "code",
   "execution_count": 30,
   "id": "00b6fbb7-ce0d-4ba3-8e89-16b78e7a8833",
   "metadata": {},
   "outputs": [],
   "source": [
    "c=9.9"
   ]
  },
  {
   "cell_type": "code",
   "execution_count": 31,
   "id": "4d602205-425b-49e9-b4e0-3bce4e0d6b4b",
   "metadata": {},
   "outputs": [
    {
     "data": {
      "text/plain": [
       "float"
      ]
     },
     "execution_count": 31,
     "metadata": {},
     "output_type": "execute_result"
    }
   ],
   "source": [
    "type(c)"
   ]
  },
  {
   "cell_type": "code",
   "execution_count": null,
   "id": "2d1a6909-9e81-489a-bf34-6e3e7aaa1441",
   "metadata": {},
   "outputs": [],
   "source": []
  }
 ],
 "metadata": {
  "kernelspec": {
   "display_name": "Python 3 (ipykernel)",
   "language": "python",
   "name": "python3"
  },
  "language_info": {
   "codemirror_mode": {
    "name": "ipython",
    "version": 3
   },
   "file_extension": ".py",
   "mimetype": "text/x-python",
   "name": "python",
   "nbconvert_exporter": "python",
   "pygments_lexer": "ipython3",
   "version": "3.10.8"
  }
 },
 "nbformat": 4,
 "nbformat_minor": 5
}
